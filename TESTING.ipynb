{
 "cells": [
  {
   "cell_type": "code",
   "execution_count": 43,
   "metadata": {},
   "outputs": [],
   "source": [
    "import pandas as pd\n",
    "import numpy as np\n",
    "from functions import abbreviate_positions\n",
    "from sklearn.datasets import  fetch_california_housing\n",
    "import pandas as pd\n",
    "import numpy as np\n",
    "\n",
    "import matplotlib.pyplot as plt\n",
    "import seaborn as sns\n",
    "\n",
    "from sklearn.model_selection import train_test_split\n",
    "from sklearn.neighbors import KNeighborsRegressor\n",
    "\n",
    "from sklearn.preprocessing import MinMaxScaler, StandardScaler\n"
   ]
  },
  {
   "cell_type": "code",
   "execution_count": 44,
   "metadata": {},
   "outputs": [
    {
     "data": {
      "text/html": [
       "<div>\n",
       "<style scoped>\n",
       "    .dataframe tbody tr th:only-of-type {\n",
       "        vertical-align: middle;\n",
       "    }\n",
       "\n",
       "    .dataframe tbody tr th {\n",
       "        vertical-align: top;\n",
       "    }\n",
       "\n",
       "    .dataframe thead th {\n",
       "        text-align: right;\n",
       "    }\n",
       "</style>\n",
       "<table border=\"1\" class=\"dataframe\">\n",
       "  <thead>\n",
       "    <tr style=\"text-align: right;\">\n",
       "      <th></th>\n",
       "      <th>player</th>\n",
       "      <th>team</th>\n",
       "      <th>name</th>\n",
       "      <th>position</th>\n",
       "      <th>height</th>\n",
       "      <th>age</th>\n",
       "      <th>appearance</th>\n",
       "      <th>goals</th>\n",
       "      <th>assists</th>\n",
       "      <th>yellow cards</th>\n",
       "      <th>...</th>\n",
       "      <th>goals conceded</th>\n",
       "      <th>clean sheets</th>\n",
       "      <th>minutes played</th>\n",
       "      <th>days_injured</th>\n",
       "      <th>games_injured</th>\n",
       "      <th>award</th>\n",
       "      <th>current_value</th>\n",
       "      <th>highest_value</th>\n",
       "      <th>position_encoded</th>\n",
       "      <th>winger</th>\n",
       "    </tr>\n",
       "  </thead>\n",
       "  <tbody>\n",
       "    <tr>\n",
       "      <th>0</th>\n",
       "      <td>/david-de-gea/profil/spieler/59377</td>\n",
       "      <td>Manchester United</td>\n",
       "      <td>David de Gea</td>\n",
       "      <td>Goalkeeper</td>\n",
       "      <td>189.000000</td>\n",
       "      <td>32.0</td>\n",
       "      <td>104</td>\n",
       "      <td>0.000000</td>\n",
       "      <td>0.000000</td>\n",
       "      <td>0.009585</td>\n",
       "      <td>...</td>\n",
       "      <td>1.217252</td>\n",
       "      <td>0.335463</td>\n",
       "      <td>9390</td>\n",
       "      <td>42</td>\n",
       "      <td>5</td>\n",
       "      <td>13</td>\n",
       "      <td>15000000</td>\n",
       "      <td>70000000</td>\n",
       "      <td>1</td>\n",
       "      <td>0</td>\n",
       "    </tr>\n",
       "    <tr>\n",
       "      <th>1</th>\n",
       "      <td>/jack-butland/profil/spieler/128899</td>\n",
       "      <td>Manchester United</td>\n",
       "      <td>Jack Butland</td>\n",
       "      <td>Goalkeeper</td>\n",
       "      <td>196.000000</td>\n",
       "      <td>30.0</td>\n",
       "      <td>15</td>\n",
       "      <td>0.000000</td>\n",
       "      <td>0.000000</td>\n",
       "      <td>0.069018</td>\n",
       "      <td>...</td>\n",
       "      <td>1.242331</td>\n",
       "      <td>0.207055</td>\n",
       "      <td>1304</td>\n",
       "      <td>510</td>\n",
       "      <td>58</td>\n",
       "      <td>1</td>\n",
       "      <td>1500000</td>\n",
       "      <td>22000000</td>\n",
       "      <td>1</td>\n",
       "      <td>0</td>\n",
       "    </tr>\n",
       "    <tr>\n",
       "      <th>2</th>\n",
       "      <td>/tom-heaton/profil/spieler/34130</td>\n",
       "      <td>Manchester United</td>\n",
       "      <td>Tom Heaton</td>\n",
       "      <td>Goalkeeper</td>\n",
       "      <td>188.000000</td>\n",
       "      <td>37.0</td>\n",
       "      <td>4</td>\n",
       "      <td>0.000000</td>\n",
       "      <td>0.000000</td>\n",
       "      <td>0.000000</td>\n",
       "      <td>...</td>\n",
       "      <td>0.616438</td>\n",
       "      <td>0.924658</td>\n",
       "      <td>292</td>\n",
       "      <td>697</td>\n",
       "      <td>84</td>\n",
       "      <td>4</td>\n",
       "      <td>600000</td>\n",
       "      <td>6000000</td>\n",
       "      <td>1</td>\n",
       "      <td>0</td>\n",
       "    </tr>\n",
       "    <tr>\n",
       "      <th>3</th>\n",
       "      <td>/lisandro-martinez/profil/spieler/480762</td>\n",
       "      <td>Manchester United</td>\n",
       "      <td>Lisandro Martínez</td>\n",
       "      <td>Defender Centre-Back</td>\n",
       "      <td>175.000000</td>\n",
       "      <td>25.0</td>\n",
       "      <td>82</td>\n",
       "      <td>0.028090</td>\n",
       "      <td>0.056180</td>\n",
       "      <td>0.224719</td>\n",
       "      <td>...</td>\n",
       "      <td>0.000000</td>\n",
       "      <td>0.000000</td>\n",
       "      <td>6408</td>\n",
       "      <td>175</td>\n",
       "      <td>22</td>\n",
       "      <td>9</td>\n",
       "      <td>50000000</td>\n",
       "      <td>50000000</td>\n",
       "      <td>2</td>\n",
       "      <td>0</td>\n",
       "    </tr>\n",
       "    <tr>\n",
       "      <th>4</th>\n",
       "      <td>/raphael-varane/profil/spieler/164770</td>\n",
       "      <td>Manchester United</td>\n",
       "      <td>Raphaël Varane</td>\n",
       "      <td>Defender Centre-Back</td>\n",
       "      <td>191.000000</td>\n",
       "      <td>30.0</td>\n",
       "      <td>63</td>\n",
       "      <td>0.017889</td>\n",
       "      <td>0.017889</td>\n",
       "      <td>0.053667</td>\n",
       "      <td>...</td>\n",
       "      <td>0.000000</td>\n",
       "      <td>0.000000</td>\n",
       "      <td>5031</td>\n",
       "      <td>238</td>\n",
       "      <td>51</td>\n",
       "      <td>21</td>\n",
       "      <td>40000000</td>\n",
       "      <td>80000000</td>\n",
       "      <td>2</td>\n",
       "      <td>0</td>\n",
       "    </tr>\n",
       "    <tr>\n",
       "      <th>...</th>\n",
       "      <td>...</td>\n",
       "      <td>...</td>\n",
       "      <td>...</td>\n",
       "      <td>...</td>\n",
       "      <td>...</td>\n",
       "      <td>...</td>\n",
       "      <td>...</td>\n",
       "      <td>...</td>\n",
       "      <td>...</td>\n",
       "      <td>...</td>\n",
       "      <td>...</td>\n",
       "      <td>...</td>\n",
       "      <td>...</td>\n",
       "      <td>...</td>\n",
       "      <td>...</td>\n",
       "      <td>...</td>\n",
       "      <td>...</td>\n",
       "      <td>...</td>\n",
       "      <td>...</td>\n",
       "      <td>...</td>\n",
       "      <td>...</td>\n",
       "    </tr>\n",
       "    <tr>\n",
       "      <th>10749</th>\n",
       "      <td>/aidan-simmons/profil/spieler/867763</td>\n",
       "      <td>Western Sydney Wanderers</td>\n",
       "      <td>Aidan Simmons</td>\n",
       "      <td>Attack-RightWinger</td>\n",
       "      <td>181.240353</td>\n",
       "      <td>20.0</td>\n",
       "      <td>16</td>\n",
       "      <td>0.175953</td>\n",
       "      <td>0.087977</td>\n",
       "      <td>0.263930</td>\n",
       "      <td>...</td>\n",
       "      <td>0.000000</td>\n",
       "      <td>0.000000</td>\n",
       "      <td>1023</td>\n",
       "      <td>0</td>\n",
       "      <td>0</td>\n",
       "      <td>0</td>\n",
       "      <td>75000</td>\n",
       "      <td>75000</td>\n",
       "      <td>4</td>\n",
       "      <td>1</td>\n",
       "    </tr>\n",
       "    <tr>\n",
       "      <th>10750</th>\n",
       "      <td>/kusini-yengi/profil/spieler/708099</td>\n",
       "      <td>Western Sydney Wanderers</td>\n",
       "      <td>Kusini Yengi</td>\n",
       "      <td>Attack Centre-Forward</td>\n",
       "      <td>190.000000</td>\n",
       "      <td>24.0</td>\n",
       "      <td>26</td>\n",
       "      <td>0.372671</td>\n",
       "      <td>0.186335</td>\n",
       "      <td>0.186335</td>\n",
       "      <td>...</td>\n",
       "      <td>0.000000</td>\n",
       "      <td>0.000000</td>\n",
       "      <td>1449</td>\n",
       "      <td>102</td>\n",
       "      <td>18</td>\n",
       "      <td>0</td>\n",
       "      <td>300000</td>\n",
       "      <td>300000</td>\n",
       "      <td>4</td>\n",
       "      <td>0</td>\n",
       "    </tr>\n",
       "    <tr>\n",
       "      <th>10751</th>\n",
       "      <td>/nathanael-blair/profil/spieler/1023268</td>\n",
       "      <td>Western Sydney Wanderers</td>\n",
       "      <td>Nathanael Blair</td>\n",
       "      <td>Attack Centre-Forward</td>\n",
       "      <td>181.240353</td>\n",
       "      <td>19.0</td>\n",
       "      <td>20</td>\n",
       "      <td>0.375000</td>\n",
       "      <td>0.000000</td>\n",
       "      <td>0.187500</td>\n",
       "      <td>...</td>\n",
       "      <td>0.000000</td>\n",
       "      <td>0.000000</td>\n",
       "      <td>960</td>\n",
       "      <td>0</td>\n",
       "      <td>0</td>\n",
       "      <td>0</td>\n",
       "      <td>50000</td>\n",
       "      <td>50000</td>\n",
       "      <td>4</td>\n",
       "      <td>0</td>\n",
       "    </tr>\n",
       "    <tr>\n",
       "      <th>10752</th>\n",
       "      <td>/zachary-sapsford/profil/spieler/703657</td>\n",
       "      <td>Western Sydney Wanderers</td>\n",
       "      <td>Zachary Sapsford</td>\n",
       "      <td>Attack Centre-Forward</td>\n",
       "      <td>181.240353</td>\n",
       "      <td>20.0</td>\n",
       "      <td>17</td>\n",
       "      <td>0.312139</td>\n",
       "      <td>0.104046</td>\n",
       "      <td>0.000000</td>\n",
       "      <td>...</td>\n",
       "      <td>0.000000</td>\n",
       "      <td>0.000000</td>\n",
       "      <td>865</td>\n",
       "      <td>0</td>\n",
       "      <td>0</td>\n",
       "      <td>0</td>\n",
       "      <td>50000</td>\n",
       "      <td>50000</td>\n",
       "      <td>4</td>\n",
       "      <td>0</td>\n",
       "    </tr>\n",
       "    <tr>\n",
       "      <th>10753</th>\n",
       "      <td>/alexander-badolato/profil/spieler/957230</td>\n",
       "      <td>Western Sydney Wanderers</td>\n",
       "      <td>Alexander Badolato</td>\n",
       "      <td>Attack Centre-Forward</td>\n",
       "      <td>170.000000</td>\n",
       "      <td>18.0</td>\n",
       "      <td>21</td>\n",
       "      <td>0.000000</td>\n",
       "      <td>0.000000</td>\n",
       "      <td>0.086042</td>\n",
       "      <td>...</td>\n",
       "      <td>0.000000</td>\n",
       "      <td>0.000000</td>\n",
       "      <td>1046</td>\n",
       "      <td>0</td>\n",
       "      <td>0</td>\n",
       "      <td>0</td>\n",
       "      <td>25000</td>\n",
       "      <td>25000</td>\n",
       "      <td>4</td>\n",
       "      <td>0</td>\n",
       "    </tr>\n",
       "  </tbody>\n",
       "</table>\n",
       "<p>10754 rows × 22 columns</p>\n",
       "</div>"
      ],
      "text/plain": [
       "                                          player                      team  \\\n",
       "0             /david-de-gea/profil/spieler/59377         Manchester United   \n",
       "1            /jack-butland/profil/spieler/128899         Manchester United   \n",
       "2               /tom-heaton/profil/spieler/34130         Manchester United   \n",
       "3       /lisandro-martinez/profil/spieler/480762         Manchester United   \n",
       "4          /raphael-varane/profil/spieler/164770         Manchester United   \n",
       "...                                          ...                       ...   \n",
       "10749       /aidan-simmons/profil/spieler/867763  Western Sydney Wanderers   \n",
       "10750        /kusini-yengi/profil/spieler/708099  Western Sydney Wanderers   \n",
       "10751    /nathanael-blair/profil/spieler/1023268  Western Sydney Wanderers   \n",
       "10752    /zachary-sapsford/profil/spieler/703657  Western Sydney Wanderers   \n",
       "10753  /alexander-badolato/profil/spieler/957230  Western Sydney Wanderers   \n",
       "\n",
       "                     name               position      height   age  \\\n",
       "0            David de Gea             Goalkeeper  189.000000  32.0   \n",
       "1            Jack Butland             Goalkeeper  196.000000  30.0   \n",
       "2              Tom Heaton             Goalkeeper  188.000000  37.0   \n",
       "3       Lisandro Martínez   Defender Centre-Back  175.000000  25.0   \n",
       "4          Raphaël Varane   Defender Centre-Back  191.000000  30.0   \n",
       "...                   ...                    ...         ...   ...   \n",
       "10749       Aidan Simmons     Attack-RightWinger  181.240353  20.0   \n",
       "10750        Kusini Yengi  Attack Centre-Forward  190.000000  24.0   \n",
       "10751     Nathanael Blair  Attack Centre-Forward  181.240353  19.0   \n",
       "10752    Zachary Sapsford  Attack Centre-Forward  181.240353  20.0   \n",
       "10753  Alexander Badolato  Attack Centre-Forward  170.000000  18.0   \n",
       "\n",
       "       appearance     goals   assists  yellow cards  ...  goals conceded  \\\n",
       "0             104  0.000000  0.000000      0.009585  ...        1.217252   \n",
       "1              15  0.000000  0.000000      0.069018  ...        1.242331   \n",
       "2               4  0.000000  0.000000      0.000000  ...        0.616438   \n",
       "3              82  0.028090  0.056180      0.224719  ...        0.000000   \n",
       "4              63  0.017889  0.017889      0.053667  ...        0.000000   \n",
       "...           ...       ...       ...           ...  ...             ...   \n",
       "10749          16  0.175953  0.087977      0.263930  ...        0.000000   \n",
       "10750          26  0.372671  0.186335      0.186335  ...        0.000000   \n",
       "10751          20  0.375000  0.000000      0.187500  ...        0.000000   \n",
       "10752          17  0.312139  0.104046      0.000000  ...        0.000000   \n",
       "10753          21  0.000000  0.000000      0.086042  ...        0.000000   \n",
       "\n",
       "       clean sheets  minutes played  days_injured  games_injured  award  \\\n",
       "0          0.335463            9390            42              5     13   \n",
       "1          0.207055            1304           510             58      1   \n",
       "2          0.924658             292           697             84      4   \n",
       "3          0.000000            6408           175             22      9   \n",
       "4          0.000000            5031           238             51     21   \n",
       "...             ...             ...           ...            ...    ...   \n",
       "10749      0.000000            1023             0              0      0   \n",
       "10750      0.000000            1449           102             18      0   \n",
       "10751      0.000000             960             0              0      0   \n",
       "10752      0.000000             865             0              0      0   \n",
       "10753      0.000000            1046             0              0      0   \n",
       "\n",
       "       current_value  highest_value  position_encoded  winger  \n",
       "0           15000000       70000000                 1       0  \n",
       "1            1500000       22000000                 1       0  \n",
       "2             600000        6000000                 1       0  \n",
       "3           50000000       50000000                 2       0  \n",
       "4           40000000       80000000                 2       0  \n",
       "...              ...            ...               ...     ...  \n",
       "10749          75000          75000                 4       1  \n",
       "10750         300000         300000                 4       0  \n",
       "10751          50000          50000                 4       0  \n",
       "10752          50000          50000                 4       0  \n",
       "10753          25000          25000                 4       0  \n",
       "\n",
       "[10754 rows x 22 columns]"
      ]
     },
     "execution_count": 44,
     "metadata": {},
     "output_type": "execute_result"
    }
   ],
   "source": [
    "df = pd.read_csv(\"final_data.csv\")\n",
    "df"
   ]
  },
  {
   "cell_type": "code",
   "execution_count": 45,
   "metadata": {},
   "outputs": [
    {
     "name": "stdout",
     "output_type": "stream",
     "text": [
      "<class 'pandas.core.frame.DataFrame'>\n",
      "RangeIndex: 10754 entries, 0 to 10753\n",
      "Data columns (total 22 columns):\n",
      " #   Column               Non-Null Count  Dtype  \n",
      "---  ------               --------------  -----  \n",
      " 0   player               10754 non-null  object \n",
      " 1   team                 10754 non-null  object \n",
      " 2   name                 10754 non-null  object \n",
      " 3   position             10754 non-null  object \n",
      " 4   height               10754 non-null  float64\n",
      " 5   age                  10754 non-null  float64\n",
      " 6   appearance           10754 non-null  int64  \n",
      " 7   goals                10754 non-null  float64\n",
      " 8   assists              10754 non-null  float64\n",
      " 9   yellow cards         10754 non-null  float64\n",
      " 10  second yellow cards  10754 non-null  float64\n",
      " 11  red cards            10754 non-null  float64\n",
      " 12  goals conceded       10754 non-null  float64\n",
      " 13  clean sheets         10754 non-null  float64\n",
      " 14  minutes played       10754 non-null  int64  \n",
      " 15  days_injured         10754 non-null  int64  \n",
      " 16  games_injured        10754 non-null  int64  \n",
      " 17  award                10754 non-null  int64  \n",
      " 18  current_value        10754 non-null  int64  \n",
      " 19  highest_value        10754 non-null  int64  \n",
      " 20  position_encoded     10754 non-null  int64  \n",
      " 21  winger               10754 non-null  int64  \n",
      "dtypes: float64(9), int64(9), object(4)\n",
      "memory usage: 1.8+ MB\n"
     ]
    }
   ],
   "source": [
    "df.info()"
   ]
  },
  {
   "cell_type": "markdown",
   "metadata": {},
   "source": [
    "# Data Cleaning and Wrangling"
   ]
  },
  {
   "cell_type": "markdown",
   "metadata": {},
   "source": [
    "- Verifying the missing values"
   ]
  },
  {
   "cell_type": "code",
   "execution_count": 46,
   "metadata": {},
   "outputs": [
    {
     "data": {
      "text/plain": [
       "player                 0\n",
       "team                   0\n",
       "name                   0\n",
       "position               0\n",
       "height                 0\n",
       "age                    0\n",
       "appearance             0\n",
       "goals                  0\n",
       "assists                0\n",
       "yellow cards           0\n",
       "second yellow cards    0\n",
       "red cards              0\n",
       "goals conceded         0\n",
       "clean sheets           0\n",
       "minutes played         0\n",
       "days_injured           0\n",
       "games_injured          0\n",
       "award                  0\n",
       "current_value          0\n",
       "highest_value          0\n",
       "position_encoded       0\n",
       "winger                 0\n",
       "dtype: int64"
      ]
     },
     "execution_count": 46,
     "metadata": {},
     "output_type": "execute_result"
    }
   ],
   "source": [
    "#verify the missing values\n",
    "df.isnull().sum()"
   ]
  },
  {
   "cell_type": "markdown",
   "metadata": {},
   "source": [
    "- Round every numerical value to 2 decimal number"
   ]
  },
  {
   "cell_type": "code",
   "execution_count": 47,
   "metadata": {},
   "outputs": [],
   "source": [
    "#round everything to 2 decimal places\n",
    "df = df.round(2)"
   ]
  },
  {
   "cell_type": "markdown",
   "metadata": {},
   "source": [
    "- Removing unnecessary columns"
   ]
  },
  {
   "cell_type": "code",
   "execution_count": 48,
   "metadata": {},
   "outputs": [],
   "source": [
    "#remove player, position_encoded andwinger columns\n",
    "df = df.drop(['player', 'position_encoded', 'winger'], axis=1)\n"
   ]
  },
  {
   "cell_type": "code",
   "execution_count": 49,
   "metadata": {},
   "outputs": [
    {
     "data": {
      "text/html": [
       "<div>\n",
       "<style scoped>\n",
       "    .dataframe tbody tr th:only-of-type {\n",
       "        vertical-align: middle;\n",
       "    }\n",
       "\n",
       "    .dataframe tbody tr th {\n",
       "        vertical-align: top;\n",
       "    }\n",
       "\n",
       "    .dataframe thead th {\n",
       "        text-align: right;\n",
       "    }\n",
       "</style>\n",
       "<table border=\"1\" class=\"dataframe\">\n",
       "  <thead>\n",
       "    <tr style=\"text-align: right;\">\n",
       "      <th></th>\n",
       "      <th>team</th>\n",
       "      <th>name</th>\n",
       "      <th>position</th>\n",
       "      <th>height</th>\n",
       "      <th>age</th>\n",
       "      <th>appearance</th>\n",
       "      <th>goals</th>\n",
       "      <th>assists</th>\n",
       "      <th>yellow cards</th>\n",
       "      <th>second yellow cards</th>\n",
       "      <th>red cards</th>\n",
       "      <th>goals conceded</th>\n",
       "      <th>clean sheets</th>\n",
       "      <th>minutes played</th>\n",
       "      <th>days_injured</th>\n",
       "      <th>games_injured</th>\n",
       "      <th>award</th>\n",
       "      <th>current_value</th>\n",
       "      <th>highest_value</th>\n",
       "    </tr>\n",
       "  </thead>\n",
       "  <tbody>\n",
       "    <tr>\n",
       "      <th>0</th>\n",
       "      <td>Manchester United</td>\n",
       "      <td>David de Gea</td>\n",
       "      <td>Goalkeeper</td>\n",
       "      <td>189.0</td>\n",
       "      <td>32.0</td>\n",
       "      <td>104</td>\n",
       "      <td>0.0</td>\n",
       "      <td>0.0</td>\n",
       "      <td>0.01</td>\n",
       "      <td>0.0</td>\n",
       "      <td>0.0</td>\n",
       "      <td>1.22</td>\n",
       "      <td>0.34</td>\n",
       "      <td>9390</td>\n",
       "      <td>42</td>\n",
       "      <td>5</td>\n",
       "      <td>13</td>\n",
       "      <td>15000000</td>\n",
       "      <td>70000000</td>\n",
       "    </tr>\n",
       "  </tbody>\n",
       "</table>\n",
       "</div>"
      ],
      "text/plain": [
       "                team          name    position  height   age  appearance  \\\n",
       "0  Manchester United  David de Gea  Goalkeeper   189.0  32.0         104   \n",
       "\n",
       "   goals  assists  yellow cards  second yellow cards  red cards  \\\n",
       "0    0.0      0.0          0.01                  0.0        0.0   \n",
       "\n",
       "   goals conceded  clean sheets  minutes played  days_injured  games_injured  \\\n",
       "0            1.22          0.34            9390            42              5   \n",
       "\n",
       "   award  current_value  highest_value  \n",
       "0     13       15000000       70000000  "
      ]
     },
     "execution_count": 49,
     "metadata": {},
     "output_type": "execute_result"
    }
   ],
   "source": [
    "df.head(1)"
   ]
  },
  {
   "cell_type": "markdown",
   "metadata": {},
   "source": [
    "- Mapping positions"
   ]
  },
  {
   "cell_type": "code",
   "execution_count": 50,
   "metadata": {},
   "outputs": [
    {
     "data": {
      "text/plain": [
       "array(['Goalkeeper', 'Defender Centre-Back', 'Defender Left-Back',\n",
       "       'Defender Right-Back', 'midfield-DefensiveMidfield',\n",
       "       'midfield-CentralMidfield', 'midfield-AttackingMidfield',\n",
       "       'Attack-LeftWinger', 'Attack-RightWinger', 'Attack Centre-Forward',\n",
       "       'midfield-RightMidfield', 'midfield-LeftMidfield',\n",
       "       'Attack-SecondStriker', 'midfield', 'Attack', 'Defender'],\n",
       "      dtype=object)"
      ]
     },
     "execution_count": 50,
     "metadata": {},
     "output_type": "execute_result"
    }
   ],
   "source": [
    "#position unique values\n",
    "df['position'].unique()"
   ]
  },
  {
   "cell_type": "code",
   "execution_count": 51,
   "metadata": {},
   "outputs": [],
   "source": [
    "# Apply the function to the 'position' column\n",
    "df['position'] = df['position'].apply(abbreviate_positions)"
   ]
  },
  {
   "cell_type": "code",
   "execution_count": 52,
   "metadata": {},
   "outputs": [
    {
     "data": {
      "text/html": [
       "<div>\n",
       "<style scoped>\n",
       "    .dataframe tbody tr th:only-of-type {\n",
       "        vertical-align: middle;\n",
       "    }\n",
       "\n",
       "    .dataframe tbody tr th {\n",
       "        vertical-align: top;\n",
       "    }\n",
       "\n",
       "    .dataframe thead th {\n",
       "        text-align: right;\n",
       "    }\n",
       "</style>\n",
       "<table border=\"1\" class=\"dataframe\">\n",
       "  <thead>\n",
       "    <tr style=\"text-align: right;\">\n",
       "      <th></th>\n",
       "      <th>team</th>\n",
       "      <th>name</th>\n",
       "      <th>position</th>\n",
       "      <th>height</th>\n",
       "      <th>age</th>\n",
       "      <th>appearance</th>\n",
       "      <th>goals</th>\n",
       "      <th>assists</th>\n",
       "      <th>yellow cards</th>\n",
       "      <th>second yellow cards</th>\n",
       "      <th>red cards</th>\n",
       "      <th>goals conceded</th>\n",
       "      <th>clean sheets</th>\n",
       "      <th>minutes played</th>\n",
       "      <th>days_injured</th>\n",
       "      <th>games_injured</th>\n",
       "      <th>award</th>\n",
       "      <th>current_value</th>\n",
       "      <th>highest_value</th>\n",
       "    </tr>\n",
       "  </thead>\n",
       "  <tbody>\n",
       "    <tr>\n",
       "      <th>9265</th>\n",
       "      <td>Al-Batin FC</td>\n",
       "      <td>Juan Sebastián Pedroza</td>\n",
       "      <td>MF</td>\n",
       "      <td>176.0</td>\n",
       "      <td>24.0</td>\n",
       "      <td>18</td>\n",
       "      <td>0.00</td>\n",
       "      <td>0.12</td>\n",
       "      <td>0.18</td>\n",
       "      <td>0.06</td>\n",
       "      <td>0.00</td>\n",
       "      <td>0.0</td>\n",
       "      <td>0.0</td>\n",
       "      <td>1523</td>\n",
       "      <td>0</td>\n",
       "      <td>0</td>\n",
       "      <td>0</td>\n",
       "      <td>600000</td>\n",
       "      <td>800000</td>\n",
       "    </tr>\n",
       "    <tr>\n",
       "      <th>910</th>\n",
       "      <td>Eintracht Frankfurt</td>\n",
       "      <td>Randal Kolo Muani</td>\n",
       "      <td>ATT</td>\n",
       "      <td>187.0</td>\n",
       "      <td>24.0</td>\n",
       "      <td>87</td>\n",
       "      <td>0.46</td>\n",
       "      <td>0.31</td>\n",
       "      <td>0.12</td>\n",
       "      <td>0.01</td>\n",
       "      <td>0.01</td>\n",
       "      <td>0.0</td>\n",
       "      <td>0.0</td>\n",
       "      <td>7035</td>\n",
       "      <td>4</td>\n",
       "      <td>1</td>\n",
       "      <td>2</td>\n",
       "      <td>65000000</td>\n",
       "      <td>65000000</td>\n",
       "    </tr>\n",
       "  </tbody>\n",
       "</table>\n",
       "</div>"
      ],
      "text/plain": [
       "                     team                    name position  height   age  \\\n",
       "9265          Al-Batin FC  Juan Sebastián Pedroza       MF   176.0  24.0   \n",
       "910   Eintracht Frankfurt       Randal Kolo Muani      ATT   187.0  24.0   \n",
       "\n",
       "      appearance  goals  assists  yellow cards  second yellow cards  \\\n",
       "9265          18   0.00     0.12          0.18                 0.06   \n",
       "910           87   0.46     0.31          0.12                 0.01   \n",
       "\n",
       "      red cards  goals conceded  clean sheets  minutes played  days_injured  \\\n",
       "9265       0.00             0.0           0.0            1523             0   \n",
       "910        0.01             0.0           0.0            7035             4   \n",
       "\n",
       "      games_injured  award  current_value  highest_value  \n",
       "9265              0      0         600000         800000  \n",
       "910               1      2       65000000       65000000  "
      ]
     },
     "execution_count": 52,
     "metadata": {},
     "output_type": "execute_result"
    }
   ],
   "source": [
    "df.sample(2)"
   ]
  },
  {
   "cell_type": "markdown",
   "metadata": {},
   "source": [
    "- Convert age column to integer"
   ]
  },
  {
   "cell_type": "code",
   "execution_count": 53,
   "metadata": {},
   "outputs": [],
   "source": [
    "#pass age to int\n",
    "df['age'] = df['age'].astype(int)"
   ]
  },
  {
   "cell_type": "code",
   "execution_count": 54,
   "metadata": {},
   "outputs": [
    {
     "data": {
      "text/html": [
       "<div>\n",
       "<style scoped>\n",
       "    .dataframe tbody tr th:only-of-type {\n",
       "        vertical-align: middle;\n",
       "    }\n",
       "\n",
       "    .dataframe tbody tr th {\n",
       "        vertical-align: top;\n",
       "    }\n",
       "\n",
       "    .dataframe thead th {\n",
       "        text-align: right;\n",
       "    }\n",
       "</style>\n",
       "<table border=\"1\" class=\"dataframe\">\n",
       "  <thead>\n",
       "    <tr style=\"text-align: right;\">\n",
       "      <th></th>\n",
       "      <th>team</th>\n",
       "      <th>name</th>\n",
       "      <th>position</th>\n",
       "      <th>height</th>\n",
       "      <th>age</th>\n",
       "      <th>appearance</th>\n",
       "      <th>goals</th>\n",
       "      <th>assists</th>\n",
       "      <th>yellow cards</th>\n",
       "      <th>second yellow cards</th>\n",
       "      <th>red cards</th>\n",
       "      <th>goals conceded</th>\n",
       "      <th>clean sheets</th>\n",
       "      <th>minutes played</th>\n",
       "      <th>days_injured</th>\n",
       "      <th>games_injured</th>\n",
       "      <th>award</th>\n",
       "      <th>current_value</th>\n",
       "      <th>highest_value</th>\n",
       "    </tr>\n",
       "  </thead>\n",
       "  <tbody>\n",
       "    <tr>\n",
       "      <th>0</th>\n",
       "      <td>Manchester United</td>\n",
       "      <td>David de Gea</td>\n",
       "      <td>GK</td>\n",
       "      <td>189.0</td>\n",
       "      <td>32</td>\n",
       "      <td>104</td>\n",
       "      <td>0.0</td>\n",
       "      <td>0.0</td>\n",
       "      <td>0.01</td>\n",
       "      <td>0.0</td>\n",
       "      <td>0.0</td>\n",
       "      <td>1.22</td>\n",
       "      <td>0.34</td>\n",
       "      <td>9390</td>\n",
       "      <td>42</td>\n",
       "      <td>5</td>\n",
       "      <td>13</td>\n",
       "      <td>15000000</td>\n",
       "      <td>70000000</td>\n",
       "    </tr>\n",
       "  </tbody>\n",
       "</table>\n",
       "</div>"
      ],
      "text/plain": [
       "                team          name position  height  age  appearance  goals  \\\n",
       "0  Manchester United  David de Gea       GK   189.0   32         104    0.0   \n",
       "\n",
       "   assists  yellow cards  second yellow cards  red cards  goals conceded  \\\n",
       "0      0.0          0.01                  0.0        0.0            1.22   \n",
       "\n",
       "   clean sheets  minutes played  days_injured  games_injured  award  \\\n",
       "0          0.34            9390            42              5     13   \n",
       "\n",
       "   current_value  highest_value  \n",
       "0       15000000       70000000  "
      ]
     },
     "execution_count": 54,
     "metadata": {},
     "output_type": "execute_result"
    }
   ],
   "source": [
    "df.head(1)"
   ]
  },
  {
   "cell_type": "markdown",
   "metadata": {},
   "source": [
    "- Convert categorical variables to numerical"
   ]
  },
  {
   "cell_type": "code",
   "execution_count": 55,
   "metadata": {},
   "outputs": [],
   "source": [
    "df.drop(columns=\"name\", inplace=True)"
   ]
  },
  {
   "cell_type": "markdown",
   "metadata": {},
   "source": [
    "- Turn categorical columns into numerical and normalize the data."
   ]
  },
  {
   "cell_type": "code",
   "execution_count": 56,
   "metadata": {},
   "outputs": [
    {
     "name": "stderr",
     "output_type": "stream",
     "text": [
      "/opt/anaconda3/lib/python3.11/site-packages/sklearn/preprocessing/_encoders.py:868: FutureWarning:\n",
      "\n",
      "`sparse` was renamed to `sparse_output` in version 1.2 and will be removed in 1.4. `sparse_output` is ignored unless you leave `sparse` to its default value.\n",
      "\n"
     ]
    },
    {
     "data": {
      "text/html": [
       "<div>\n",
       "<style scoped>\n",
       "    .dataframe tbody tr th:only-of-type {\n",
       "        vertical-align: middle;\n",
       "    }\n",
       "\n",
       "    .dataframe tbody tr th {\n",
       "        vertical-align: top;\n",
       "    }\n",
       "\n",
       "    .dataframe thead th {\n",
       "        text-align: right;\n",
       "    }\n",
       "</style>\n",
       "<table border=\"1\" class=\"dataframe\">\n",
       "  <thead>\n",
       "    <tr style=\"text-align: right;\">\n",
       "      <th></th>\n",
       "      <th>height</th>\n",
       "      <th>age</th>\n",
       "      <th>appearance</th>\n",
       "      <th>goals</th>\n",
       "      <th>assists</th>\n",
       "      <th>yellow cards</th>\n",
       "      <th>second yellow cards</th>\n",
       "      <th>red cards</th>\n",
       "      <th>goals conceded</th>\n",
       "      <th>clean sheets</th>\n",
       "      <th>...</th>\n",
       "      <th>PCA_1</th>\n",
       "      <th>PCA_2</th>\n",
       "      <th>PCA_3</th>\n",
       "      <th>PCA_4</th>\n",
       "      <th>PCA_5</th>\n",
       "      <th>PCA_6</th>\n",
       "      <th>PCA_7</th>\n",
       "      <th>PCA_8</th>\n",
       "      <th>PCA_9</th>\n",
       "      <th>PCA_10</th>\n",
       "    </tr>\n",
       "  </thead>\n",
       "  <tbody>\n",
       "    <tr>\n",
       "      <th>0</th>\n",
       "      <td>189.0</td>\n",
       "      <td>32</td>\n",
       "      <td>104</td>\n",
       "      <td>0.00</td>\n",
       "      <td>0.00</td>\n",
       "      <td>0.01</td>\n",
       "      <td>0.0</td>\n",
       "      <td>0.0</td>\n",
       "      <td>1.22</td>\n",
       "      <td>0.34</td>\n",
       "      <td>...</td>\n",
       "      <td>-0.065926</td>\n",
       "      <td>0.037753</td>\n",
       "      <td>1.020202</td>\n",
       "      <td>0.045214</td>\n",
       "      <td>0.002432</td>\n",
       "      <td>-0.016720</td>\n",
       "      <td>0.025429</td>\n",
       "      <td>0.029765</td>\n",
       "      <td>0.013883</td>\n",
       "      <td>-0.033297</td>\n",
       "    </tr>\n",
       "    <tr>\n",
       "      <th>1</th>\n",
       "      <td>196.0</td>\n",
       "      <td>30</td>\n",
       "      <td>15</td>\n",
       "      <td>0.00</td>\n",
       "      <td>0.00</td>\n",
       "      <td>0.07</td>\n",
       "      <td>0.0</td>\n",
       "      <td>0.0</td>\n",
       "      <td>1.24</td>\n",
       "      <td>0.21</td>\n",
       "      <td>...</td>\n",
       "      <td>-0.065926</td>\n",
       "      <td>0.037753</td>\n",
       "      <td>1.020202</td>\n",
       "      <td>0.045214</td>\n",
       "      <td>0.002432</td>\n",
       "      <td>-0.016720</td>\n",
       "      <td>0.025429</td>\n",
       "      <td>0.029765</td>\n",
       "      <td>0.013883</td>\n",
       "      <td>-0.033297</td>\n",
       "    </tr>\n",
       "    <tr>\n",
       "      <th>2</th>\n",
       "      <td>188.0</td>\n",
       "      <td>37</td>\n",
       "      <td>4</td>\n",
       "      <td>0.00</td>\n",
       "      <td>0.00</td>\n",
       "      <td>0.00</td>\n",
       "      <td>0.0</td>\n",
       "      <td>0.0</td>\n",
       "      <td>0.62</td>\n",
       "      <td>0.92</td>\n",
       "      <td>...</td>\n",
       "      <td>-0.065926</td>\n",
       "      <td>0.037753</td>\n",
       "      <td>1.020202</td>\n",
       "      <td>0.045214</td>\n",
       "      <td>0.002432</td>\n",
       "      <td>-0.016720</td>\n",
       "      <td>0.025429</td>\n",
       "      <td>0.029765</td>\n",
       "      <td>0.013883</td>\n",
       "      <td>-0.033297</td>\n",
       "    </tr>\n",
       "    <tr>\n",
       "      <th>3</th>\n",
       "      <td>175.0</td>\n",
       "      <td>25</td>\n",
       "      <td>82</td>\n",
       "      <td>0.03</td>\n",
       "      <td>0.06</td>\n",
       "      <td>0.22</td>\n",
       "      <td>0.0</td>\n",
       "      <td>0.0</td>\n",
       "      <td>0.00</td>\n",
       "      <td>0.00</td>\n",
       "      <td>...</td>\n",
       "      <td>0.770510</td>\n",
       "      <td>-0.122265</td>\n",
       "      <td>-0.108772</td>\n",
       "      <td>0.044209</td>\n",
       "      <td>0.002747</td>\n",
       "      <td>-0.017711</td>\n",
       "      <td>0.024544</td>\n",
       "      <td>0.030729</td>\n",
       "      <td>0.013410</td>\n",
       "      <td>-0.032872</td>\n",
       "    </tr>\n",
       "    <tr>\n",
       "      <th>4</th>\n",
       "      <td>191.0</td>\n",
       "      <td>30</td>\n",
       "      <td>63</td>\n",
       "      <td>0.02</td>\n",
       "      <td>0.02</td>\n",
       "      <td>0.05</td>\n",
       "      <td>0.0</td>\n",
       "      <td>0.0</td>\n",
       "      <td>0.00</td>\n",
       "      <td>0.00</td>\n",
       "      <td>...</td>\n",
       "      <td>0.770510</td>\n",
       "      <td>-0.122265</td>\n",
       "      <td>-0.108772</td>\n",
       "      <td>0.044209</td>\n",
       "      <td>0.002747</td>\n",
       "      <td>-0.017711</td>\n",
       "      <td>0.024544</td>\n",
       "      <td>0.030729</td>\n",
       "      <td>0.013410</td>\n",
       "      <td>-0.032872</td>\n",
       "    </tr>\n",
       "  </tbody>\n",
       "</table>\n",
       "<p>5 rows × 26 columns</p>\n",
       "</div>"
      ],
      "text/plain": [
       "   height  age  appearance  goals  assists  yellow cards  second yellow cards  \\\n",
       "0   189.0   32         104   0.00     0.00          0.01                  0.0   \n",
       "1   196.0   30          15   0.00     0.00          0.07                  0.0   \n",
       "2   188.0   37           4   0.00     0.00          0.00                  0.0   \n",
       "3   175.0   25          82   0.03     0.06          0.22                  0.0   \n",
       "4   191.0   30          63   0.02     0.02          0.05                  0.0   \n",
       "\n",
       "   red cards  goals conceded  clean sheets  ...     PCA_1     PCA_2     PCA_3  \\\n",
       "0        0.0            1.22          0.34  ... -0.065926  0.037753  1.020202   \n",
       "1        0.0            1.24          0.21  ... -0.065926  0.037753  1.020202   \n",
       "2        0.0            0.62          0.92  ... -0.065926  0.037753  1.020202   \n",
       "3        0.0            0.00          0.00  ...  0.770510 -0.122265 -0.108772   \n",
       "4        0.0            0.00          0.00  ...  0.770510 -0.122265 -0.108772   \n",
       "\n",
       "      PCA_4     PCA_5     PCA_6     PCA_7     PCA_8     PCA_9    PCA_10  \n",
       "0  0.045214  0.002432 -0.016720  0.025429  0.029765  0.013883 -0.033297  \n",
       "1  0.045214  0.002432 -0.016720  0.025429  0.029765  0.013883 -0.033297  \n",
       "2  0.045214  0.002432 -0.016720  0.025429  0.029765  0.013883 -0.033297  \n",
       "3  0.044209  0.002747 -0.017711  0.024544  0.030729  0.013410 -0.032872  \n",
       "4  0.044209  0.002747 -0.017711  0.024544  0.030729  0.013410 -0.032872  \n",
       "\n",
       "[5 rows x 26 columns]"
      ]
     },
     "execution_count": 56,
     "metadata": {},
     "output_type": "execute_result"
    }
   ],
   "source": [
    "import pandas as pd\n",
    "from sklearn.preprocessing import OneHotEncoder\n",
    "from sklearn.decomposition import PCA\n",
    "\n",
    "\n",
    "# Aplicar One-Hot Encoding a las columnas categóricas 'team' y 'position'\n",
    "encoder = OneHotEncoder(sparse=False)\n",
    "encoded_team_position = encoder.fit_transform(df[['team', 'position']])\n",
    "\n",
    "# Convertir los datos codificados a un DataFrame con nombres de columnas apropiados\n",
    "encoded_df = pd.DataFrame(encoded_team_position, columns=encoder.get_feature_names_out(['team', 'position']))\n",
    "\n",
    "# Concatenar las columnas codificadas con las demás columnas numéricas\n",
    "df_encoded = df.drop(['team', 'position'], axis=1)\n",
    "df_encoded = pd.concat([df_encoded, encoded_df], axis=1)\n",
    "\n",
    "# Aplicar PCA solo a las columnas de One-Hot Encoding\n",
    "pca = PCA(n_components=10)  # Ajusta el número de componentes según sea necesario\n",
    "pca_components = pca.fit_transform(df_encoded[encoded_df.columns])\n",
    "\n",
    "# Convertir los componentes principales a un DataFrame\n",
    "pca_df = pd.DataFrame(pca_components, columns=[f'PCA_{i+1}' for i in range(pca_components.shape[1])])\n",
    "\n",
    "# Concatenar los componentes principales con las demás columnas numéricas\n",
    "df_final = pd.concat([df_encoded.drop(columns=encoded_df.columns), pca_df], axis=1)\n",
    "\n",
    "# Mostrar las primeras filas del DataFrame final\n",
    "df_final.head()"
   ]
  },
  {
   "cell_type": "code",
   "execution_count": 57,
   "metadata": {},
   "outputs": [
    {
     "data": {
      "image/png": "[encoded data removed]",
      "text/plain": [
       "<Figure size 1200x1000 with 2 Axes>"
      ]
     },
     "metadata": {},
     "output_type": "display_data"
    }
   ],
   "source": [
    "# Crear la matriz de correlación\n",
    "corr_matrix = df_final.corr()\n",
    "\n",
    "# Crear un heatmap para mostrar la correlación entre las características y el target\n",
    "plt.figure(figsize=(12, 10))\n",
    "sns.heatmap(corr_matrix, annot=False, cmap='coolwarm', fmt=\".2f\", linewidths=0.5)\n",
    "plt.title(\"Correlation Heatmap Between Features and Target\")\n",
    "plt.show()"
   ]
  },
  {
   "cell_type": "code",
   "execution_count": 58,
   "metadata": {},
   "outputs": [
    {
     "data": {
      "application/vnd.plotly.v1+json": {
       "config": {
        "plotlyServerURL": "https://plot.ly"
       },
       "data": [
        {
         "coloraxis": "coloraxis",
         "hovertemplate": "x: %{x}<br>y: %{y}<br>color: %{z}<extra></extra>",
         "name": "0",
         "type": "heatmap",
         "x": [
          "height",
          "age",
          "appearance",
          "goals",
          "assists",
          "yellow cards",
          "second yellow cards",
          "red cards",
          "goals conceded",
          "clean sheets",
          "minutes played",
          "days_injured",
          "games_injured",
          "award",
          "current_value",
          "highest_value",
          "PCA_1",
          "PCA_2",
          "PCA_3",
          "PCA_4",
          "PCA_5",
          "PCA_6",
          "PCA_7",
          "PCA_8",
          "PCA_9",
          "PCA_10"
         ],
         "xaxis": "x",
         "y": [
          "height",
          "age",
          "appearance",
          "goals",
          "assists",
          "yellow cards",
          "second yellow cards",
          "red cards",
          "goals conceded",
          "clean sheets",
          "minutes played",
          "days_injured",
          "games_injured",
          "award",
          "current_value",
          "highest_value",
          "PCA_1",
          "PCA_2",
          "PCA_3",
          "PCA_4",
          "PCA_5",
          "PCA_6",
          "PCA_7",
          "PCA_8",
          "PCA_9",
          "PCA_10"
         ],
         "yaxis": "y",
         "z": [
          [
           1,
           0.06365447984921357,
           0.060642446100372976,
           -0.056006043186484375,
           -0.202449399359233,
           -0.03796078416271934,
           -0.005249166927390095,
           -0.005678702065430846,
           0.3330813664070359,
           0.04435965907852127,
           0.1328883365395781,
           0.05939281280716441,
           0.054903522299189,
           0.0139771065964028,
           0.0405361350631466,
           0.03677671130701018,
           0.22212605840011562,
           0.035448071194914214,
           0.4001237507351639,
           -0.011034987387803777,
           0.003275460096454056,
           0.009588927625148362,
           -0.0010885770106046789,
           0.0038734037076884253,
           0.013299082536941398,
           -0.014367737424455313
          ],
          [
           0.06365447984921357,
           1,
           0.13985910531149084,
           -0.034706208781045654,
           -0.024000799260311064,
           0.007161959798436103,
           0.015851045120248736,
           0.002977683129941239,
           0.08336166466304851,
           0.039062780091964025,
           0.16903241391610646,
           0.3242750336509511,
           0.3430377042582874,
           0.36348399427210865,
           -0.05015120558352937,
           0.12347356812570388,
           0.06313282956504603,
           0.004659666930728059,
           0.10967679101430772,
           -0.014849828067394833,
           -0.017925361578840365,
           -0.023236113583356057,
           -0.003133938597836336,
           -0.017320967239066017,
           -0.04090280237818596,
           0.0015974768212911926
          ],
          [
           0.060642446100372976,
           0.13985910531149084,
           1,
           0.1316344397218388,
           0.1574782188093589,
           -0.023011173468731817,
           -0.007932403936421101,
           -0.024429958301984602,
           -0.10136393538871213,
           -0.032501393757556715,
           0.9453647050164989,
           0.12736883175380787,
           0.14752766926046315,
           0.22213907382398831,
           0.4196560172857331,
           0.4183942895019615,
           -0.024171331646116682,
           0.011383388449691627,
           -0.16565719750860533,
           -0.024111927637013492,
           -0.05917350714839737,
           -0.05958918951555372,
           -0.005544485398504766,
           0.009296563410888825,
           -0.006773579021368158,
           -0.038168240917036016
          ],
          [
           -0.056006043186484375,
           -0.034706208781045654,
           0.1316344397218388,
           1,
           0.21833060786033143,
           -0.01282787577010164,
           -0.014144768906653764,
           -0.01401935566956355,
           -0.15817508169058062,
           -0.02581932127507566,
           0.05103571450836931,
           0.037670661347305255,
           0.04186539017389046,
           0.09971828853535994,
           0.12161748752142297,
           0.129126248309007,
           -0.24041100682666713,
           0.3309066200067129,
           -0.20978342837104091,
           0.0012718012577416981,
           0.0036981512222487205,
           -0.016464457587298337,
           -0.005847902997191518,
           0.00590609079907501,
           0.025498840277095286,
           0.0008071591573406468
          ],
          [
           -0.202449399359233,
           -0.024000799260311064,
           0.1574782188093589,
           0.21833060786033143,
           1,
           -0.004404170246554264,
           0.01928767924600098,
           -0.01326857532860117,
           -0.18066174952383154,
           -0.029466914544668307,
           0.08141408898804112,
           0.039654191889845036,
           0.04959529243474399,
           0.09186582581906445,
           0.1377987274814027,
           0.1458634005825206,
           -0.18512757109070285,
           0.13713833453100005,
           -0.22960257319859162,
           0.01112269747528549,
           -0.005233221528291961,
           -0.02911507881550126,
           -0.01847515874584799,
           -0.0034013484696153824,
           0.024298590465336025,
           -0.001635809153960698
          ],
          [
           -0.03796078416271934,
           0.007161959798436103,
           -0.023011173468731817,
           -0.01282787577010164,
           -0.004404170246554264,
           1,
           0.028687137058719267,
           -0.0029669459975531598,
           -0.09373163296430068,
           -0.017121398509361,
           -0.03956927650794288,
           0.0113614627090324,
           0.012780374325408083,
           -0.00896896077674469,
           -0.011769689321887938,
           -0.009693676488088485,
           -0.010842677696133762,
           -0.012035274433253147,
           -0.11549530442846523,
           0.002237801918339369,
           0.001387854449134958,
           -0.001947368592583723,
           0.005433300659092426,
           -0.016790565701555252,
           -0.007532174821440111,
           -0.011194752678531093
          ],
          [
           -0.005249166927390095,
           0.015851045120248736,
           -0.007932403936421101,
           -0.014144768906653764,
           0.01928767924600098,
           0.028687137058719267,
           1,
           -0.0024516729520852503,
           -0.045708289972985525,
           -0.0067352851978499184,
           -0.010964405743526114,
           0.0034445181670544286,
           0.006798190346688727,
           -0.015584995082723648,
           -0.014978152857567503,
           -0.014975753529240332,
           0.027166355223749362,
           -0.025425368273804785,
           -0.050805662443111695,
           0.006498413543007778,
           0.006276541807637021,
           0.005092199029529858,
           -0.0015576714948612462,
           -0.018789410516546926,
           0.01108503787979891,
           0.02010172731412799
          ],
          [
           -0.005678702065430846,
           0.002977683129941239,
           -0.024429958301984602,
           -0.01401935566956355,
           -0.01326857532860117,
           -0.0029669459975531598,
           -0.0024516729520852503,
           1,
           -0.004519046150064758,
           -0.0017783889171324766,
           -0.0243410885350039,
           -0.003586841936687553,
           -0.004711159686001368,
           -0.007789470065219336,
           -0.01039883583505067,
           -0.007367177207254262,
           -0.004045791391317315,
           -0.0033409853975919727,
           -0.005880846166133717,
           -0.0058270055983291906,
           -0.006689698591014808,
           -0.008692030661257661,
           -0.0028217681720259535,
           -0.005279667010350459,
           0.011092312235722638,
           0.00005211096011666816
          ],
          [
           0.3330813664070359,
           0.08336166466304851,
           -0.10136393538871213,
           -0.15817508169058062,
           -0.18066174952383154,
           -0.09373163296430068,
           -0.045708289972985525,
           -0.004519046150064758,
           1,
           0.06745850638221869,
           -0.004242713480375465,
           -0.030933218020744002,
           -0.04215073282284547,
           -0.01151225742523312,
           -0.06352625350861313,
           -0.061175290553806334,
           -0.035236701061969765,
           0.021250475955851243,
           0.8276363911593019,
           0.0015499998950345008,
           -0.0017353224483448735,
           -0.009805767175754656,
           0.005490983538636698,
           0.0024989217522973428,
           -0.001185409275414082,
           -0.00817437227978737
          ],
          [
           0.04435965907852127,
           0.039062780091964025,
           -0.032501393757556715,
           -0.02581932127507566,
           -0.029466914544668307,
           -0.017121398509361,
           -0.0067352851978499184,
           -0.0017783889171324766,
           0.06745850638221869,
           1,
           -0.02017442470584677,
           0.0012739843184783484,
           0.005610565218592489,
           0.003001320125440128,
           -0.01168308025521755,
           -0.008299198889014875,
           -0.005745033431695356,
           0.0034569878055015378,
           0.13500154188462948,
           -0.0034724237572617443,
           -0.004307460390857763,
           0.0024547442636041303,
           -0.004756502076199057,
           -0.003813801033883101,
           0.00533177327717282,
           0.0006621808297965698
          ],
          [
           0.1328883365395781,
           0.16903241391610646,
           0.9453647050164989,
           0.05103571450836931,
           0.08141408898804112,
           -0.03956927650794288,
           -0.010964405743526114,
           -0.0243410885350039,
           -0.004242713480375465,
           -0.02017442470584677,
           1,
           0.10758169473880168,
           0.12367414230538619,
           0.21455030641195327,
           0.4205415722483411,
           0.3993889442873286,
           0.07893428823726518,
           -0.056301831846866074,
           -0.04897191115694824,
           -0.022901537341108173,
           -0.051776963154274165,
           -0.05359356340785437,
           -0.004525534975543996,
           0.010587581964839441,
           -0.0064373714758402915,
           -0.03330277895618768
          ],
          [
           0.05939281280716441,
           0.3242750336509511,
           0.12736883175380787,
           0.037670661347305255,
           0.039654191889845036,
           0.0113614627090324,
           0.0034445181670544286,
           -0.003586841936687553,
           -0.030933218020744002,
           0.0012739843184783484,
           0.10758169473880168,
           1,
           0.954172703295832,
           0.2551243162858294,
           0.10768631699782132,
           0.23435178331310044,
           0.041190197795731014,
           0.004378420696701774,
           -0.05415228364589766,
           -0.022057946252430863,
           -0.02138055349810042,
           -0.006217742777152001,
           0.0030334112723614647,
           -0.01926349386295012,
           0.028798757413026295,
           -0.004344492511792147
          ],
          [
           0.054903522299189,
           0.3430377042582874,
           0.14752766926046315,
           0.04186539017389046,
           0.04959529243474399,
           0.012780374325408083,
           0.006798190346688727,
           -0.004711159686001368,
           -0.04215073282284547,
           0.005610565218592489,
           0.12367414230538619,
           0.954172703295832,
           1,
           0.3084595019158769,
           0.1356542080017363,
           0.2852444135735979,
           0.03890194158117644,
           -0.0015081170617529934,
           -0.06454998328810224,
           -0.023012193203725953,
           -0.028323052331158633,
           -0.00972720847984717,
           -0.0014813607348374165,
           -0.022885882594206573,
           0.0293387436704929,
           -0.0004936884814875609
          ],
          [
           0.0139771065964028,
           0.36348399427210865,
           0.22213907382398831,
           0.09971828853535994,
           0.09186582581906445,
           -0.00896896077674469,
           -0.015584995082723648,
           -0.007789470065219336,
           -0.01151225742523312,
           0.003001320125440128,
           0.21455030641195327,
           0.2551243162858294,
           0.3084595019158769,
           1,
           0.3004535109105002,
           0.5286412421452019,
           -0.01401475335595885,
           0.029906292033642746,
           -0.01024985891982875,
           -0.012529842810235165,
           -0.022110326271284925,
           -0.010505754347657957,
           -0.006196511713037282,
           -0.006007234893897937,
           0.026647511207080997,
           -0.013264847426613529
          ],
          [
           0.0405361350631466,
           -0.05015120558352937,
           0.4196560172857331,
           0.12161748752142297,
           0.1377987274814027,
           -0.011769689321887938,
           -0.014978152857567503,
           -0.01039883583505067,
           -0.06352625350861313,
           -0.01168308025521755,
           0.4205415722483411,
           0.10768631699782132,
           0.1356542080017363,
           0.3004535109105002,
           1,
           0.8345530981111615,
           -0.039726065270024494,
           0.018628632811362435,
           -0.08002479323970618,
           -0.00666495611446667,
           -0.031566327595832375,
           -0.011164020852320284,
           0.0035745158698380834,
           0.0046678270013650125,
           0.012530450768524964,
           -0.01897587711853376
          ],
          [
           0.03677671130701018,
           0.12347356812570388,
           0.4183942895019615,
           0.129126248309007,
           0.1458634005825206,
           -0.009693676488088485,
           -0.014975753529240332,
           -0.007367177207254262,
           -0.061175290553806334,
           -0.008299198889014875,
           0.3993889442873286,
           0.23435178331310044,
           0.2852444135735979,
           0.5286412421452019,
           0.8345530981111615,
           1,
           -0.051708447388564956,
           0.03729913430493426,
           -0.08023248760854164,
           -0.007060436881110114,
           -0.03561048697133235,
           -0.011749124210719879,
           0.0005269616094751119,
           0.0036415149468889373,
           0.01480789612310437,
           -0.022550412259528706
          ],
          [
           0.22212605840011562,
           0.06313282956504603,
           -0.024171331646116682,
           -0.24041100682666713,
           -0.18512757109070285,
           -0.010842677696133762,
           0.027166355223749362,
           -0.004045791391317315,
           -0.035236701061969765,
           -0.005745033431695356,
           0.07893428823726518,
           0.041190197795731014,
           0.03890194158117644,
           -0.01401475335595885,
           -0.039726065270024494,
           -0.051708447388564956,
           1,
           7.493132450331583e-15,
           -3.6484425134013293e-16,
           -4.1865106854059856e-17,
           -2.5982759728932782e-17,
           1.8117317745527794e-17,
           -3.564298994581346e-17,
           -2.0653519885860604e-17,
           1.495399773451391e-17,
           8.898785060436965e-18
          ],
          [
           0.035448071194914214,
           0.004659666930728059,
           0.011383388449691627,
           0.3309066200067129,
           0.13713833453100005,
           -0.012035274433253147,
           -0.025425368273804785,
           -0.0033409853975919727,
           0.021250475955851243,
           0.0034569878055015378,
           -0.056301831846866074,
           0.004378420696701774,
           -0.0015081170617529934,
           0.029906292033642746,
           0.018628632811362435,
           0.03729913430493426,
           7.493132450331583e-15,
           1,
           -7.908734875033011e-16,
           -1.161087153575331e-16,
           -1.3369580920087837e-17,
           -4.450478279064006e-18,
           -1.0017202590795852e-16,
           -8.884393241648761e-17,
           -5.3041199572765415e-17,
           1.0479582113101707e-16
          ],
          [
           0.4001237507351639,
           0.10967679101430772,
           -0.16565719750860533,
           -0.20978342837104091,
           -0.22960257319859162,
           -0.11549530442846523,
           -0.050805662443111695,
           -0.005880846166133717,
           0.8276363911593019,
           0.13500154188462948,
           -0.04897191115694824,
           -0.05415228364589766,
           -0.06454998328810224,
           -0.01024985891982875,
           -0.08002479323970618,
           -0.08023248760854164,
           -3.6484425134013293e-16,
           -7.908734875033011e-16,
           1,
           -5.453820280103224e-17,
           -5.500273794969535e-18,
           3.0340938243439518e-18,
           -2.3392681915971163e-18,
           -5.159472806152685e-17,
           -1.9072676261629135e-17,
           1.8853047160741222e-17
          ],
          [
           -0.011034987387803777,
           -0.014849828067394833,
           -0.024111927637013492,
           0.0012718012577416981,
           0.01112269747528549,
           0.002237801918339369,
           0.006498413543007778,
           -0.0058270055983291906,
           0.0015499998950345008,
           -0.0034724237572617443,
           -0.022901537341108173,
           -0.022057946252430863,
           -0.023012193203725953,
           -0.012529842810235165,
           -0.00666495611446667,
           -0.007060436881110114,
           -4.1865106854059856e-17,
           -1.161087153575331e-16,
           -5.453820280103224e-17,
           1,
           -1.3063521515040799e-15,
           -6.606150025805372e-17,
           -9.413078138012023e-16,
           -4.518184370839191e-16,
           1.7789457449113875e-15,
           -2.73563990880824e-16
          ],
          [
           0.003275460096454056,
           -0.017925361578840365,
           -0.05917350714839737,
           0.0036981512222487205,
           -0.005233221528291961,
           0.001387854449134958,
           0.006276541807637021,
           -0.006689698591014808,
           -0.0017353224483448735,
           -0.004307460390857763,
           -0.051776963154274165,
           -0.02138055349810042,
           -0.028323052331158633,
           -0.022110326271284925,
           -0.031566327595832375,
           -0.03561048697133235,
           -2.5982759728932782e-17,
           -1.3369580920087837e-17,
           -5.500273794969535e-18,
           -1.3063521515040799e-15,
           1,
           -1.3260846309070127e-15,
           -6.433605017502161e-16,
           -3.275819035527903e-15,
           1.1062117765029228e-15,
           -4.630041658892908e-16
          ],
          [
           0.009588927625148362,
           -0.023236113583356057,
           -0.05958918951555372,
           -0.016464457587298337,
           -0.02911507881550126,
           -0.001947368592583723,
           0.005092199029529858,
           -0.008692030661257661,
           -0.009805767175754656,
           0.0024547442636041303,
           -0.05359356340785437,
           -0.006217742777152001,
           -0.00972720847984717,
           -0.010505754347657957,
           -0.011164020852320284,
           -0.011749124210719879,
           1.8117317745527794e-17,
           -4.450478279064006e-18,
           3.0340938243439518e-18,
           -6.606150025805372e-17,
           -1.3260846309070127e-15,
           1,
           -7.973059037821706e-16,
           2.1888374424785224e-15,
           1.5448793882856716e-15,
           -3.876477959106667e-16
          ],
          [
           -0.0010885770106046789,
           -0.003133938597836336,
           -0.005544485398504766,
           -0.005847902997191518,
           -0.01847515874584799,
           0.005433300659092426,
           -0.0015576714948612462,
           -0.0028217681720259535,
           0.005490983538636698,
           -0.004756502076199057,
           -0.004525534975543996,
           0.0030334112723614647,
           -0.0014813607348374165,
           -0.006196511713037282,
           0.0035745158698380834,
           0.0005269616094751119,
           -3.564298994581346e-17,
           -1.0017202590795852e-16,
           -2.3392681915971163e-18,
           -9.413078138012023e-16,
           -6.433605017502161e-16,
           -7.973059037821706e-16,
           1,
           2.0759805501903757e-16,
           1.6047872928569433e-15,
           1.4029373218038578e-15
          ],
          [
           0.0038734037076884253,
           -0.017320967239066017,
           0.009296563410888825,
           0.00590609079907501,
           -0.0034013484696153824,
           -0.016790565701555252,
           -0.018789410516546926,
           -0.005279667010350459,
           0.0024989217522973428,
           -0.003813801033883101,
           0.010587581964839441,
           -0.01926349386295012,
           -0.022885882594206573,
           -0.006007234893897937,
           0.0046678270013650125,
           0.0036415149468889373,
           -2.0653519885860604e-17,
           -8.884393241648761e-17,
           -5.159472806152685e-17,
           -4.518184370839191e-16,
           -3.275819035527903e-15,
           2.1888374424785224e-15,
           2.0759805501903757e-16,
           1,
           -1.8214779695594024e-15,
           -9.558374405198254e-16
          ],
          [
           0.013299082536941398,
           -0.04090280237818596,
           -0.006773579021368158,
           0.025498840277095286,
           0.024298590465336025,
           -0.007532174821440111,
           0.01108503787979891,
           0.011092312235722638,
           -0.001185409275414082,
           0.00533177327717282,
           -0.0064373714758402915,
           0.028798757413026295,
           0.0293387436704929,
           0.026647511207080997,
           0.012530450768524964,
           0.01480789612310437,
           1.495399773451391e-17,
           -5.3041199572765415e-17,
           -1.9072676261629135e-17,
           1.7789457449113875e-15,
           1.1062117765029228e-15,
           1.5448793882856716e-15,
           1.6047872928569433e-15,
           -1.8214779695594024e-15,
           1,
           -8.091403694921181e-16
          ],
          [
           -0.014367737424455313,
           0.0015974768212911926,
           -0.038168240917036016,
           0.0008071591573406468,
           -0.001635809153960698,
           -0.011194752678531093,
           0.02010172731412799,
           0.00005211096011666816,
           -0.00817437227978737,
           0.0006621808297965698,
           -0.03330277895618768,
           -0.004344492511792147,
           -0.0004936884814875609,
           -0.013264847426613529,
           -0.01897587711853376,
           -0.022550412259528706,
           8.898785060436965e-18,
           1.0479582113101707e-16,
           1.8853047160741222e-17,
           -2.73563990880824e-16,
           -4.630041658892908e-16,
           -3.876477959106667e-16,
           1.4029373218038578e-15,
           -9.558374405198254e-16,
           -8.091403694921181e-16,
           1
          ]
         ]
        }
       ],
       "layout": {
        "annotations": [
         {
          "font": {
           "size": 8
          },
          "showarrow": false,
          "text": "1.00",
          "x": "height",
          "y": "height"
         },
         {
          "font": {
           "size": 8
          },
          "showarrow": false,
          "text": "0.06",
          "x": "age",
          "y": "height"
         },
         {
          "font": {
           "size": 8
          },
          "showarrow": false,
          "text": "0.06",
          "x": "appearance",
          "y": "height"
         },
         {
          "font": {
           "size": 8
          },
          "showarrow": false,
          "text": "-0.06",
          "x": "goals",
          "y": "height"
         },
         {
          "font": {
           "size": 8
          },
          "showarrow": false,
          "text": "-0.20",
          "x": "assists",
          "y": "height"
         },
         {
          "font": {
           "size": 8
          },
          "showarrow": false,
          "text": "-0.04",
          "x": "yellow cards",
          "y": "height"
         },
         {
          "font": {
           "size": 8
          },
          "showarrow": false,
          "text": "-0.01",
          "x": "second yellow cards",
          "y": "height"
         },
         {
          "font": {
           "size": 8
          },
          "showarrow": false,
          "text": "-0.01",
          "x": "red cards",
          "y": "height"
         },
         {
          "font": {
           "size": 8
          },
          "showarrow": false,
          "text": "0.33",
          "x": "goals conceded",
          "y": "height"
         },
         {
          "font": {
           "size": 8
          },
          "showarrow": false,
          "text": "0.04",
          "x": "clean sheets",
          "y": "height"
         },
         {
          "font": {
           "size": 8
          },
          "showarrow": false,
          "text": "0.13",
          "x": "minutes played",
          "y": "height"
         },
         {
          "font": {
           "size": 8
          },
          "showarrow": false,
          "text": "0.06",
          "x": "days_injured",
          "y": "height"
         },
         {
          "font": {
           "size": 8
          },
          "showarrow": false,
          "text": "0.05",
          "x": "games_injured",
          "y": "height"
         },
         {
          "font": {
           "size": 8
          },
          "showarrow": false,
          "text": "0.01",
          "x": "award",
          "y": "height"
         },
         {
          "font": {
           "size": 8
          },
          "showarrow": false,
          "text": "0.04",
          "x": "current_value",
          "y": "height"
         },
         {
          "font": {
           "size": 8
          },
          "showarrow": false,
          "text": "0.04",
          "x": "highest_value",
          "y": "height"
         },
         {
          "font": {
           "size": 8
          },
          "showarrow": false,
          "text": "0.22",
          "x": "PCA_1",
          "y": "height"
         },
         {
          "font": {
           "size": 8
          },
          "showarrow": false,
          "text": "0.04",
          "x": "PCA_2",
          "y": "height"
         },
         {
          "font": {
           "size": 8
          },
          "showarrow": false,
          "text": "0.40",
          "x": "PCA_3",
          "y": "height"
         },
         {
          "font": {
           "size": 8
          },
          "showarrow": false,
          "text": "-0.01",
          "x": "PCA_4",
          "y": "height"
         },
         {
          "font": {
           "size": 8
          },
          "showarrow": false,
          "text": "0.00",
          "x": "PCA_5",
          "y": "height"
         },
         {
          "font": {
           "size": 8
          },
          "showarrow": false,
          "text": "0.01",
          "x": "PCA_6",
          "y": "height"
         },
         {
          "font": {
           "size": 8
          },
          "showarrow": false,
          "text": "-0.00",
          "x": "PCA_7",
          "y": "height"
         },
         {
          "font": {
           "size": 8
          },
          "showarrow": false,
          "text": "0.00",
          "x": "PCA_8",
          "y": "height"
         },
         {
          "font": {
           "size": 8
          },
          "showarrow": false,
          "text": "0.01",
          "x": "PCA_9",
          "y": "height"
         },
         {
          "font": {
           "size": 8
          },
          "showarrow": false,
          "text": "-0.01",
          "x": "PCA_10",
          "y": "height"
         },
         {
          "font": {
           "size": 8
          },
          "showarrow": false,
          "text": "0.06",
          "x": "height",
          "y": "age"
         },
         {
          "font": {
           "size": 8
          },
          "showarrow": false,
          "text": "1.00",
          "x": "age",
          "y": "age"
         },
         {
          "font": {
           "size": 8
          },
          "showarrow": false,
          "text": "0.14",
          "x": "appearance",
          "y": "age"
         },
         {
          "font": {
           "size": 8
          },
          "showarrow": false,
          "text": "-0.03",
          "x": "goals",
          "y": "age"
         },
         {
          "font": {
           "size": 8
          },
          "showarrow": false,
          "text": "-0.02",
          "x": "assists",
          "y": "age"
         },
         {
          "font": {
           "size": 8
          },
          "showarrow": false,
          "text": "0.01",
          "x": "yellow cards",
          "y": "age"
         },
         {
          "font": {
           "size": 8
          },
          "showarrow": false,
          "text": "0.02",
          "x": "second yellow cards",
          "y": "age"
         },
         {
          "font": {
           "size": 8
          },
          "showarrow": false,
          "text": "0.00",
          "x": "red cards",
          "y": "age"
         },
         {
          "font": {
           "size": 8
          },
          "showarrow": false,
          "text": "0.08",
          "x": "goals conceded",
          "y": "age"
         },
         {
          "font": {
           "size": 8
          },
          "showarrow": false,
          "text": "0.04",
          "x": "clean sheets",
          "y": "age"
         },
         {
          "font": {
           "size": 8
          },
          "showarrow": false,
          "text": "0.17",
          "x": "minutes played",
          "y": "age"
         },
         {
          "font": {
           "size": 8
          },
          "showarrow": false,
          "text": "0.32",
          "x": "days_injured",
          "y": "age"
         },
         {
          "font": {
           "size": 8
          },
          "showarrow": false,
          "text": "0.34",
          "x": "games_injured",
          "y": "age"
         },
         {
          "font": {
           "size": 8
          },
          "showarrow": false,
          "text": "0.36",
          "x": "award",
          "y": "age"
         },
         {
          "font": {
           "size": 8
          },
          "showarrow": false,
          "text": "-0.05",
          "x": "current_value",
          "y": "age"
         },
         {
          "font": {
           "size": 8
          },
          "showarrow": false,
          "text": "0.12",
          "x": "highest_value",
          "y": "age"
         },
         {
          "font": {
           "size": 8
          },
          "showarrow": false,
          "text": "0.06",
          "x": "PCA_1",
          "y": "age"
         },
         {
          "font": {
           "size": 8
          },
          "showarrow": false,
          "text": "0.00",
          "x": "PCA_2",
          "y": "age"
         },
         {
          "font": {
           "size": 8
          },
          "showarrow": false,
          "text": "0.11",
          "x": "PCA_3",
          "y": "age"
         },
         {
          "font": {
           "size": 8
          },
          "showarrow": false,
          "text": "-0.01",
          "x": "PCA_4",
          "y": "age"
         },
         {
          "font": {
           "size": 8
          },
          "showarrow": false,
          "text": "-0.02",
          "x": "PCA_5",
          "y": "age"
         },
         {
          "font": {
           "size": 8
          },
          "showarrow": false,
          "text": "-0.02",
          "x": "PCA_6",
          "y": "age"
         },
         {
          "font": {
           "size": 8
          },
          "showarrow": false,
          "text": "-0.00",
          "x": "PCA_7",
          "y": "age"
         },
         {
          "font": {
           "size": 8
          },
          "showarrow": false,
          "text": "-0.02",
          "x": "PCA_8",
          "y": "age"
         },
         {
          "font": {
           "size": 8
          },
          "showarrow": false,
          "text": "-0.04",
          "x": "PCA_9",
          "y": "age"
         },
         {
          "font": {
           "size": 8
          },
          "showarrow": false,
          "text": "0.00",
          "x": "PCA_10",
          "y": "age"
         },
         {
          "font": {
           "size": 8
          },
          "showarrow": false,
          "text": "0.06",
          "x": "height",
          "y": "appearance"
         },
         {
          "font": {
           "size": 8
          },
          "showarrow": false,
          "text": "0.14",
          "x": "age",
          "y": "appearance"
         },
         {
          "font": {
           "size": 8
          },
          "showarrow": false,
          "text": "1.00",
          "x": "appearance",
          "y": "appearance"
         },
         {
          "font": {
           "size": 8
          },
          "showarrow": false,
          "text": "0.13",
          "x": "goals",
          "y": "appearance"
         },
         {
          "font": {
           "size": 8
          },
          "showarrow": false,
          "text": "0.16",
          "x": "assists",
          "y": "appearance"
         },
         {
          "font": {
           "size": 8
          },
          "showarrow": false,
          "text": "-0.02",
          "x": "yellow cards",
          "y": "appearance"
         },
         {
          "font": {
           "size": 8
          },
          "showarrow": false,
          "text": "-0.01",
          "x": "second yellow cards",
          "y": "appearance"
         },
         {
          "font": {
           "size": 8
          },
          "showarrow": false,
          "text": "-0.02",
          "x": "red cards",
          "y": "appearance"
         },
         {
          "font": {
           "size": 8
          },
          "showarrow": false,
          "text": "-0.10",
          "x": "goals conceded",
          "y": "appearance"
         },
         {
          "font": {
           "size": 8
          },
          "showarrow": false,
          "text": "-0.03",
          "x": "clean sheets",
          "y": "appearance"
         },
         {
          "font": {
           "size": 8
          },
          "showarrow": false,
          "text": "0.95",
          "x": "minutes played",
          "y": "appearance"
         },
         {
          "font": {
           "size": 8
          },
          "showarrow": false,
          "text": "0.13",
          "x": "days_injured",
          "y": "appearance"
         },
         {
          "font": {
           "size": 8
          },
          "showarrow": false,
          "text": "0.15",
          "x": "games_injured",
          "y": "appearance"
         },
         {
          "font": {
           "size": 8
          },
          "showarrow": false,
          "text": "0.22",
          "x": "award",
          "y": "appearance"
         },
         {
          "font": {
           "size": 8
          },
          "showarrow": false,
          "text": "0.42",
          "x": "current_value",
          "y": "appearance"
         },
         {
          "font": {
           "size": 8
          },
          "showarrow": false,
          "text": "0.42",
          "x": "highest_value",
          "y": "appearance"
         },
         {
          "font": {
           "size": 8
          },
          "showarrow": false,
          "text": "-0.02",
          "x": "PCA_1",
          "y": "appearance"
         },
         {
          "font": {
           "size": 8
          },
          "showarrow": false,
          "text": "0.01",
          "x": "PCA_2",
          "y": "appearance"
         },
         {
          "font": {
           "size": 8
          },
          "showarrow": false,
          "text": "-0.17",
          "x": "PCA_3",
          "y": "appearance"
         },
         {
          "font": {
           "size": 8
          },
          "showarrow": false,
          "text": "-0.02",
          "x": "PCA_4",
          "y": "appearance"
         },
         {
          "font": {
           "size": 8
          },
          "showarrow": false,
          "text": "-0.06",
          "x": "PCA_5",
          "y": "appearance"
         },
         {
          "font": {
           "size": 8
          },
          "showarrow": false,
          "text": "-0.06",
          "x": "PCA_6",
          "y": "appearance"
         },
         {
          "font": {
           "size": 8
          },
          "showarrow": false,
          "text": "-0.01",
          "x": "PCA_7",
          "y": "appearance"
         },
         {
          "font": {
           "size": 8
          },
          "showarrow": false,
          "text": "0.01",
          "x": "PCA_8",
          "y": "appearance"
         },
         {
          "font": {
           "size": 8
          },
          "showarrow": false,
          "text": "-0.01",
          "x": "PCA_9",
          "y": "appearance"
         },
         {
          "font": {
           "size": 8
          },
          "showarrow": false,
          "text": "-0.04",
          "x": "PCA_10",
          "y": "appearance"
         },
         {
          "font": {
           "size": 8
          },
          "showarrow": false,
          "text": "-0.06",
          "x": "height",
          "y": "goals"
         },
         {
          "font": {
           "size": 8
          },
          "showarrow": false,
          "text": "-0.03",
          "x": "age",
          "y": "goals"
         },
         {
          "font": {
           "size": 8
          },
          "showarrow": false,
          "text": "0.13",
          "x": "appearance",
          "y": "goals"
         },
         {
          "font": {
           "size": 8
          },
          "showarrow": false,
          "text": "1.00",
          "x": "goals",
          "y": "goals"
         },
         {
          "font": {
           "size": 8
          },
          "showarrow": false,
          "text": "0.22",
          "x": "assists",
          "y": "goals"
         },
         {
          "font": {
           "size": 8
          },
          "showarrow": false,
          "text": "-0.01",
          "x": "yellow cards",
          "y": "goals"
         },
         {
          "font": {
           "size": 8
          },
          "showarrow": false,
          "text": "-0.01",
          "x": "second yellow cards",
          "y": "goals"
         },
         {
          "font": {
           "size": 8
          },
          "showarrow": false,
          "text": "-0.01",
          "x": "red cards",
          "y": "goals"
         },
         {
          "font": {
           "size": 8
          },
          "showarrow": false,
          "text": "-0.16",
          "x": "goals conceded",
          "y": "goals"
         },
         {
          "font": {
           "size": 8
          },
          "showarrow": false,
          "text": "-0.03",
          "x": "clean sheets",
          "y": "goals"
         },
         {
          "font": {
           "size": 8
          },
          "showarrow": false,
          "text": "0.05",
          "x": "minutes played",
          "y": "goals"
         },
         {
          "font": {
           "size": 8
          },
          "showarrow": false,
          "text": "0.04",
          "x": "days_injured",
          "y": "goals"
         },
         {
          "font": {
           "size": 8
          },
          "showarrow": false,
          "text": "0.04",
          "x": "games_injured",
          "y": "goals"
         },
         {
          "font": {
           "size": 8
          },
          "showarrow": false,
          "text": "0.10",
          "x": "award",
          "y": "goals"
         },
         {
          "font": {
           "size": 8
          },
          "showarrow": false,
          "text": "0.12",
          "x": "current_value",
          "y": "goals"
         },
         {
          "font": {
           "size": 8
          },
          "showarrow": false,
          "text": "0.13",
          "x": "highest_value",
          "y": "goals"
         },
         {
          "font": {
           "size": 8
          },
          "showarrow": false,
          "text": "-0.24",
          "x": "PCA_1",
          "y": "goals"
         },
         {
          "font": {
           "size": 8
          },
          "showarrow": false,
          "text": "0.33",
          "x": "PCA_2",
          "y": "goals"
         },
         {
          "font": {
           "size": 8
          },
          "showarrow": false,
          "text": "-0.21",
          "x": "PCA_3",
          "y": "goals"
         },
         {
          "font": {
           "size": 8
          },
          "showarrow": false,
          "text": "0.00",
          "x": "PCA_4",
          "y": "goals"
         },
         {
          "font": {
           "size": 8
          },
          "showarrow": false,
          "text": "0.00",
          "x": "PCA_5",
          "y": "goals"
         },
         {
          "font": {
           "size": 8
          },
          "showarrow": false,
          "text": "-0.02",
          "x": "PCA_6",
          "y": "goals"
         },
         {
          "font": {
           "size": 8
          },
          "showarrow": false,
          "text": "-0.01",
          "x": "PCA_7",
          "y": "goals"
         },
         {
          "font": {
           "size": 8
          },
          "showarrow": false,
          "text": "0.01",
          "x": "PCA_8",
          "y": "goals"
         },
         {
          "font": {
           "size": 8
          },
          "showarrow": false,
          "text": "0.03",
          "x": "PCA_9",
          "y": "goals"
         },
         {
          "font": {
           "size": 8
          },
          "showarrow": false,
          "text": "0.00",
          "x": "PCA_10",
          "y": "goals"
         },
         {
          "font": {
           "size": 8
          },
          "showarrow": false,
          "text": "-0.20",
          "x": "height",
          "y": "assists"
         },
         {
          "font": {
           "size": 8
          },
          "showarrow": false,
          "text": "-0.02",
          "x": "age",
          "y": "assists"
         },
         {
          "font": {
           "size": 8
          },
          "showarrow": false,
          "text": "0.16",
          "x": "appearance",
          "y": "assists"
         },
         {
          "font": {
           "size": 8
          },
          "showarrow": false,
          "text": "0.22",
          "x": "goals",
          "y": "assists"
         },
         {
          "font": {
           "size": 8
          },
          "showarrow": false,
          "text": "1.00",
          "x": "assists",
          "y": "assists"
         },
         {
          "font": {
           "size": 8
          },
          "showarrow": false,
          "text": "-0.00",
          "x": "yellow cards",
          "y": "assists"
         },
         {
          "font": {
           "size": 8
          },
          "showarrow": false,
          "text": "0.02",
          "x": "second yellow cards",
          "y": "assists"
         },
         {
          "font": {
           "size": 8
          },
          "showarrow": false,
          "text": "-0.01",
          "x": "red cards",
          "y": "assists"
         },
         {
          "font": {
           "size": 8
          },
          "showarrow": false,
          "text": "-0.18",
          "x": "goals conceded",
          "y": "assists"
         },
         {
          "font": {
           "size": 8
          },
          "showarrow": false,
          "text": "-0.03",
          "x": "clean sheets",
          "y": "assists"
         },
         {
          "font": {
           "size": 8
          },
          "showarrow": false,
          "text": "0.08",
          "x": "minutes played",
          "y": "assists"
         },
         {
          "font": {
           "size": 8
          },
          "showarrow": false,
          "text": "0.04",
          "x": "days_injured",
          "y": "assists"
         },
         {
          "font": {
           "size": 8
          },
          "showarrow": false,
          "text": "0.05",
          "x": "games_injured",
          "y": "assists"
         },
         {
          "font": {
           "size": 8
          },
          "showarrow": false,
          "text": "0.09",
          "x": "award",
          "y": "assists"
         },
         {
          "font": {
           "size": 8
          },
          "showarrow": false,
          "text": "0.14",
          "x": "current_value",
          "y": "assists"
         },
         {
          "font": {
           "size": 8
          },
          "showarrow": false,
          "text": "0.15",
          "x": "highest_value",
          "y": "assists"
         },
         {
          "font": {
           "size": 8
          },
          "showarrow": false,
          "text": "-0.19",
          "x": "PCA_1",
          "y": "assists"
         },
         {
          "font": {
           "size": 8
          },
          "showarrow": false,
          "text": "0.14",
          "x": "PCA_2",
          "y": "assists"
         },
         {
          "font": {
           "size": 8
          },
          "showarrow": false,
          "text": "-0.23",
          "x": "PCA_3",
          "y": "assists"
         },
         {
          "font": {
           "size": 8
          },
          "showarrow": false,
          "text": "0.01",
          "x": "PCA_4",
          "y": "assists"
         },
         {
          "font": {
           "size": 8
          },
          "showarrow": false,
          "text": "-0.01",
          "x": "PCA_5",
          "y": "assists"
         },
         {
          "font": {
           "size": 8
          },
          "showarrow": false,
          "text": "-0.03",
          "x": "PCA_6",
          "y": "assists"
         },
         {
          "font": {
           "size": 8
          },
          "showarrow": false,
          "text": "-0.02",
          "x": "PCA_7",
          "y": "assists"
         },
         {
          "font": {
           "size": 8
          },
          "showarrow": false,
          "text": "-0.00",
          "x": "PCA_8",
          "y": "assists"
         },
         {
          "font": {
           "size": 8
          },
          "showarrow": false,
          "text": "0.02",
          "x": "PCA_9",
          "y": "assists"
         },
         {
          "font": {
           "size": 8
          },
          "showarrow": false,
          "text": "-0.00",
          "x": "PCA_10",
          "y": "assists"
         },
         {
          "font": {
           "size": 8
          },
          "showarrow": false,
          "text": "-0.04",
          "x": "height",
          "y": "yellow cards"
         },
         {
          "font": {
           "size": 8
          },
          "showarrow": false,
          "text": "0.01",
          "x": "age",
          "y": "yellow cards"
         },
         {
          "font": {
           "size": 8
          },
          "showarrow": false,
          "text": "-0.02",
          "x": "appearance",
          "y": "yellow cards"
         },
         {
          "font": {
           "size": 8
          },
          "showarrow": false,
          "text": "-0.01",
          "x": "goals",
          "y": "yellow cards"
         },
         {
          "font": {
           "size": 8
          },
          "showarrow": false,
          "text": "-0.00",
          "x": "assists",
          "y": "yellow cards"
         },
         {
          "font": {
           "size": 8
          },
          "showarrow": false,
          "text": "1.00",
          "x": "yellow cards",
          "y": "yellow cards"
         },
         {
          "font": {
           "size": 8
          },
          "showarrow": false,
          "text": "0.03",
          "x": "second yellow cards",
          "y": "yellow cards"
         },
         {
          "font": {
           "size": 8
          },
          "showarrow": false,
          "text": "-0.00",
          "x": "red cards",
          "y": "yellow cards"
         },
         {
          "font": {
           "size": 8
          },
          "showarrow": false,
          "text": "-0.09",
          "x": "goals conceded",
          "y": "yellow cards"
         },
         {
          "font": {
           "size": 8
          },
          "showarrow": false,
          "text": "-0.02",
          "x": "clean sheets",
          "y": "yellow cards"
         },
         {
          "font": {
           "size": 8
          },
          "showarrow": false,
          "text": "-0.04",
          "x": "minutes played",
          "y": "yellow cards"
         },
         {
          "font": {
           "size": 8
          },
          "showarrow": false,
          "text": "0.01",
          "x": "days_injured",
          "y": "yellow cards"
         },
         {
          "font": {
           "size": 8
          },
          "showarrow": false,
          "text": "0.01",
          "x": "games_injured",
          "y": "yellow cards"
         },
         {
          "font": {
           "size": 8
          },
          "showarrow": false,
          "text": "-0.01",
          "x": "award",
          "y": "yellow cards"
         },
         {
          "font": {
           "size": 8
          },
          "showarrow": false,
          "text": "-0.01",
          "x": "current_value",
          "y": "yellow cards"
         },
         {
          "font": {
           "size": 8
          },
          "showarrow": false,
          "text": "-0.01",
          "x": "highest_value",
          "y": "yellow cards"
         },
         {
          "font": {
           "size": 8
          },
          "showarrow": false,
          "text": "-0.01",
          "x": "PCA_1",
          "y": "yellow cards"
         },
         {
          "font": {
           "size": 8
          },
          "showarrow": false,
          "text": "-0.01",
          "x": "PCA_2",
          "y": "yellow cards"
         },
         {
          "font": {
           "size": 8
          },
          "showarrow": false,
          "text": "-0.12",
          "x": "PCA_3",
          "y": "yellow cards"
         },
         {
          "font": {
           "size": 8
          },
          "showarrow": false,
          "text": "0.00",
          "x": "PCA_4",
          "y": "yellow cards"
         },
         {
          "font": {
           "size": 8
          },
          "showarrow": false,
          "text": "0.00",
          "x": "PCA_5",
          "y": "yellow cards"
         },
         {
          "font": {
           "size": 8
          },
          "showarrow": false,
          "text": "-0.00",
          "x": "PCA_6",
          "y": "yellow cards"
         },
         {
          "font": {
           "size": 8
          },
          "showarrow": false,
          "text": "0.01",
          "x": "PCA_7",
          "y": "yellow cards"
         },
         {
          "font": {
           "size": 8
          },
          "showarrow": false,
          "text": "-0.02",
          "x": "PCA_8",
          "y": "yellow cards"
         },
         {
          "font": {
           "size": 8
          },
          "showarrow": false,
          "text": "-0.01",
          "x": "PCA_9",
          "y": "yellow cards"
         },
         {
          "font": {
           "size": 8
          },
          "showarrow": false,
          "text": "-0.01",
          "x": "PCA_10",
          "y": "yellow cards"
         },
         {
          "font": {
           "size": 8
          },
          "showarrow": false,
          "text": "-0.01",
          "x": "height",
          "y": "second yellow cards"
         },
         {
          "font": {
           "size": 8
          },
          "showarrow": false,
          "text": "0.02",
          "x": "age",
          "y": "second yellow cards"
         },
         {
          "font": {
           "size": 8
          },
          "showarrow": false,
          "text": "-0.01",
          "x": "appearance",
          "y": "second yellow cards"
         },
         {
          "font": {
           "size": 8
          },
          "showarrow": false,
          "text": "-0.01",
          "x": "goals",
          "y": "second yellow cards"
         },
         {
          "font": {
           "size": 8
          },
          "showarrow": false,
          "text": "0.02",
          "x": "assists",
          "y": "second yellow cards"
         },
         {
          "font": {
           "size": 8
          },
          "showarrow": false,
          "text": "0.03",
          "x": "yellow cards",
          "y": "second yellow cards"
         },
         {
          "font": {
           "size": 8
          },
          "showarrow": false,
          "text": "1.00",
          "x": "second yellow cards",
          "y": "second yellow cards"
         },
         {
          "font": {
           "size": 8
          },
          "showarrow": false,
          "text": "-0.00",
          "x": "red cards",
          "y": "second yellow cards"
         },
         {
          "font": {
           "size": 8
          },
          "showarrow": false,
          "text": "-0.05",
          "x": "goals conceded",
          "y": "second yellow cards"
         },
         {
          "font": {
           "size": 8
          },
          "showarrow": false,
          "text": "-0.01",
          "x": "clean sheets",
          "y": "second yellow cards"
         },
         {
          "font": {
           "size": 8
          },
          "showarrow": false,
          "text": "-0.01",
          "x": "minutes played",
          "y": "second yellow cards"
         },
         {
          "font": {
           "size": 8
          },
          "showarrow": false,
          "text": "0.00",
          "x": "days_injured",
          "y": "second yellow cards"
         },
         {
          "font": {
           "size": 8
          },
          "showarrow": false,
          "text": "0.01",
          "x": "games_injured",
          "y": "second yellow cards"
         },
         {
          "font": {
           "size": 8
          },
          "showarrow": false,
          "text": "-0.02",
          "x": "award",
          "y": "second yellow cards"
         },
         {
          "font": {
           "size": 8
          },
          "showarrow": false,
          "text": "-0.01",
          "x": "current_value",
          "y": "second yellow cards"
         },
         {
          "font": {
           "size": 8
          },
          "showarrow": false,
          "text": "-0.01",
          "x": "highest_value",
          "y": "second yellow cards"
         },
         {
          "font": {
           "size": 8
          },
          "showarrow": false,
          "text": "0.03",
          "x": "PCA_1",
          "y": "second yellow cards"
         },
         {
          "font": {
           "size": 8
          },
          "showarrow": false,
          "text": "-0.03",
          "x": "PCA_2",
          "y": "second yellow cards"
         },
         {
          "font": {
           "size": 8
          },
          "showarrow": false,
          "text": "-0.05",
          "x": "PCA_3",
          "y": "second yellow cards"
         },
         {
          "font": {
           "size": 8
          },
          "showarrow": false,
          "text": "0.01",
          "x": "PCA_4",
          "y": "second yellow cards"
         },
         {
          "font": {
           "size": 8
          },
          "showarrow": false,
          "text": "0.01",
          "x": "PCA_5",
          "y": "second yellow cards"
         },
         {
          "font": {
           "size": 8
          },
          "showarrow": false,
          "text": "0.01",
          "x": "PCA_6",
          "y": "second yellow cards"
         },
         {
          "font": {
           "size": 8
          },
          "showarrow": false,
          "text": "-0.00",
          "x": "PCA_7",
          "y": "second yellow cards"
         },
         {
          "font": {
           "size": 8
          },
          "showarrow": false,
          "text": "-0.02",
          "x": "PCA_8",
          "y": "second yellow cards"
         },
         {
          "font": {
           "size": 8
          },
          "showarrow": false,
          "text": "0.01",
          "x": "PCA_9",
          "y": "second yellow cards"
         },
         {
          "font": {
           "size": 8
          },
          "showarrow": false,
          "text": "0.02",
          "x": "PCA_10",
          "y": "second yellow cards"
         },
         {
          "font": {
           "size": 8
          },
          "showarrow": false,
          "text": "-0.01",
          "x": "height",
          "y": "red cards"
         },
         {
          "font": {
           "size": 8
          },
          "showarrow": false,
          "text": "0.00",
          "x": "age",
          "y": "red cards"
         },
         {
          "font": {
           "size": 8
          },
          "showarrow": false,
          "text": "-0.02",
          "x": "appearance",
          "y": "red cards"
         },
         {
          "font": {
           "size": 8
          },
          "showarrow": false,
          "text": "-0.01",
          "x": "goals",
          "y": "red cards"
         },
         {
          "font": {
           "size": 8
          },
          "showarrow": false,
          "text": "-0.01",
          "x": "assists",
          "y": "red cards"
         },
         {
          "font": {
           "size": 8
          },
          "showarrow": false,
          "text": "-0.00",
          "x": "yellow cards",
          "y": "red cards"
         },
         {
          "font": {
           "size": 8
          },
          "showarrow": false,
          "text": "-0.00",
          "x": "second yellow cards",
          "y": "red cards"
         },
         {
          "font": {
           "size": 8
          },
          "showarrow": false,
          "text": "1.00",
          "x": "red cards",
          "y": "red cards"
         },
         {
          "font": {
           "size": 8
          },
          "showarrow": false,
          "text": "-0.00",
          "x": "goals conceded",
          "y": "red cards"
         },
         {
          "font": {
           "size": 8
          },
          "showarrow": false,
          "text": "-0.00",
          "x": "clean sheets",
          "y": "red cards"
         },
         {
          "font": {
           "size": 8
          },
          "showarrow": false,
          "text": "-0.02",
          "x": "minutes played",
          "y": "red cards"
         },
         {
          "font": {
           "size": 8
          },
          "showarrow": false,
          "text": "-0.00",
          "x": "days_injured",
          "y": "red cards"
         },
         {
          "font": {
           "size": 8
          },
          "showarrow": false,
          "text": "-0.00",
          "x": "games_injured",
          "y": "red cards"
         },
         {
          "font": {
           "size": 8
          },
          "showarrow": false,
          "text": "-0.01",
          "x": "award",
          "y": "red cards"
         },
         {
          "font": {
           "size": 8
          },
          "showarrow": false,
          "text": "-0.01",
          "x": "current_value",
          "y": "red cards"
         },
         {
          "font": {
           "size": 8
          },
          "showarrow": false,
          "text": "-0.01",
          "x": "highest_value",
          "y": "red cards"
         },
         {
          "font": {
           "size": 8
          },
          "showarrow": false,
          "text": "-0.00",
          "x": "PCA_1",
          "y": "red cards"
         },
         {
          "font": {
           "size": 8
          },
          "showarrow": false,
          "text": "-0.00",
          "x": "PCA_2",
          "y": "red cards"
         },
         {
          "font": {
           "size": 8
          },
          "showarrow": false,
          "text": "-0.01",
          "x": "PCA_3",
          "y": "red cards"
         },
         {
          "font": {
           "size": 8
          },
          "showarrow": false,
          "text": "-0.01",
          "x": "PCA_4",
          "y": "red cards"
         },
         {
          "font": {
           "size": 8
          },
          "showarrow": false,
          "text": "-0.01",
          "x": "PCA_5",
          "y": "red cards"
         },
         {
          "font": {
           "size": 8
          },
          "showarrow": false,
          "text": "-0.01",
          "x": "PCA_6",
          "y": "red cards"
         },
         {
          "font": {
           "size": 8
          },
          "showarrow": false,
          "text": "-0.00",
          "x": "PCA_7",
          "y": "red cards"
         },
         {
          "font": {
           "size": 8
          },
          "showarrow": false,
          "text": "-0.01",
          "x": "PCA_8",
          "y": "red cards"
         },
         {
          "font": {
           "size": 8
          },
          "showarrow": false,
          "text": "0.01",
          "x": "PCA_9",
          "y": "red cards"
         },
         {
          "font": {
           "size": 8
          },
          "showarrow": false,
          "text": "0.00",
          "x": "PCA_10",
          "y": "red cards"
         },
         {
          "font": {
           "size": 8
          },
          "showarrow": false,
          "text": "0.33",
          "x": "height",
          "y": "goals conceded"
         },
         {
          "font": {
           "size": 8
          },
          "showarrow": false,
          "text": "0.08",
          "x": "age",
          "y": "goals conceded"
         },
         {
          "font": {
           "size": 8
          },
          "showarrow": false,
          "text": "-0.10",
          "x": "appearance",
          "y": "goals conceded"
         },
         {
          "font": {
           "size": 8
          },
          "showarrow": false,
          "text": "-0.16",
          "x": "goals",
          "y": "goals conceded"
         },
         {
          "font": {
           "size": 8
          },
          "showarrow": false,
          "text": "-0.18",
          "x": "assists",
          "y": "goals conceded"
         },
         {
          "font": {
           "size": 8
          },
          "showarrow": false,
          "text": "-0.09",
          "x": "yellow cards",
          "y": "goals conceded"
         },
         {
          "font": {
           "size": 8
          },
          "showarrow": false,
          "text": "-0.05",
          "x": "second yellow cards",
          "y": "goals conceded"
         },
         {
          "font": {
           "size": 8
          },
          "showarrow": false,
          "text": "-0.00",
          "x": "red cards",
          "y": "goals conceded"
         },
         {
          "font": {
           "size": 8
          },
          "showarrow": false,
          "text": "1.00",
          "x": "goals conceded",
          "y": "goals conceded"
         },
         {
          "font": {
           "size": 8
          },
          "showarrow": false,
          "text": "0.07",
          "x": "clean sheets",
          "y": "goals conceded"
         },
         {
          "font": {
           "size": 8
          },
          "showarrow": false,
          "text": "-0.00",
          "x": "minutes played",
          "y": "goals conceded"
         },
         {
          "font": {
           "size": 8
          },
          "showarrow": false,
          "text": "-0.03",
          "x": "days_injured",
          "y": "goals conceded"
         },
         {
          "font": {
           "size": 8
          },
          "showarrow": false,
          "text": "-0.04",
          "x": "games_injured",
          "y": "goals conceded"
         },
         {
          "font": {
           "size": 8
          },
          "showarrow": false,
          "text": "-0.01",
          "x": "award",
          "y": "goals conceded"
         },
         {
          "font": {
           "size": 8
          },
          "showarrow": false,
          "text": "-0.06",
          "x": "current_value",
          "y": "goals conceded"
         },
         {
          "font": {
           "size": 8
          },
          "showarrow": false,
          "text": "-0.06",
          "x": "highest_value",
          "y": "goals conceded"
         },
         {
          "font": {
           "size": 8
          },
          "showarrow": false,
          "text": "-0.04",
          "x": "PCA_1",
          "y": "goals conceded"
         },
         {
          "font": {
           "size": 8
          },
          "showarrow": false,
          "text": "0.02",
          "x": "PCA_2",
          "y": "goals conceded"
         },
         {
          "font": {
           "size": 8
          },
          "showarrow": false,
          "text": "0.83",
          "x": "PCA_3",
          "y": "goals conceded"
         },
         {
          "font": {
           "size": 8
          },
          "showarrow": false,
          "text": "0.00",
          "x": "PCA_4",
          "y": "goals conceded"
         },
         {
          "font": {
           "size": 8
          },
          "showarrow": false,
          "text": "-0.00",
          "x": "PCA_5",
          "y": "goals conceded"
         },
         {
          "font": {
           "size": 8
          },
          "showarrow": false,
          "text": "-0.01",
          "x": "PCA_6",
          "y": "goals conceded"
         },
         {
          "font": {
           "size": 8
          },
          "showarrow": false,
          "text": "0.01",
          "x": "PCA_7",
          "y": "goals conceded"
         },
         {
          "font": {
           "size": 8
          },
          "showarrow": false,
          "text": "0.00",
          "x": "PCA_8",
          "y": "goals conceded"
         },
         {
          "font": {
           "size": 8
          },
          "showarrow": false,
          "text": "-0.00",
          "x": "PCA_9",
          "y": "goals conceded"
         },
         {
          "font": {
           "size": 8
          },
          "showarrow": false,
          "text": "-0.01",
          "x": "PCA_10",
          "y": "goals conceded"
         },
         {
          "font": {
           "size": 8
          },
          "showarrow": false,
          "text": "0.04",
          "x": "height",
          "y": "clean sheets"
         },
         {
          "font": {
           "size": 8
          },
          "showarrow": false,
          "text": "0.04",
          "x": "age",
          "y": "clean sheets"
         },
         {
          "font": {
           "size": 8
          },
          "showarrow": false,
          "text": "-0.03",
          "x": "appearance",
          "y": "clean sheets"
         },
         {
          "font": {
           "size": 8
          },
          "showarrow": false,
          "text": "-0.03",
          "x": "goals",
          "y": "clean sheets"
         },
         {
          "font": {
           "size": 8
          },
          "showarrow": false,
          "text": "-0.03",
          "x": "assists",
          "y": "clean sheets"
         },
         {
          "font": {
           "size": 8
          },
          "showarrow": false,
          "text": "-0.02",
          "x": "yellow cards",
          "y": "clean sheets"
         },
         {
          "font": {
           "size": 8
          },
          "showarrow": false,
          "text": "-0.01",
          "x": "second yellow cards",
          "y": "clean sheets"
         },
         {
          "font": {
           "size": 8
          },
          "showarrow": false,
          "text": "-0.00",
          "x": "red cards",
          "y": "clean sheets"
         },
         {
          "font": {
           "size": 8
          },
          "showarrow": false,
          "text": "0.07",
          "x": "goals conceded",
          "y": "clean sheets"
         },
         {
          "font": {
           "size": 8
          },
          "showarrow": false,
          "text": "1.00",
          "x": "clean sheets",
          "y": "clean sheets"
         },
         {
          "font": {
           "size": 8
          },
          "showarrow": false,
          "text": "-0.02",
          "x": "minutes played",
          "y": "clean sheets"
         },
         {
          "font": {
           "size": 8
          },
          "showarrow": false,
          "text": "0.00",
          "x": "days_injured",
          "y": "clean sheets"
         },
         {
          "font": {
           "size": 8
          },
          "showarrow": false,
          "text": "0.01",
          "x": "games_injured",
          "y": "clean sheets"
         },
         {
          "font": {
           "size": 8
          },
          "showarrow": false,
          "text": "0.00",
          "x": "award",
          "y": "clean sheets"
         },
         {
          "font": {
           "size": 8
          },
          "showarrow": false,
          "text": "-0.01",
          "x": "current_value",
          "y": "clean sheets"
         },
         {
          "font": {
           "size": 8
          },
          "showarrow": false,
          "text": "-0.01",
          "x": "highest_value",
          "y": "clean sheets"
         },
         {
          "font": {
           "size": 8
          },
          "showarrow": false,
          "text": "-0.01",
          "x": "PCA_1",
          "y": "clean sheets"
         },
         {
          "font": {
           "size": 8
          },
          "showarrow": false,
          "text": "0.00",
          "x": "PCA_2",
          "y": "clean sheets"
         },
         {
          "font": {
           "size": 8
          },
          "showarrow": false,
          "text": "0.14",
          "x": "PCA_3",
          "y": "clean sheets"
         },
         {
          "font": {
           "size": 8
          },
          "showarrow": false,
          "text": "-0.00",
          "x": "PCA_4",
          "y": "clean sheets"
         },
         {
          "font": {
           "size": 8
          },
          "showarrow": false,
          "text": "-0.00",
          "x": "PCA_5",
          "y": "clean sheets"
         },
         {
          "font": {
           "size": 8
          },
          "showarrow": false,
          "text": "0.00",
          "x": "PCA_6",
          "y": "clean sheets"
         },
         {
          "font": {
           "size": 8
          },
          "showarrow": false,
          "text": "-0.00",
          "x": "PCA_7",
          "y": "clean sheets"
         },
         {
          "font": {
           "size": 8
          },
          "showarrow": false,
          "text": "-0.00",
          "x": "PCA_8",
          "y": "clean sheets"
         },
         {
          "font": {
           "size": 8
          },
          "showarrow": false,
          "text": "0.01",
          "x": "PCA_9",
          "y": "clean sheets"
         },
         {
          "font": {
           "size": 8
          },
          "showarrow": false,
          "text": "0.00",
          "x": "PCA_10",
          "y": "clean sheets"
         },
         {
          "font": {
           "size": 8
          },
          "showarrow": false,
          "text": "0.13",
          "x": "height",
          "y": "minutes played"
         },
         {
          "font": {
           "size": 8
          },
          "showarrow": false,
          "text": "0.17",
          "x": "age",
          "y": "minutes played"
         },
         {
          "font": {
           "size": 8
          },
          "showarrow": false,
          "text": "0.95",
          "x": "appearance",
          "y": "minutes played"
         },
         {
          "font": {
           "size": 8
          },
          "showarrow": false,
          "text": "0.05",
          "x": "goals",
          "y": "minutes played"
         },
         {
          "font": {
           "size": 8
          },
          "showarrow": false,
          "text": "0.08",
          "x": "assists",
          "y": "minutes played"
         },
         {
          "font": {
           "size": 8
          },
          "showarrow": false,
          "text": "-0.04",
          "x": "yellow cards",
          "y": "minutes played"
         },
         {
          "font": {
           "size": 8
          },
          "showarrow": false,
          "text": "-0.01",
          "x": "second yellow cards",
          "y": "minutes played"
         },
         {
          "font": {
           "size": 8
          },
          "showarrow": false,
          "text": "-0.02",
          "x": "red cards",
          "y": "minutes played"
         },
         {
          "font": {
           "size": 8
          },
          "showarrow": false,
          "text": "-0.00",
          "x": "goals conceded",
          "y": "minutes played"
         },
         {
          "font": {
           "size": 8
          },
          "showarrow": false,
          "text": "-0.02",
          "x": "clean sheets",
          "y": "minutes played"
         },
         {
          "font": {
           "size": 8
          },
          "showarrow": false,
          "text": "1.00",
          "x": "minutes played",
          "y": "minutes played"
         },
         {
          "font": {
           "size": 8
          },
          "showarrow": false,
          "text": "0.11",
          "x": "days_injured",
          "y": "minutes played"
         },
         {
          "font": {
           "size": 8
          },
          "showarrow": false,
          "text": "0.12",
          "x": "games_injured",
          "y": "minutes played"
         },
         {
          "font": {
           "size": 8
          },
          "showarrow": false,
          "text": "0.21",
          "x": "award",
          "y": "minutes played"
         },
         {
          "font": {
           "size": 8
          },
          "showarrow": false,
          "text": "0.42",
          "x": "current_value",
          "y": "minutes played"
         },
         {
          "font": {
           "size": 8
          },
          "showarrow": false,
          "text": "0.40",
          "x": "highest_value",
          "y": "minutes played"
         },
         {
          "font": {
           "size": 8
          },
          "showarrow": false,
          "text": "0.08",
          "x": "PCA_1",
          "y": "minutes played"
         },
         {
          "font": {
           "size": 8
          },
          "showarrow": false,
          "text": "-0.06",
          "x": "PCA_2",
          "y": "minutes played"
         },
         {
          "font": {
           "size": 8
          },
          "showarrow": false,
          "text": "-0.05",
          "x": "PCA_3",
          "y": "minutes played"
         },
         {
          "font": {
           "size": 8
          },
          "showarrow": false,
          "text": "-0.02",
          "x": "PCA_4",
          "y": "minutes played"
         },
         {
          "font": {
           "size": 8
          },
          "showarrow": false,
          "text": "-0.05",
          "x": "PCA_5",
          "y": "minutes played"
         },
         {
          "font": {
           "size": 8
          },
          "showarrow": false,
          "text": "-0.05",
          "x": "PCA_6",
          "y": "minutes played"
         },
         {
          "font": {
           "size": 8
          },
          "showarrow": false,
          "text": "-0.00",
          "x": "PCA_7",
          "y": "minutes played"
         },
         {
          "font": {
           "size": 8
          },
          "showarrow": false,
          "text": "0.01",
          "x": "PCA_8",
          "y": "minutes played"
         },
         {
          "font": {
           "size": 8
          },
          "showarrow": false,
          "text": "-0.01",
          "x": "PCA_9",
          "y": "minutes played"
         },
         {
          "font": {
           "size": 8
          },
          "showarrow": false,
          "text": "-0.03",
          "x": "PCA_10",
          "y": "minutes played"
         },
         {
          "font": {
           "size": 8
          },
          "showarrow": false,
          "text": "0.06",
          "x": "height",
          "y": "days_injured"
         },
         {
          "font": {
           "size": 8
          },
          "showarrow": false,
          "text": "0.32",
          "x": "age",
          "y": "days_injured"
         },
         {
          "font": {
           "size": 8
          },
          "showarrow": false,
          "text": "0.13",
          "x": "appearance",
          "y": "days_injured"
         },
         {
          "font": {
           "size": 8
          },
          "showarrow": false,
          "text": "0.04",
          "x": "goals",
          "y": "days_injured"
         },
         {
          "font": {
           "size": 8
          },
          "showarrow": false,
          "text": "0.04",
          "x": "assists",
          "y": "days_injured"
         },
         {
          "font": {
           "size": 8
          },
          "showarrow": false,
          "text": "0.01",
          "x": "yellow cards",
          "y": "days_injured"
         },
         {
          "font": {
           "size": 8
          },
          "showarrow": false,
          "text": "0.00",
          "x": "second yellow cards",
          "y": "days_injured"
         },
         {
          "font": {
           "size": 8
          },
          "showarrow": false,
          "text": "-0.00",
          "x": "red cards",
          "y": "days_injured"
         },
         {
          "font": {
           "size": 8
          },
          "showarrow": false,
          "text": "-0.03",
          "x": "goals conceded",
          "y": "days_injured"
         },
         {
          "font": {
           "size": 8
          },
          "showarrow": false,
          "text": "0.00",
          "x": "clean sheets",
          "y": "days_injured"
         },
         {
          "font": {
           "size": 8
          },
          "showarrow": false,
          "text": "0.11",
          "x": "minutes played",
          "y": "days_injured"
         },
         {
          "font": {
           "size": 8
          },
          "showarrow": false,
          "text": "1.00",
          "x": "days_injured",
          "y": "days_injured"
         },
         {
          "font": {
           "size": 8
          },
          "showarrow": false,
          "text": "0.95",
          "x": "games_injured",
          "y": "days_injured"
         },
         {
          "font": {
           "size": 8
          },
          "showarrow": false,
          "text": "0.26",
          "x": "award",
          "y": "days_injured"
         },
         {
          "font": {
           "size": 8
          },
          "showarrow": false,
          "text": "0.11",
          "x": "current_value",
          "y": "days_injured"
         },
         {
          "font": {
           "size": 8
          },
          "showarrow": false,
          "text": "0.23",
          "x": "highest_value",
          "y": "days_injured"
         },
         {
          "font": {
           "size": 8
          },
          "showarrow": false,
          "text": "0.04",
          "x": "PCA_1",
          "y": "days_injured"
         },
         {
          "font": {
           "size": 8
          },
          "showarrow": false,
          "text": "0.00",
          "x": "PCA_2",
          "y": "days_injured"
         },
         {
          "font": {
           "size": 8
          },
          "showarrow": false,
          "text": "-0.05",
          "x": "PCA_3",
          "y": "days_injured"
         },
         {
          "font": {
           "size": 8
          },
          "showarrow": false,
          "text": "-0.02",
          "x": "PCA_4",
          "y": "days_injured"
         },
         {
          "font": {
           "size": 8
          },
          "showarrow": false,
          "text": "-0.02",
          "x": "PCA_5",
          "y": "days_injured"
         },
         {
          "font": {
           "size": 8
          },
          "showarrow": false,
          "text": "-0.01",
          "x": "PCA_6",
          "y": "days_injured"
         },
         {
          "font": {
           "size": 8
          },
          "showarrow": false,
          "text": "0.00",
          "x": "PCA_7",
          "y": "days_injured"
         },
         {
          "font": {
           "size": 8
          },
          "showarrow": false,
          "text": "-0.02",
          "x": "PCA_8",
          "y": "days_injured"
         },
         {
          "font": {
           "size": 8
          },
          "showarrow": false,
          "text": "0.03",
          "x": "PCA_9",
          "y": "days_injured"
         },
         {
          "font": {
           "size": 8
          },
          "showarrow": false,
          "text": "-0.00",
          "x": "PCA_10",
          "y": "days_injured"
         },
         {
          "font": {
           "size": 8
          },
          "showarrow": false,
          "text": "0.05",
          "x": "height",
          "y": "games_injured"
         },
         {
          "font": {
           "size": 8
          },
          "showarrow": false,
          "text": "0.34",
          "x": "age",
          "y": "games_injured"
         },
         {
          "font": {
           "size": 8
          },
          "showarrow": false,
          "text": "0.15",
          "x": "appearance",
          "y": "games_injured"
         },
         {
          "font": {
           "size": 8
          },
          "showarrow": false,
          "text": "0.04",
          "x": "goals",
          "y": "games_injured"
         },
         {
          "font": {
           "size": 8
          },
          "showarrow": false,
          "text": "0.05",
          "x": "assists",
          "y": "games_injured"
         },
         {
          "font": {
           "size": 8
          },
          "showarrow": false,
          "text": "0.01",
          "x": "yellow cards",
          "y": "games_injured"
         },
         {
          "font": {
           "size": 8
          },
          "showarrow": false,
          "text": "0.01",
          "x": "second yellow cards",
          "y": "games_injured"
         },
         {
          "font": {
           "size": 8
          },
          "showarrow": false,
          "text": "-0.00",
          "x": "red cards",
          "y": "games_injured"
         },
         {
          "font": {
           "size": 8
          },
          "showarrow": false,
          "text": "-0.04",
          "x": "goals conceded",
          "y": "games_injured"
         },
         {
          "font": {
           "size": 8
          },
          "showarrow": false,
          "text": "0.01",
          "x": "clean sheets",
          "y": "games_injured"
         },
         {
          "font": {
           "size": 8
          },
          "showarrow": false,
          "text": "0.12",
          "x": "minutes played",
          "y": "games_injured"
         },
         {
          "font": {
           "size": 8
          },
          "showarrow": false,
          "text": "0.95",
          "x": "days_injured",
          "y": "games_injured"
         },
         {
          "font": {
           "size": 8
          },
          "showarrow": false,
          "text": "1.00",
          "x": "games_injured",
          "y": "games_injured"
         },
         {
          "font": {
           "size": 8
          },
          "showarrow": false,
          "text": "0.31",
          "x": "award",
          "y": "games_injured"
         },
         {
          "font": {
           "size": 8
          },
          "showarrow": false,
          "text": "0.14",
          "x": "current_value",
          "y": "games_injured"
         },
         {
          "font": {
           "size": 8
          },
          "showarrow": false,
          "text": "0.29",
          "x": "highest_value",
          "y": "games_injured"
         },
         {
          "font": {
           "size": 8
          },
          "showarrow": false,
          "text": "0.04",
          "x": "PCA_1",
          "y": "games_injured"
         },
         {
          "font": {
           "size": 8
          },
          "showarrow": false,
          "text": "-0.00",
          "x": "PCA_2",
          "y": "games_injured"
         },
         {
          "font": {
           "size": 8
          },
          "showarrow": false,
          "text": "-0.06",
          "x": "PCA_3",
          "y": "games_injured"
         },
         {
          "font": {
           "size": 8
          },
          "showarrow": false,
          "text": "-0.02",
          "x": "PCA_4",
          "y": "games_injured"
         },
         {
          "font": {
           "size": 8
          },
          "showarrow": false,
          "text": "-0.03",
          "x": "PCA_5",
          "y": "games_injured"
         },
         {
          "font": {
           "size": 8
          },
          "showarrow": false,
          "text": "-0.01",
          "x": "PCA_6",
          "y": "games_injured"
         },
         {
          "font": {
           "size": 8
          },
          "showarrow": false,
          "text": "-0.00",
          "x": "PCA_7",
          "y": "games_injured"
         },
         {
          "font": {
           "size": 8
          },
          "showarrow": false,
          "text": "-0.02",
          "x": "PCA_8",
          "y": "games_injured"
         },
         {
          "font": {
           "size": 8
          },
          "showarrow": false,
          "text": "0.03",
          "x": "PCA_9",
          "y": "games_injured"
         },
         {
          "font": {
           "size": 8
          },
          "showarrow": false,
          "text": "-0.00",
          "x": "PCA_10",
          "y": "games_injured"
         },
         {
          "font": {
           "size": 8
          },
          "showarrow": false,
          "text": "0.01",
          "x": "height",
          "y": "award"
         },
         {
          "font": {
           "size": 8
          },
          "showarrow": false,
          "text": "0.36",
          "x": "age",
          "y": "award"
         },
         {
          "font": {
           "size": 8
          },
          "showarrow": false,
          "text": "0.22",
          "x": "appearance",
          "y": "award"
         },
         {
          "font": {
           "size": 8
          },
          "showarrow": false,
          "text": "0.10",
          "x": "goals",
          "y": "award"
         },
         {
          "font": {
           "size": 8
          },
          "showarrow": false,
          "text": "0.09",
          "x": "assists",
          "y": "award"
         },
         {
          "font": {
           "size": 8
          },
          "showarrow": false,
          "text": "-0.01",
          "x": "yellow cards",
          "y": "award"
         },
         {
          "font": {
           "size": 8
          },
          "showarrow": false,
          "text": "-0.02",
          "x": "second yellow cards",
          "y": "award"
         },
         {
          "font": {
           "size": 8
          },
          "showarrow": false,
          "text": "-0.01",
          "x": "red cards",
          "y": "award"
         },
         {
          "font": {
           "size": 8
          },
          "showarrow": false,
          "text": "-0.01",
          "x": "goals conceded",
          "y": "award"
         },
         {
          "font": {
           "size": 8
          },
          "showarrow": false,
          "text": "0.00",
          "x": "clean sheets",
          "y": "award"
         },
         {
          "font": {
           "size": 8
          },
          "showarrow": false,
          "text": "0.21",
          "x": "minutes played",
          "y": "award"
         },
         {
          "font": {
           "size": 8
          },
          "showarrow": false,
          "text": "0.26",
          "x": "days_injured",
          "y": "award"
         },
         {
          "font": {
           "size": 8
          },
          "showarrow": false,
          "text": "0.31",
          "x": "games_injured",
          "y": "award"
         },
         {
          "font": {
           "size": 8
          },
          "showarrow": false,
          "text": "1.00",
          "x": "award",
          "y": "award"
         },
         {
          "font": {
           "size": 8
          },
          "showarrow": false,
          "text": "0.30",
          "x": "current_value",
          "y": "award"
         },
         {
          "font": {
           "size": 8
          },
          "showarrow": false,
          "text": "0.53",
          "x": "highest_value",
          "y": "award"
         },
         {
          "font": {
           "size": 8
          },
          "showarrow": false,
          "text": "-0.01",
          "x": "PCA_1",
          "y": "award"
         },
         {
          "font": {
           "size": 8
          },
          "showarrow": false,
          "text": "0.03",
          "x": "PCA_2",
          "y": "award"
         },
         {
          "font": {
           "size": 8
          },
          "showarrow": false,
          "text": "-0.01",
          "x": "PCA_3",
          "y": "award"
         },
         {
          "font": {
           "size": 8
          },
          "showarrow": false,
          "text": "-0.01",
          "x": "PCA_4",
          "y": "award"
         },
         {
          "font": {
           "size": 8
          },
          "showarrow": false,
          "text": "-0.02",
          "x": "PCA_5",
          "y": "award"
         },
         {
          "font": {
           "size": 8
          },
          "showarrow": false,
          "text": "-0.01",
          "x": "PCA_6",
          "y": "award"
         },
         {
          "font": {
           "size": 8
          },
          "showarrow": false,
          "text": "-0.01",
          "x": "PCA_7",
          "y": "award"
         },
         {
          "font": {
           "size": 8
          },
          "showarrow": false,
          "text": "-0.01",
          "x": "PCA_8",
          "y": "award"
         },
         {
          "font": {
           "size": 8
          },
          "showarrow": false,
          "text": "0.03",
          "x": "PCA_9",
          "y": "award"
         },
         {
          "font": {
           "size": 8
          },
          "showarrow": false,
          "text": "-0.01",
          "x": "PCA_10",
          "y": "award"
         },
         {
          "font": {
           "size": 8
          },
          "showarrow": false,
          "text": "0.04",
          "x": "height",
          "y": "current_value"
         },
         {
          "font": {
           "size": 8
          },
          "showarrow": false,
          "text": "-0.05",
          "x": "age",
          "y": "current_value"
         },
         {
          "font": {
           "size": 8
          },
          "showarrow": false,
          "text": "0.42",
          "x": "appearance",
          "y": "current_value"
         },
         {
          "font": {
           "size": 8
          },
          "showarrow": false,
          "text": "0.12",
          "x": "goals",
          "y": "current_value"
         },
         {
          "font": {
           "size": 8
          },
          "showarrow": false,
          "text": "0.14",
          "x": "assists",
          "y": "current_value"
         },
         {
          "font": {
           "size": 8
          },
          "showarrow": false,
          "text": "-0.01",
          "x": "yellow cards",
          "y": "current_value"
         },
         {
          "font": {
           "size": 8
          },
          "showarrow": false,
          "text": "-0.01",
          "x": "second yellow cards",
          "y": "current_value"
         },
         {
          "font": {
           "size": 8
          },
          "showarrow": false,
          "text": "-0.01",
          "x": "red cards",
          "y": "current_value"
         },
         {
          "font": {
           "size": 8
          },
          "showarrow": false,
          "text": "-0.06",
          "x": "goals conceded",
          "y": "current_value"
         },
         {
          "font": {
           "size": 8
          },
          "showarrow": false,
          "text": "-0.01",
          "x": "clean sheets",
          "y": "current_value"
         },
         {
          "font": {
           "size": 8
          },
          "showarrow": false,
          "text": "0.42",
          "x": "minutes played",
          "y": "current_value"
         },
         {
          "font": {
           "size": 8
          },
          "showarrow": false,
          "text": "0.11",
          "x": "days_injured",
          "y": "current_value"
         },
         {
          "font": {
           "size": 8
          },
          "showarrow": false,
          "text": "0.14",
          "x": "games_injured",
          "y": "current_value"
         },
         {
          "font": {
           "size": 8
          },
          "showarrow": false,
          "text": "0.30",
          "x": "award",
          "y": "current_value"
         },
         {
          "font": {
           "size": 8
          },
          "showarrow": false,
          "text": "1.00",
          "x": "current_value",
          "y": "current_value"
         },
         {
          "font": {
           "size": 8
          },
          "showarrow": false,
          "text": "0.83",
          "x": "highest_value",
          "y": "current_value"
         },
         {
          "font": {
           "size": 8
          },
          "showarrow": false,
          "text": "-0.04",
          "x": "PCA_1",
          "y": "current_value"
         },
         {
          "font": {
           "size": 8
          },
          "showarrow": false,
          "text": "0.02",
          "x": "PCA_2",
          "y": "current_value"
         },
         {
          "font": {
           "size": 8
          },
          "showarrow": false,
          "text": "-0.08",
          "x": "PCA_3",
          "y": "current_value"
         },
         {
          "font": {
           "size": 8
          },
          "showarrow": false,
          "text": "-0.01",
          "x": "PCA_4",
          "y": "current_value"
         },
         {
          "font": {
           "size": 8
          },
          "showarrow": false,
          "text": "-0.03",
          "x": "PCA_5",
          "y": "current_value"
         },
         {
          "font": {
           "size": 8
          },
          "showarrow": false,
          "text": "-0.01",
          "x": "PCA_6",
          "y": "current_value"
         },
         {
          "font": {
           "size": 8
          },
          "showarrow": false,
          "text": "0.00",
          "x": "PCA_7",
          "y": "current_value"
         },
         {
          "font": {
           "size": 8
          },
          "showarrow": false,
          "text": "0.00",
          "x": "PCA_8",
          "y": "current_value"
         },
         {
          "font": {
           "size": 8
          },
          "showarrow": false,
          "text": "0.01",
          "x": "PCA_9",
          "y": "current_value"
         },
         {
          "font": {
           "size": 8
          },
          "showarrow": false,
          "text": "-0.02",
          "x": "PCA_10",
          "y": "current_value"
         },
         {
          "font": {
           "size": 8
          },
          "showarrow": false,
          "text": "0.04",
          "x": "height",
          "y": "highest_value"
         },
         {
          "font": {
           "size": 8
          },
          "showarrow": false,
          "text": "0.12",
          "x": "age",
          "y": "highest_value"
         },
         {
          "font": {
           "size": 8
          },
          "showarrow": false,
          "text": "0.42",
          "x": "appearance",
          "y": "highest_value"
         },
         {
          "font": {
           "size": 8
          },
          "showarrow": false,
          "text": "0.13",
          "x": "goals",
          "y": "highest_value"
         },
         {
          "font": {
           "size": 8
          },
          "showarrow": false,
          "text": "0.15",
          "x": "assists",
          "y": "highest_value"
         },
         {
          "font": {
           "size": 8
          },
          "showarrow": false,
          "text": "-0.01",
          "x": "yellow cards",
          "y": "highest_value"
         },
         {
          "font": {
           "size": 8
          },
          "showarrow": false,
          "text": "-0.01",
          "x": "second yellow cards",
          "y": "highest_value"
         },
         {
          "font": {
           "size": 8
          },
          "showarrow": false,
          "text": "-0.01",
          "x": "red cards",
          "y": "highest_value"
         },
         {
          "font": {
           "size": 8
          },
          "showarrow": false,
          "text": "-0.06",
          "x": "goals conceded",
          "y": "highest_value"
         },
         {
          "font": {
           "size": 8
          },
          "showarrow": false,
          "text": "-0.01",
          "x": "clean sheets",
          "y": "highest_value"
         },
         {
          "font": {
           "size": 8
          },
          "showarrow": false,
          "text": "0.40",
          "x": "minutes played",
          "y": "highest_value"
         },
         {
          "font": {
           "size": 8
          },
          "showarrow": false,
          "text": "0.23",
          "x": "days_injured",
          "y": "highest_value"
         },
         {
          "font": {
           "size": 8
          },
          "showarrow": false,
          "text": "0.29",
          "x": "games_injured",
          "y": "highest_value"
         },
         {
          "font": {
           "size": 8
          },
          "showarrow": false,
          "text": "0.53",
          "x": "award",
          "y": "highest_value"
         },
         {
          "font": {
           "size": 8
          },
          "showarrow": false,
          "text": "0.83",
          "x": "current_value",
          "y": "highest_value"
         },
         {
          "font": {
           "size": 8
          },
          "showarrow": false,
          "text": "1.00",
          "x": "highest_value",
          "y": "highest_value"
         },
         {
          "font": {
           "size": 8
          },
          "showarrow": false,
          "text": "-0.05",
          "x": "PCA_1",
          "y": "highest_value"
         },
         {
          "font": {
           "size": 8
          },
          "showarrow": false,
          "text": "0.04",
          "x": "PCA_2",
          "y": "highest_value"
         },
         {
          "font": {
           "size": 8
          },
          "showarrow": false,
          "text": "-0.08",
          "x": "PCA_3",
          "y": "highest_value"
         },
         {
          "font": {
           "size": 8
          },
          "showarrow": false,
          "text": "-0.01",
          "x": "PCA_4",
          "y": "highest_value"
         },
         {
          "font": {
           "size": 8
          },
          "showarrow": false,
          "text": "-0.04",
          "x": "PCA_5",
          "y": "highest_value"
         },
         {
          "font": {
           "size": 8
          },
          "showarrow": false,
          "text": "-0.01",
          "x": "PCA_6",
          "y": "highest_value"
         },
         {
          "font": {
           "size": 8
          },
          "showarrow": false,
          "text": "0.00",
          "x": "PCA_7",
          "y": "highest_value"
         },
         {
          "font": {
           "size": 8
          },
          "showarrow": false,
          "text": "0.00",
          "x": "PCA_8",
          "y": "highest_value"
         },
         {
          "font": {
           "size": 8
          },
          "showarrow": false,
          "text": "0.01",
          "x": "PCA_9",
          "y": "highest_value"
         },
         {
          "font": {
           "size": 8
          },
          "showarrow": false,
          "text": "-0.02",
          "x": "PCA_10",
          "y": "highest_value"
         },
         {
          "font": {
           "size": 8
          },
          "showarrow": false,
          "text": "0.22",
          "x": "height",
          "y": "PCA_1"
         },
         {
          "font": {
           "size": 8
          },
          "showarrow": false,
          "text": "0.06",
          "x": "age",
          "y": "PCA_1"
         },
         {
          "font": {
           "size": 8
          },
          "showarrow": false,
          "text": "-0.02",
          "x": "appearance",
          "y": "PCA_1"
         },
         {
          "font": {
           "size": 8
          },
          "showarrow": false,
          "text": "-0.24",
          "x": "goals",
          "y": "PCA_1"
         },
         {
          "font": {
           "size": 8
          },
          "showarrow": false,
          "text": "-0.19",
          "x": "assists",
          "y": "PCA_1"
         },
         {
          "font": {
           "size": 8
          },
          "showarrow": false,
          "text": "-0.01",
          "x": "yellow cards",
          "y": "PCA_1"
         },
         {
          "font": {
           "size": 8
          },
          "showarrow": false,
          "text": "0.03",
          "x": "second yellow cards",
          "y": "PCA_1"
         },
         {
          "font": {
           "size": 8
          },
          "showarrow": false,
          "text": "-0.00",
          "x": "red cards",
          "y": "PCA_1"
         },
         {
          "font": {
           "size": 8
          },
          "showarrow": false,
          "text": "-0.04",
          "x": "goals conceded",
          "y": "PCA_1"
         },
         {
          "font": {
           "size": 8
          },
          "showarrow": false,
          "text": "-0.01",
          "x": "clean sheets",
          "y": "PCA_1"
         },
         {
          "font": {
           "size": 8
          },
          "showarrow": false,
          "text": "0.08",
          "x": "minutes played",
          "y": "PCA_1"
         },
         {
          "font": {
           "size": 8
          },
          "showarrow": false,
          "text": "0.04",
          "x": "days_injured",
          "y": "PCA_1"
         },
         {
          "font": {
           "size": 8
          },
          "showarrow": false,
          "text": "0.04",
          "x": "games_injured",
          "y": "PCA_1"
         },
         {
          "font": {
           "size": 8
          },
          "showarrow": false,
          "text": "-0.01",
          "x": "award",
          "y": "PCA_1"
         },
         {
          "font": {
           "size": 8
          },
          "showarrow": false,
          "text": "-0.04",
          "x": "current_value",
          "y": "PCA_1"
         },
         {
          "font": {
           "size": 8
          },
          "showarrow": false,
          "text": "-0.05",
          "x": "highest_value",
          "y": "PCA_1"
         },
         {
          "font": {
           "size": 8
          },
          "showarrow": false,
          "text": "1.00",
          "x": "PCA_1",
          "y": "PCA_1"
         },
         {
          "font": {
           "size": 8
          },
          "showarrow": false,
          "text": "0.00",
          "x": "PCA_2",
          "y": "PCA_1"
         },
         {
          "font": {
           "size": 8
          },
          "showarrow": false,
          "text": "-0.00",
          "x": "PCA_3",
          "y": "PCA_1"
         },
         {
          "font": {
           "size": 8
          },
          "showarrow": false,
          "text": "-0.00",
          "x": "PCA_4",
          "y": "PCA_1"
         },
         {
          "font": {
           "size": 8
          },
          "showarrow": false,
          "text": "-0.00",
          "x": "PCA_5",
          "y": "PCA_1"
         },
         {
          "font": {
           "size": 8
          },
          "showarrow": false,
          "text": "0.00",
          "x": "PCA_6",
          "y": "PCA_1"
         },
         {
          "font": {
           "size": 8
          },
          "showarrow": false,
          "text": "-0.00",
          "x": "PCA_7",
          "y": "PCA_1"
         },
         {
          "font": {
           "size": 8
          },
          "showarrow": false,
          "text": "-0.00",
          "x": "PCA_8",
          "y": "PCA_1"
         },
         {
          "font": {
           "size": 8
          },
          "showarrow": false,
          "text": "0.00",
          "x": "PCA_9",
          "y": "PCA_1"
         },
         {
          "font": {
           "size": 8
          },
          "showarrow": false,
          "text": "0.00",
          "x": "PCA_10",
          "y": "PCA_1"
         },
         {
          "font": {
           "size": 8
          },
          "showarrow": false,
          "text": "0.04",
          "x": "height",
          "y": "PCA_2"
         },
         {
          "font": {
           "size": 8
          },
          "showarrow": false,
          "text": "0.00",
          "x": "age",
          "y": "PCA_2"
         },
         {
          "font": {
           "size": 8
          },
          "showarrow": false,
          "text": "0.01",
          "x": "appearance",
          "y": "PCA_2"
         },
         {
          "font": {
           "size": 8
          },
          "showarrow": false,
          "text": "0.33",
          "x": "goals",
          "y": "PCA_2"
         },
         {
          "font": {
           "size": 8
          },
          "showarrow": false,
          "text": "0.14",
          "x": "assists",
          "y": "PCA_2"
         },
         {
          "font": {
           "size": 8
          },
          "showarrow": false,
          "text": "-0.01",
          "x": "yellow cards",
          "y": "PCA_2"
         },
         {
          "font": {
           "size": 8
          },
          "showarrow": false,
          "text": "-0.03",
          "x": "second yellow cards",
          "y": "PCA_2"
         },
         {
          "font": {
           "size": 8
          },
          "showarrow": false,
          "text": "-0.00",
          "x": "red cards",
          "y": "PCA_2"
         },
         {
          "font": {
           "size": 8
          },
          "showarrow": false,
          "text": "0.02",
          "x": "goals conceded",
          "y": "PCA_2"
         },
         {
          "font": {
           "size": 8
          },
          "showarrow": false,
          "text": "0.00",
          "x": "clean sheets",
          "y": "PCA_2"
         },
         {
          "font": {
           "size": 8
          },
          "showarrow": false,
          "text": "-0.06",
          "x": "minutes played",
          "y": "PCA_2"
         },
         {
          "font": {
           "size": 8
          },
          "showarrow": false,
          "text": "0.00",
          "x": "days_injured",
          "y": "PCA_2"
         },
         {
          "font": {
           "size": 8
          },
          "showarrow": false,
          "text": "-0.00",
          "x": "games_injured",
          "y": "PCA_2"
         },
         {
          "font": {
           "size": 8
          },
          "showarrow": false,
          "text": "0.03",
          "x": "award",
          "y": "PCA_2"
         },
         {
          "font": {
           "size": 8
          },
          "showarrow": false,
          "text": "0.02",
          "x": "current_value",
          "y": "PCA_2"
         },
         {
          "font": {
           "size": 8
          },
          "showarrow": false,
          "text": "0.04",
          "x": "highest_value",
          "y": "PCA_2"
         },
         {
          "font": {
           "size": 8
          },
          "showarrow": false,
          "text": "0.00",
          "x": "PCA_1",
          "y": "PCA_2"
         },
         {
          "font": {
           "size": 8
          },
          "showarrow": false,
          "text": "1.00",
          "x": "PCA_2",
          "y": "PCA_2"
         },
         {
          "font": {
           "size": 8
          },
          "showarrow": false,
          "text": "-0.00",
          "x": "PCA_3",
          "y": "PCA_2"
         },
         {
          "font": {
           "size": 8
          },
          "showarrow": false,
          "text": "-0.00",
          "x": "PCA_4",
          "y": "PCA_2"
         },
         {
          "font": {
           "size": 8
          },
          "showarrow": false,
          "text": "-0.00",
          "x": "PCA_5",
          "y": "PCA_2"
         },
         {
          "font": {
           "size": 8
          },
          "showarrow": false,
          "text": "-0.00",
          "x": "PCA_6",
          "y": "PCA_2"
         },
         {
          "font": {
           "size": 8
          },
          "showarrow": false,
          "text": "-0.00",
          "x": "PCA_7",
          "y": "PCA_2"
         },
         {
          "font": {
           "size": 8
          },
          "showarrow": false,
          "text": "-0.00",
          "x": "PCA_8",
          "y": "PCA_2"
         },
         {
          "font": {
           "size": 8
          },
          "showarrow": false,
          "text": "-0.00",
          "x": "PCA_9",
          "y": "PCA_2"
         },
         {
          "font": {
           "size": 8
          },
          "showarrow": false,
          "text": "0.00",
          "x": "PCA_10",
          "y": "PCA_2"
         },
         {
          "font": {
           "size": 8
          },
          "showarrow": false,
          "text": "0.40",
          "x": "height",
          "y": "PCA_3"
         },
         {
          "font": {
           "size": 8
          },
          "showarrow": false,
          "text": "0.11",
          "x": "age",
          "y": "PCA_3"
         },
         {
          "font": {
           "size": 8
          },
          "showarrow": false,
          "text": "-0.17",
          "x": "appearance",
          "y": "PCA_3"
         },
         {
          "font": {
           "size": 8
          },
          "showarrow": false,
          "text": "-0.21",
          "x": "goals",
          "y": "PCA_3"
         },
         {
          "font": {
           "size": 8
          },
          "showarrow": false,
          "text": "-0.23",
          "x": "assists",
          "y": "PCA_3"
         },
         {
          "font": {
           "size": 8
          },
          "showarrow": false,
          "text": "-0.12",
          "x": "yellow cards",
          "y": "PCA_3"
         },
         {
          "font": {
           "size": 8
          },
          "showarrow": false,
          "text": "-0.05",
          "x": "second yellow cards",
          "y": "PCA_3"
         },
         {
          "font": {
           "size": 8
          },
          "showarrow": false,
          "text": "-0.01",
          "x": "red cards",
          "y": "PCA_3"
         },
         {
          "font": {
           "size": 8
          },
          "showarrow": false,
          "text": "0.83",
          "x": "goals conceded",
          "y": "PCA_3"
         },
         {
          "font": {
           "size": 8
          },
          "showarrow": false,
          "text": "0.14",
          "x": "clean sheets",
          "y": "PCA_3"
         },
         {
          "font": {
           "size": 8
          },
          "showarrow": false,
          "text": "-0.05",
          "x": "minutes played",
          "y": "PCA_3"
         },
         {
          "font": {
           "size": 8
          },
          "showarrow": false,
          "text": "-0.05",
          "x": "days_injured",
          "y": "PCA_3"
         },
         {
          "font": {
           "size": 8
          },
          "showarrow": false,
          "text": "-0.06",
          "x": "games_injured",
          "y": "PCA_3"
         },
         {
          "font": {
           "size": 8
          },
          "showarrow": false,
          "text": "-0.01",
          "x": "award",
          "y": "PCA_3"
         },
         {
          "font": {
           "size": 8
          },
          "showarrow": false,
          "text": "-0.08",
          "x": "current_value",
          "y": "PCA_3"
         },
         {
          "font": {
           "size": 8
          },
          "showarrow": false,
          "text": "-0.08",
          "x": "highest_value",
          "y": "PCA_3"
         },
         {
          "font": {
           "size": 8
          },
          "showarrow": false,
          "text": "-0.00",
          "x": "PCA_1",
          "y": "PCA_3"
         },
         {
          "font": {
           "size": 8
          },
          "showarrow": false,
          "text": "-0.00",
          "x": "PCA_2",
          "y": "PCA_3"
         },
         {
          "font": {
           "size": 8
          },
          "showarrow": false,
          "text": "1.00",
          "x": "PCA_3",
          "y": "PCA_3"
         },
         {
          "font": {
           "size": 8
          },
          "showarrow": false,
          "text": "-0.00",
          "x": "PCA_4",
          "y": "PCA_3"
         },
         {
          "font": {
           "size": 8
          },
          "showarrow": false,
          "text": "-0.00",
          "x": "PCA_5",
          "y": "PCA_3"
         },
         {
          "font": {
           "size": 8
          },
          "showarrow": false,
          "text": "0.00",
          "x": "PCA_6",
          "y": "PCA_3"
         },
         {
          "font": {
           "size": 8
          },
          "showarrow": false,
          "text": "-0.00",
          "x": "PCA_7",
          "y": "PCA_3"
         },
         {
          "font": {
           "size": 8
          },
          "showarrow": false,
          "text": "-0.00",
          "x": "PCA_8",
          "y": "PCA_3"
         },
         {
          "font": {
           "size": 8
          },
          "showarrow": false,
          "text": "-0.00",
          "x": "PCA_9",
          "y": "PCA_3"
         },
         {
          "font": {
           "size": 8
          },
          "showarrow": false,
          "text": "0.00",
          "x": "PCA_10",
          "y": "PCA_3"
         },
         {
          "font": {
           "size": 8
          },
          "showarrow": false,
          "text": "-0.01",
          "x": "height",
          "y": "PCA_4"
         },
         {
          "font": {
           "size": 8
          },
          "showarrow": false,
          "text": "-0.01",
          "x": "age",
          "y": "PCA_4"
         },
         {
          "font": {
           "size": 8
          },
          "showarrow": false,
          "text": "-0.02",
          "x": "appearance",
          "y": "PCA_4"
         },
         {
          "font": {
           "size": 8
          },
          "showarrow": false,
          "text": "0.00",
          "x": "goals",
          "y": "PCA_4"
         },
         {
          "font": {
           "size": 8
          },
          "showarrow": false,
          "text": "0.01",
          "x": "assists",
          "y": "PCA_4"
         },
         {
          "font": {
           "size": 8
          },
          "showarrow": false,
          "text": "0.00",
          "x": "yellow cards",
          "y": "PCA_4"
         },
         {
          "font": {
           "size": 8
          },
          "showarrow": false,
          "text": "0.01",
          "x": "second yellow cards",
          "y": "PCA_4"
         },
         {
          "font": {
           "size": 8
          },
          "showarrow": false,
          "text": "-0.01",
          "x": "red cards",
          "y": "PCA_4"
         },
         {
          "font": {
           "size": 8
          },
          "showarrow": false,
          "text": "0.00",
          "x": "goals conceded",
          "y": "PCA_4"
         },
         {
          "font": {
           "size": 8
          },
          "showarrow": false,
          "text": "-0.00",
          "x": "clean sheets",
          "y": "PCA_4"
         },
         {
          "font": {
           "size": 8
          },
          "showarrow": false,
          "text": "-0.02",
          "x": "minutes played",
          "y": "PCA_4"
         },
         {
          "font": {
           "size": 8
          },
          "showarrow": false,
          "text": "-0.02",
          "x": "days_injured",
          "y": "PCA_4"
         },
         {
          "font": {
           "size": 8
          },
          "showarrow": false,
          "text": "-0.02",
          "x": "games_injured",
          "y": "PCA_4"
         },
         {
          "font": {
           "size": 8
          },
          "showarrow": false,
          "text": "-0.01",
          "x": "award",
          "y": "PCA_4"
         },
         {
          "font": {
           "size": 8
          },
          "showarrow": false,
          "text": "-0.01",
          "x": "current_value",
          "y": "PCA_4"
         },
         {
          "font": {
           "size": 8
          },
          "showarrow": false,
          "text": "-0.01",
          "x": "highest_value",
          "y": "PCA_4"
         },
         {
          "font": {
           "size": 8
          },
          "showarrow": false,
          "text": "-0.00",
          "x": "PCA_1",
          "y": "PCA_4"
         },
         {
          "font": {
           "size": 8
          },
          "showarrow": false,
          "text": "-0.00",
          "x": "PCA_2",
          "y": "PCA_4"
         },
         {
          "font": {
           "size": 8
          },
          "showarrow": false,
          "text": "-0.00",
          "x": "PCA_3",
          "y": "PCA_4"
         },
         {
          "font": {
           "size": 8
          },
          "showarrow": false,
          "text": "1.00",
          "x": "PCA_4",
          "y": "PCA_4"
         },
         {
          "font": {
           "size": 8
          },
          "showarrow": false,
          "text": "-0.00",
          "x": "PCA_5",
          "y": "PCA_4"
         },
         {
          "font": {
           "size": 8
          },
          "showarrow": false,
          "text": "-0.00",
          "x": "PCA_6",
          "y": "PCA_4"
         },
         {
          "font": {
           "size": 8
          },
          "showarrow": false,
          "text": "-0.00",
          "x": "PCA_7",
          "y": "PCA_4"
         },
         {
          "font": {
           "size": 8
          },
          "showarrow": false,
          "text": "-0.00",
          "x": "PCA_8",
          "y": "PCA_4"
         },
         {
          "font": {
           "size": 8
          },
          "showarrow": false,
          "text": "0.00",
          "x": "PCA_9",
          "y": "PCA_4"
         },
         {
          "font": {
           "size": 8
          },
          "showarrow": false,
          "text": "-0.00",
          "x": "PCA_10",
          "y": "PCA_4"
         },
         {
          "font": {
           "size": 8
          },
          "showarrow": false,
          "text": "0.00",
          "x": "height",
          "y": "PCA_5"
         },
         {
          "font": {
           "size": 8
          },
          "showarrow": false,
          "text": "-0.02",
          "x": "age",
          "y": "PCA_5"
         },
         {
          "font": {
           "size": 8
          },
          "showarrow": false,
          "text": "-0.06",
          "x": "appearance",
          "y": "PCA_5"
         },
         {
          "font": {
           "size": 8
          },
          "showarrow": false,
          "text": "0.00",
          "x": "goals",
          "y": "PCA_5"
         },
         {
          "font": {
           "size": 8
          },
          "showarrow": false,
          "text": "-0.01",
          "x": "assists",
          "y": "PCA_5"
         },
         {
          "font": {
           "size": 8
          },
          "showarrow": false,
          "text": "0.00",
          "x": "yellow cards",
          "y": "PCA_5"
         },
         {
          "font": {
           "size": 8
          },
          "showarrow": false,
          "text": "0.01",
          "x": "second yellow cards",
          "y": "PCA_5"
         },
         {
          "font": {
           "size": 8
          },
          "showarrow": false,
          "text": "-0.01",
          "x": "red cards",
          "y": "PCA_5"
         },
         {
          "font": {
           "size": 8
          },
          "showarrow": false,
          "text": "-0.00",
          "x": "goals conceded",
          "y": "PCA_5"
         },
         {
          "font": {
           "size": 8
          },
          "showarrow": false,
          "text": "-0.00",
          "x": "clean sheets",
          "y": "PCA_5"
         },
         {
          "font": {
           "size": 8
          },
          "showarrow": false,
          "text": "-0.05",
          "x": "minutes played",
          "y": "PCA_5"
         },
         {
          "font": {
           "size": 8
          },
          "showarrow": false,
          "text": "-0.02",
          "x": "days_injured",
          "y": "PCA_5"
         },
         {
          "font": {
           "size": 8
          },
          "showarrow": false,
          "text": "-0.03",
          "x": "games_injured",
          "y": "PCA_5"
         },
         {
          "font": {
           "size": 8
          },
          "showarrow": false,
          "text": "-0.02",
          "x": "award",
          "y": "PCA_5"
         },
         {
          "font": {
           "size": 8
          },
          "showarrow": false,
          "text": "-0.03",
          "x": "current_value",
          "y": "PCA_5"
         },
         {
          "font": {
           "size": 8
          },
          "showarrow": false,
          "text": "-0.04",
          "x": "highest_value",
          "y": "PCA_5"
         },
         {
          "font": {
           "size": 8
          },
          "showarrow": false,
          "text": "-0.00",
          "x": "PCA_1",
          "y": "PCA_5"
         },
         {
          "font": {
           "size": 8
          },
          "showarrow": false,
          "text": "-0.00",
          "x": "PCA_2",
          "y": "PCA_5"
         },
         {
          "font": {
           "size": 8
          },
          "showarrow": false,
          "text": "-0.00",
          "x": "PCA_3",
          "y": "PCA_5"
         },
         {
          "font": {
           "size": 8
          },
          "showarrow": false,
          "text": "-0.00",
          "x": "PCA_4",
          "y": "PCA_5"
         },
         {
          "font": {
           "size": 8
          },
          "showarrow": false,
          "text": "1.00",
          "x": "PCA_5",
          "y": "PCA_5"
         },
         {
          "font": {
           "size": 8
          },
          "showarrow": false,
          "text": "-0.00",
          "x": "PCA_6",
          "y": "PCA_5"
         },
         {
          "font": {
           "size": 8
          },
          "showarrow": false,
          "text": "-0.00",
          "x": "PCA_7",
          "y": "PCA_5"
         },
         {
          "font": {
           "size": 8
          },
          "showarrow": false,
          "text": "-0.00",
          "x": "PCA_8",
          "y": "PCA_5"
         },
         {
          "font": {
           "size": 8
          },
          "showarrow": false,
          "text": "0.00",
          "x": "PCA_9",
          "y": "PCA_5"
         },
         {
          "font": {
           "size": 8
          },
          "showarrow": false,
          "text": "-0.00",
          "x": "PCA_10",
          "y": "PCA_5"
         },
         {
          "font": {
           "size": 8
          },
          "showarrow": false,
          "text": "0.01",
          "x": "height",
          "y": "PCA_6"
         },
         {
          "font": {
           "size": 8
          },
          "showarrow": false,
          "text": "-0.02",
          "x": "age",
          "y": "PCA_6"
         },
         {
          "font": {
           "size": 8
          },
          "showarrow": false,
          "text": "-0.06",
          "x": "appearance",
          "y": "PCA_6"
         },
         {
          "font": {
           "size": 8
          },
          "showarrow": false,
          "text": "-0.02",
          "x": "goals",
          "y": "PCA_6"
         },
         {
          "font": {
           "size": 8
          },
          "showarrow": false,
          "text": "-0.03",
          "x": "assists",
          "y": "PCA_6"
         },
         {
          "font": {
           "size": 8
          },
          "showarrow": false,
          "text": "-0.00",
          "x": "yellow cards",
          "y": "PCA_6"
         },
         {
          "font": {
           "size": 8
          },
          "showarrow": false,
          "text": "0.01",
          "x": "second yellow cards",
          "y": "PCA_6"
         },
         {
          "font": {
           "size": 8
          },
          "showarrow": false,
          "text": "-0.01",
          "x": "red cards",
          "y": "PCA_6"
         },
         {
          "font": {
           "size": 8
          },
          "showarrow": false,
          "text": "-0.01",
          "x": "goals conceded",
          "y": "PCA_6"
         },
         {
          "font": {
           "size": 8
          },
          "showarrow": false,
          "text": "0.00",
          "x": "clean sheets",
          "y": "PCA_6"
         },
         {
          "font": {
           "size": 8
          },
          "showarrow": false,
          "text": "-0.05",
          "x": "minutes played",
          "y": "PCA_6"
         },
         {
          "font": {
           "size": 8
          },
          "showarrow": false,
          "text": "-0.01",
          "x": "days_injured",
          "y": "PCA_6"
         },
         {
          "font": {
           "size": 8
          },
          "showarrow": false,
          "text": "-0.01",
          "x": "games_injured",
          "y": "PCA_6"
         },
         {
          "font": {
           "size": 8
          },
          "showarrow": false,
          "text": "-0.01",
          "x": "award",
          "y": "PCA_6"
         },
         {
          "font": {
           "size": 8
          },
          "showarrow": false,
          "text": "-0.01",
          "x": "current_value",
          "y": "PCA_6"
         },
         {
          "font": {
           "size": 8
          },
          "showarrow": false,
          "text": "-0.01",
          "x": "highest_value",
          "y": "PCA_6"
         },
         {
          "font": {
           "size": 8
          },
          "showarrow": false,
          "text": "0.00",
          "x": "PCA_1",
          "y": "PCA_6"
         },
         {
          "font": {
           "size": 8
          },
          "showarrow": false,
          "text": "-0.00",
          "x": "PCA_2",
          "y": "PCA_6"
         },
         {
          "font": {
           "size": 8
          },
          "showarrow": false,
          "text": "0.00",
          "x": "PCA_3",
          "y": "PCA_6"
         },
         {
          "font": {
           "size": 8
          },
          "showarrow": false,
          "text": "-0.00",
          "x": "PCA_4",
          "y": "PCA_6"
         },
         {
          "font": {
           "size": 8
          },
          "showarrow": false,
          "text": "-0.00",
          "x": "PCA_5",
          "y": "PCA_6"
         },
         {
          "font": {
           "size": 8
          },
          "showarrow": false,
          "text": "1.00",
          "x": "PCA_6",
          "y": "PCA_6"
         },
         {
          "font": {
           "size": 8
          },
          "showarrow": false,
          "text": "-0.00",
          "x": "PCA_7",
          "y": "PCA_6"
         },
         {
          "font": {
           "size": 8
          },
          "showarrow": false,
          "text": "0.00",
          "x": "PCA_8",
          "y": "PCA_6"
         },
         {
          "font": {
           "size": 8
          },
          "showarrow": false,
          "text": "0.00",
          "x": "PCA_9",
          "y": "PCA_6"
         },
         {
          "font": {
           "size": 8
          },
          "showarrow": false,
          "text": "-0.00",
          "x": "PCA_10",
          "y": "PCA_6"
         },
         {
          "font": {
           "size": 8
          },
          "showarrow": false,
          "text": "-0.00",
          "x": "height",
          "y": "PCA_7"
         },
         {
          "font": {
           "size": 8
          },
          "showarrow": false,
          "text": "-0.00",
          "x": "age",
          "y": "PCA_7"
         },
         {
          "font": {
           "size": 8
          },
          "showarrow": false,
          "text": "-0.01",
          "x": "appearance",
          "y": "PCA_7"
         },
         {
          "font": {
           "size": 8
          },
          "showarrow": false,
          "text": "-0.01",
          "x": "goals",
          "y": "PCA_7"
         },
         {
          "font": {
           "size": 8
          },
          "showarrow": false,
          "text": "-0.02",
          "x": "assists",
          "y": "PCA_7"
         },
         {
          "font": {
           "size": 8
          },
          "showarrow": false,
          "text": "0.01",
          "x": "yellow cards",
          "y": "PCA_7"
         },
         {
          "font": {
           "size": 8
          },
          "showarrow": false,
          "text": "-0.00",
          "x": "second yellow cards",
          "y": "PCA_7"
         },
         {
          "font": {
           "size": 8
          },
          "showarrow": false,
          "text": "-0.00",
          "x": "red cards",
          "y": "PCA_7"
         },
         {
          "font": {
           "size": 8
          },
          "showarrow": false,
          "text": "0.01",
          "x": "goals conceded",
          "y": "PCA_7"
         },
         {
          "font": {
           "size": 8
          },
          "showarrow": false,
          "text": "-0.00",
          "x": "clean sheets",
          "y": "PCA_7"
         },
         {
          "font": {
           "size": 8
          },
          "showarrow": false,
          "text": "-0.00",
          "x": "minutes played",
          "y": "PCA_7"
         },
         {
          "font": {
           "size": 8
          },
          "showarrow": false,
          "text": "0.00",
          "x": "days_injured",
          "y": "PCA_7"
         },
         {
          "font": {
           "size": 8
          },
          "showarrow": false,
          "text": "-0.00",
          "x": "games_injured",
          "y": "PCA_7"
         },
         {
          "font": {
           "size": 8
          },
          "showarrow": false,
          "text": "-0.01",
          "x": "award",
          "y": "PCA_7"
         },
         {
          "font": {
           "size": 8
          },
          "showarrow": false,
          "text": "0.00",
          "x": "current_value",
          "y": "PCA_7"
         },
         {
          "font": {
           "size": 8
          },
          "showarrow": false,
          "text": "0.00",
          "x": "highest_value",
          "y": "PCA_7"
         },
         {
          "font": {
           "size": 8
          },
          "showarrow": false,
          "text": "-0.00",
          "x": "PCA_1",
          "y": "PCA_7"
         },
         {
          "font": {
           "size": 8
          },
          "showarrow": false,
          "text": "-0.00",
          "x": "PCA_2",
          "y": "PCA_7"
         },
         {
          "font": {
           "size": 8
          },
          "showarrow": false,
          "text": "-0.00",
          "x": "PCA_3",
          "y": "PCA_7"
         },
         {
          "font": {
           "size": 8
          },
          "showarrow": false,
          "text": "-0.00",
          "x": "PCA_4",
          "y": "PCA_7"
         },
         {
          "font": {
           "size": 8
          },
          "showarrow": false,
          "text": "-0.00",
          "x": "PCA_5",
          "y": "PCA_7"
         },
         {
          "font": {
           "size": 8
          },
          "showarrow": false,
          "text": "-0.00",
          "x": "PCA_6",
          "y": "PCA_7"
         },
         {
          "font": {
           "size": 8
          },
          "showarrow": false,
          "text": "1.00",
          "x": "PCA_7",
          "y": "PCA_7"
         },
         {
          "font": {
           "size": 8
          },
          "showarrow": false,
          "text": "0.00",
          "x": "PCA_8",
          "y": "PCA_7"
         },
         {
          "font": {
           "size": 8
          },
          "showarrow": false,
          "text": "0.00",
          "x": "PCA_9",
          "y": "PCA_7"
         },
         {
          "font": {
           "size": 8
          },
          "showarrow": false,
          "text": "0.00",
          "x": "PCA_10",
          "y": "PCA_7"
         },
         {
          "font": {
           "size": 8
          },
          "showarrow": false,
          "text": "0.00",
          "x": "height",
          "y": "PCA_8"
         },
         {
          "font": {
           "size": 8
          },
          "showarrow": false,
          "text": "-0.02",
          "x": "age",
          "y": "PCA_8"
         },
         {
          "font": {
           "size": 8
          },
          "showarrow": false,
          "text": "0.01",
          "x": "appearance",
          "y": "PCA_8"
         },
         {
          "font": {
           "size": 8
          },
          "showarrow": false,
          "text": "0.01",
          "x": "goals",
          "y": "PCA_8"
         },
         {
          "font": {
           "size": 8
          },
          "showarrow": false,
          "text": "-0.00",
          "x": "assists",
          "y": "PCA_8"
         },
         {
          "font": {
           "size": 8
          },
          "showarrow": false,
          "text": "-0.02",
          "x": "yellow cards",
          "y": "PCA_8"
         },
         {
          "font": {
           "size": 8
          },
          "showarrow": false,
          "text": "-0.02",
          "x": "second yellow cards",
          "y": "PCA_8"
         },
         {
          "font": {
           "size": 8
          },
          "showarrow": false,
          "text": "-0.01",
          "x": "red cards",
          "y": "PCA_8"
         },
         {
          "font": {
           "size": 8
          },
          "showarrow": false,
          "text": "0.00",
          "x": "goals conceded",
          "y": "PCA_8"
         },
         {
          "font": {
           "size": 8
          },
          "showarrow": false,
          "text": "-0.00",
          "x": "clean sheets",
          "y": "PCA_8"
         },
         {
          "font": {
           "size": 8
          },
          "showarrow": false,
          "text": "0.01",
          "x": "minutes played",
          "y": "PCA_8"
         },
         {
          "font": {
           "size": 8
          },
          "showarrow": false,
          "text": "-0.02",
          "x": "days_injured",
          "y": "PCA_8"
         },
         {
          "font": {
           "size": 8
          },
          "showarrow": false,
          "text": "-0.02",
          "x": "games_injured",
          "y": "PCA_8"
         },
         {
          "font": {
           "size": 8
          },
          "showarrow": false,
          "text": "-0.01",
          "x": "award",
          "y": "PCA_8"
         },
         {
          "font": {
           "size": 8
          },
          "showarrow": false,
          "text": "0.00",
          "x": "current_value",
          "y": "PCA_8"
         },
         {
          "font": {
           "size": 8
          },
          "showarrow": false,
          "text": "0.00",
          "x": "highest_value",
          "y": "PCA_8"
         },
         {
          "font": {
           "size": 8
          },
          "showarrow": false,
          "text": "-0.00",
          "x": "PCA_1",
          "y": "PCA_8"
         },
         {
          "font": {
           "size": 8
          },
          "showarrow": false,
          "text": "-0.00",
          "x": "PCA_2",
          "y": "PCA_8"
         },
         {
          "font": {
           "size": 8
          },
          "showarrow": false,
          "text": "-0.00",
          "x": "PCA_3",
          "y": "PCA_8"
         },
         {
          "font": {
           "size": 8
          },
          "showarrow": false,
          "text": "-0.00",
          "x": "PCA_4",
          "y": "PCA_8"
         },
         {
          "font": {
           "size": 8
          },
          "showarrow": false,
          "text": "-0.00",
          "x": "PCA_5",
          "y": "PCA_8"
         },
         {
          "font": {
           "size": 8
          },
          "showarrow": false,
          "text": "0.00",
          "x": "PCA_6",
          "y": "PCA_8"
         },
         {
          "font": {
           "size": 8
          },
          "showarrow": false,
          "text": "0.00",
          "x": "PCA_7",
          "y": "PCA_8"
         },
         {
          "font": {
           "size": 8
          },
          "showarrow": false,
          "text": "1.00",
          "x": "PCA_8",
          "y": "PCA_8"
         },
         {
          "font": {
           "size": 8
          },
          "showarrow": false,
          "text": "-0.00",
          "x": "PCA_9",
          "y": "PCA_8"
         },
         {
          "font": {
           "size": 8
          },
          "showarrow": false,
          "text": "-0.00",
          "x": "PCA_10",
          "y": "PCA_8"
         },
         {
          "font": {
           "size": 8
          },
          "showarrow": false,
          "text": "0.01",
          "x": "height",
          "y": "PCA_9"
         },
         {
          "font": {
           "size": 8
          },
          "showarrow": false,
          "text": "-0.04",
          "x": "age",
          "y": "PCA_9"
         },
         {
          "font": {
           "size": 8
          },
          "showarrow": false,
          "text": "-0.01",
          "x": "appearance",
          "y": "PCA_9"
         },
         {
          "font": {
           "size": 8
          },
          "showarrow": false,
          "text": "0.03",
          "x": "goals",
          "y": "PCA_9"
         },
         {
          "font": {
           "size": 8
          },
          "showarrow": false,
          "text": "0.02",
          "x": "assists",
          "y": "PCA_9"
         },
         {
          "font": {
           "size": 8
          },
          "showarrow": false,
          "text": "-0.01",
          "x": "yellow cards",
          "y": "PCA_9"
         },
         {
          "font": {
           "size": 8
          },
          "showarrow": false,
          "text": "0.01",
          "x": "second yellow cards",
          "y": "PCA_9"
         },
         {
          "font": {
           "size": 8
          },
          "showarrow": false,
          "text": "0.01",
          "x": "red cards",
          "y": "PCA_9"
         },
         {
          "font": {
           "size": 8
          },
          "showarrow": false,
          "text": "-0.00",
          "x": "goals conceded",
          "y": "PCA_9"
         },
         {
          "font": {
           "size": 8
          },
          "showarrow": false,
          "text": "0.01",
          "x": "clean sheets",
          "y": "PCA_9"
         },
         {
          "font": {
           "size": 8
          },
          "showarrow": false,
          "text": "-0.01",
          "x": "minutes played",
          "y": "PCA_9"
         },
         {
          "font": {
           "size": 8
          },
          "showarrow": false,
          "text": "0.03",
          "x": "days_injured",
          "y": "PCA_9"
         },
         {
          "font": {
           "size": 8
          },
          "showarrow": false,
          "text": "0.03",
          "x": "games_injured",
          "y": "PCA_9"
         },
         {
          "font": {
           "size": 8
          },
          "showarrow": false,
          "text": "0.03",
          "x": "award",
          "y": "PCA_9"
         },
         {
          "font": {
           "size": 8
          },
          "showarrow": false,
          "text": "0.01",
          "x": "current_value",
          "y": "PCA_9"
         },
         {
          "font": {
           "size": 8
          },
          "showarrow": false,
          "text": "0.01",
          "x": "highest_value",
          "y": "PCA_9"
         },
         {
          "font": {
           "size": 8
          },
          "showarrow": false,
          "text": "0.00",
          "x": "PCA_1",
          "y": "PCA_9"
         },
         {
          "font": {
           "size": 8
          },
          "showarrow": false,
          "text": "-0.00",
          "x": "PCA_2",
          "y": "PCA_9"
         },
         {
          "font": {
           "size": 8
          },
          "showarrow": false,
          "text": "-0.00",
          "x": "PCA_3",
          "y": "PCA_9"
         },
         {
          "font": {
           "size": 8
          },
          "showarrow": false,
          "text": "0.00",
          "x": "PCA_4",
          "y": "PCA_9"
         },
         {
          "font": {
           "size": 8
          },
          "showarrow": false,
          "text": "0.00",
          "x": "PCA_5",
          "y": "PCA_9"
         },
         {
          "font": {
           "size": 8
          },
          "showarrow": false,
          "text": "0.00",
          "x": "PCA_6",
          "y": "PCA_9"
         },
         {
          "font": {
           "size": 8
          },
          "showarrow": false,
          "text": "0.00",
          "x": "PCA_7",
          "y": "PCA_9"
         },
         {
          "font": {
           "size": 8
          },
          "showarrow": false,
          "text": "-0.00",
          "x": "PCA_8",
          "y": "PCA_9"
         },
         {
          "font": {
           "size": 8
          },
          "showarrow": false,
          "text": "1.00",
          "x": "PCA_9",
          "y": "PCA_9"
         },
         {
          "font": {
           "size": 8
          },
          "showarrow": false,
          "text": "-0.00",
          "x": "PCA_10",
          "y": "PCA_9"
         },
         {
          "font": {
           "size": 8
          },
          "showarrow": false,
          "text": "-0.01",
          "x": "height",
          "y": "PCA_10"
         },
         {
          "font": {
           "size": 8
          },
          "showarrow": false,
          "text": "0.00",
          "x": "age",
          "y": "PCA_10"
         },
         {
          "font": {
           "size": 8
          },
          "showarrow": false,
          "text": "-0.04",
          "x": "appearance",
          "y": "PCA_10"
         },
         {
          "font": {
           "size": 8
          },
          "showarrow": false,
          "text": "0.00",
          "x": "goals",
          "y": "PCA_10"
         },
         {
          "font": {
           "size": 8
          },
          "showarrow": false,
          "text": "-0.00",
          "x": "assists",
          "y": "PCA_10"
         },
         {
          "font": {
           "size": 8
          },
          "showarrow": false,
          "text": "-0.01",
          "x": "yellow cards",
          "y": "PCA_10"
         },
         {
          "font": {
           "size": 8
          },
          "showarrow": false,
          "text": "0.02",
          "x": "second yellow cards",
          "y": "PCA_10"
         },
         {
          "font": {
           "size": 8
          },
          "showarrow": false,
          "text": "0.00",
          "x": "red cards",
          "y": "PCA_10"
         },
         {
          "font": {
           "size": 8
          },
          "showarrow": false,
          "text": "-0.01",
          "x": "goals conceded",
          "y": "PCA_10"
         },
         {
          "font": {
           "size": 8
          },
          "showarrow": false,
          "text": "0.00",
          "x": "clean sheets",
          "y": "PCA_10"
         },
         {
          "font": {
           "size": 8
          },
          "showarrow": false,
          "text": "-0.03",
          "x": "minutes played",
          "y": "PCA_10"
         },
         {
          "font": {
           "size": 8
          },
          "showarrow": false,
          "text": "-0.00",
          "x": "days_injured",
          "y": "PCA_10"
         },
         {
          "font": {
           "size": 8
          },
          "showarrow": false,
          "text": "-0.00",
          "x": "games_injured",
          "y": "PCA_10"
         },
         {
          "font": {
           "size": 8
          },
          "showarrow": false,
          "text": "-0.01",
          "x": "award",
          "y": "PCA_10"
         },
         {
          "font": {
           "size": 8
          },
          "showarrow": false,
          "text": "-0.02",
          "x": "current_value",
          "y": "PCA_10"
         },
         {
          "font": {
           "size": 8
          },
          "showarrow": false,
          "text": "-0.02",
          "x": "highest_value",
          "y": "PCA_10"
         },
         {
          "font": {
           "size": 8
          },
          "showarrow": false,
          "text": "0.00",
          "x": "PCA_1",
          "y": "PCA_10"
         },
         {
          "font": {
           "size": 8
          },
          "showarrow": false,
          "text": "0.00",
          "x": "PCA_2",
          "y": "PCA_10"
         },
         {
          "font": {
           "size": 8
          },
          "showarrow": false,
          "text": "0.00",
          "x": "PCA_3",
          "y": "PCA_10"
         },
         {
          "font": {
           "size": 8
          },
          "showarrow": false,
          "text": "-0.00",
          "x": "PCA_4",
          "y": "PCA_10"
         },
         {
          "font": {
           "size": 8
          },
          "showarrow": false,
          "text": "-0.00",
          "x": "PCA_5",
          "y": "PCA_10"
         },
         {
          "font": {
           "size": 8
          },
          "showarrow": false,
          "text": "-0.00",
          "x": "PCA_6",
          "y": "PCA_10"
         },
         {
          "font": {
           "size": 8
          },
          "showarrow": false,
          "text": "0.00",
          "x": "PCA_7",
          "y": "PCA_10"
         },
         {
          "font": {
           "size": 8
          },
          "showarrow": false,
          "text": "-0.00",
          "x": "PCA_8",
          "y": "PCA_10"
         },
         {
          "font": {
           "size": 8
          },
          "showarrow": false,
          "text": "-0.00",
          "x": "PCA_9",
          "y": "PCA_10"
         },
         {
          "font": {
           "size": 8
          },
          "showarrow": false,
          "text": "1.00",
          "x": "PCA_10",
          "y": "PCA_10"
         }
        ],
        "coloraxis": {
         "cmax": 1,
         "cmin": -1,
         "colorscale": [
          [
           0,
           "rgb(5,48,97)"
          ],
          [
           0.1,
           "rgb(33,102,172)"
          ],
          [
           0.2,
           "rgb(67,147,195)"
          ],
          [
           0.3,
           "rgb(146,197,222)"
          ],
          [
           0.4,
           "rgb(209,229,240)"
          ],
          [
           0.5,
           "rgb(247,247,247)"
          ],
          [
           0.6,
           "rgb(253,219,199)"
          ],
          [
           0.7,
           "rgb(244,165,130)"
          ],
          [
           0.8,
           "rgb(214,96,77)"
          ],
          [
           0.9,
           "rgb(178,24,43)"
          ],
          [
           1,
           "rgb(103,0,31)"
          ]
         ]
        },
        "height": 700,
        "template": {
         "data": {
          "bar": [
           {
            "error_x": {
             "color": "#2a3f5f"
            },
            "error_y": {
             "color": "#2a3f5f"
            },
            "marker": {
             "line": {
              "color": "#E5ECF6",
              "width": 0.5
             },
             "pattern": {
              "fillmode": "overlay",
              "size": 10,
              "solidity": 0.2
             }
            },
            "type": "bar"
           }
          ],
          "barpolar": [
           {
            "marker": {
             "line": {
              "color": "#E5ECF6",
              "width": 0.5
             },
             "pattern": {
              "fillmode": "overlay",
              "size": 10,
              "solidity": 0.2
             }
            },
            "type": "barpolar"
           }
          ],
          "carpet": [
           {
            "aaxis": {
             "endlinecolor": "#2a3f5f",
             "gridcolor": "white",
             "linecolor": "white",
             "minorgridcolor": "white",
             "startlinecolor": "#2a3f5f"
            },
            "baxis": {
             "endlinecolor": "#2a3f5f",
             "gridcolor": "white",
             "linecolor": "white",
             "minorgridcolor": "white",
             "startlinecolor": "#2a3f5f"
            },
            "type": "carpet"
           }
          ],
          "choropleth": [
           {
            "colorbar": {
             "outlinewidth": 0,
             "ticks": ""
            },
            "type": "choropleth"
           }
          ],
          "contour": [
           {
            "colorbar": {
             "outlinewidth": 0,
             "ticks": ""
            },
            "colorscale": [
             [
              0,
              "#0d0887"
             ],
             [
              0.1111111111111111,
              "#46039f"
             ],
             [
              0.2222222222222222,
              "#7201a8"
             ],
             [
              0.3333333333333333,
              "#9c179e"
             ],
             [
              0.4444444444444444,
              "#bd3786"
             ],
             [
              0.5555555555555556,
              "#d8576b"
             ],
             [
              0.6666666666666666,
              "#ed7953"
             ],
             [
              0.7777777777777778,
              "#fb9f3a"
             ],
             [
              0.8888888888888888,
              "#fdca26"
             ],
             [
              1,
              "#f0f921"
             ]
            ],
            "type": "contour"
           }
          ],
          "contourcarpet": [
           {
            "colorbar": {
             "outlinewidth": 0,
             "ticks": ""
            },
            "type": "contourcarpet"
           }
          ],
          "heatmap": [
           {
            "colorbar": {
             "outlinewidth": 0,
             "ticks": ""
            },
            "colorscale": [
             [
              0,
              "#0d0887"
             ],
             [
              0.1111111111111111,
              "#46039f"
             ],
             [
              0.2222222222222222,
              "#7201a8"
             ],
             [
              0.3333333333333333,
              "#9c179e"
             ],
             [
              0.4444444444444444,
              "#bd3786"
             ],
             [
              0.5555555555555556,
              "#d8576b"
             ],
             [
              0.6666666666666666,
              "#ed7953"
             ],
             [
              0.7777777777777778,
              "#fb9f3a"
             ],
             [
              0.8888888888888888,
              "#fdca26"
             ],
             [
              1,
              "#f0f921"
             ]
            ],
            "type": "heatmap"
           }
          ],
          "heatmapgl": [
           {
            "colorbar": {
             "outlinewidth": 0,
             "ticks": ""
            },
            "colorscale": [
             [
              0,
              "#0d0887"
             ],
             [
              0.1111111111111111,
              "#46039f"
             ],
             [
              0.2222222222222222,
              "#7201a8"
             ],
             [
              0.3333333333333333,
              "#9c179e"
             ],
             [
              0.4444444444444444,
              "#bd3786"
             ],
             [
              0.5555555555555556,
              "#d8576b"
             ],
             [
              0.6666666666666666,
              "#ed7953"
             ],
             [
              0.7777777777777778,
              "#fb9f3a"
             ],
             [
              0.8888888888888888,
              "#fdca26"
             ],
             [
              1,
              "#f0f921"
             ]
            ],
            "type": "heatmapgl"
           }
          ],
          "histogram": [
           {
            "marker": {
             "pattern": {
              "fillmode": "overlay",
              "size": 10,
              "solidity": 0.2
             }
            },
            "type": "histogram"
           }
          ],
          "histogram2d": [
           {
            "colorbar": {
             "outlinewidth": 0,
             "ticks": ""
            },
            "colorscale": [
             [
              0,
              "#0d0887"
             ],
             [
              0.1111111111111111,
              "#46039f"
             ],
             [
              0.2222222222222222,
              "#7201a8"
             ],
             [
              0.3333333333333333,
              "#9c179e"
             ],
             [
              0.4444444444444444,
              "#bd3786"
             ],
             [
              0.5555555555555556,
              "#d8576b"
             ],
             [
              0.6666666666666666,
              "#ed7953"
             ],
             [
              0.7777777777777778,
              "#fb9f3a"
             ],
             [
              0.8888888888888888,
              "#fdca26"
             ],
             [
              1,
              "#f0f921"
             ]
            ],
            "type": "histogram2d"
           }
          ],
          "histogram2dcontour": [
           {
            "colorbar": {
             "outlinewidth": 0,
             "ticks": ""
            },
            "colorscale": [
             [
              0,
              "#0d0887"
             ],
             [
              0.1111111111111111,
              "#46039f"
             ],
             [
              0.2222222222222222,
              "#7201a8"
             ],
             [
              0.3333333333333333,
              "#9c179e"
             ],
             [
              0.4444444444444444,
              "#bd3786"
             ],
             [
              0.5555555555555556,
              "#d8576b"
             ],
             [
              0.6666666666666666,
              "#ed7953"
             ],
             [
              0.7777777777777778,
              "#fb9f3a"
             ],
             [
              0.8888888888888888,
              "#fdca26"
             ],
             [
              1,
              "#f0f921"
             ]
            ],
            "type": "histogram2dcontour"
           }
          ],
          "mesh3d": [
           {
            "colorbar": {
             "outlinewidth": 0,
             "ticks": ""
            },
            "type": "mesh3d"
           }
          ],
          "parcoords": [
           {
            "line": {
             "colorbar": {
              "outlinewidth": 0,
              "ticks": ""
             }
            },
            "type": "parcoords"
           }
          ],
          "pie": [
           {
            "automargin": true,
            "type": "pie"
           }
          ],
          "scatter": [
           {
            "fillpattern": {
             "fillmode": "overlay",
             "size": 10,
             "solidity": 0.2
            },
            "type": "scatter"
           }
          ],
          "scatter3d": [
           {
            "line": {
             "colorbar": {
              "outlinewidth": 0,
              "ticks": ""
             }
            },
            "marker": {
             "colorbar": {
              "outlinewidth": 0,
              "ticks": ""
             }
            },
            "type": "scatter3d"
           }
          ],
          "scattercarpet": [
           {
            "marker": {
             "colorbar": {
              "outlinewidth": 0,
              "ticks": ""
             }
            },
            "type": "scattercarpet"
           }
          ],
          "scattergeo": [
           {
            "marker": {
             "colorbar": {
              "outlinewidth": 0,
              "ticks": ""
             }
            },
            "type": "scattergeo"
           }
          ],
          "scattergl": [
           {
            "marker": {
             "colorbar": {
              "outlinewidth": 0,
              "ticks": ""
             }
            },
            "type": "scattergl"
           }
          ],
          "scattermapbox": [
           {
            "marker": {
             "colorbar": {
              "outlinewidth": 0,
              "ticks": ""
             }
            },
            "type": "scattermapbox"
           }
          ],
          "scatterpolar": [
           {
            "marker": {
             "colorbar": {
              "outlinewidth": 0,
              "ticks": ""
             }
            },
            "type": "scatterpolar"
           }
          ],
          "scatterpolargl": [
           {
            "marker": {
             "colorbar": {
              "outlinewidth": 0,
              "ticks": ""
             }
            },
            "type": "scatterpolargl"
           }
          ],
          "scatterternary": [
           {
            "marker": {
             "colorbar": {
              "outlinewidth": 0,
              "ticks": ""
             }
            },
            "type": "scatterternary"
           }
          ],
          "surface": [
           {
            "colorbar": {
             "outlinewidth": 0,
             "ticks": ""
            },
            "colorscale": [
             [
              0,
              "#0d0887"
             ],
             [
              0.1111111111111111,
              "#46039f"
             ],
             [
              0.2222222222222222,
              "#7201a8"
             ],
             [
              0.3333333333333333,
              "#9c179e"
             ],
             [
              0.4444444444444444,
              "#bd3786"
             ],
             [
              0.5555555555555556,
              "#d8576b"
             ],
             [
              0.6666666666666666,
              "#ed7953"
             ],
             [
              0.7777777777777778,
              "#fb9f3a"
             ],
             [
              0.8888888888888888,
              "#fdca26"
             ],
             [
              1,
              "#f0f921"
             ]
            ],
            "type": "surface"
           }
          ],
          "table": [
           {
            "cells": {
             "fill": {
              "color": "#EBF0F8"
             },
             "line": {
              "color": "white"
             }
            },
            "header": {
             "fill": {
              "color": "#C8D4E3"
             },
             "line": {
              "color": "white"
             }
            },
            "type": "table"
           }
          ]
         },
         "layout": {
          "annotationdefaults": {
           "arrowcolor": "#2a3f5f",
           "arrowhead": 0,
           "arrowwidth": 1
          },
          "autotypenumbers": "strict",
          "coloraxis": {
           "colorbar": {
            "outlinewidth": 0,
            "ticks": ""
           }
          },
          "colorscale": {
           "diverging": [
            [
             0,
             "#8e0152"
            ],
            [
             0.1,
             "#c51b7d"
            ],
            [
             0.2,
             "#de77ae"
            ],
            [
             0.3,
             "#f1b6da"
            ],
            [
             0.4,
             "#fde0ef"
            ],
            [
             0.5,
             "#f7f7f7"
            ],
            [
             0.6,
             "#e6f5d0"
            ],
            [
             0.7,
             "#b8e186"
            ],
            [
             0.8,
             "#7fbc41"
            ],
            [
             0.9,
             "#4d9221"
            ],
            [
             1,
             "#276419"
            ]
           ],
           "sequential": [
            [
             0,
             "#0d0887"
            ],
            [
             0.1111111111111111,
             "#46039f"
            ],
            [
             0.2222222222222222,
             "#7201a8"
            ],
            [
             0.3333333333333333,
             "#9c179e"
            ],
            [
             0.4444444444444444,
             "#bd3786"
            ],
            [
             0.5555555555555556,
             "#d8576b"
            ],
            [
             0.6666666666666666,
             "#ed7953"
            ],
            [
             0.7777777777777778,
             "#fb9f3a"
            ],
            [
             0.8888888888888888,
             "#fdca26"
            ],
            [
             1,
             "#f0f921"
            ]
           ],
           "sequentialminus": [
            [
             0,
             "#0d0887"
            ],
            [
             0.1111111111111111,
             "#46039f"
            ],
            [
             0.2222222222222222,
             "#7201a8"
            ],
            [
             0.3333333333333333,
             "#9c179e"
            ],
            [
             0.4444444444444444,
             "#bd3786"
            ],
            [
             0.5555555555555556,
             "#d8576b"
            ],
            [
             0.6666666666666666,
             "#ed7953"
            ],
            [
             0.7777777777777778,
             "#fb9f3a"
            ],
            [
             0.8888888888888888,
             "#fdca26"
            ],
            [
             1,
             "#f0f921"
            ]
           ]
          },
          "colorway": [
           "#636efa",
           "#EF553B",
           "#00cc96",
           "#ab63fa",
           "#FFA15A",
           "#19d3f3",
           "#FF6692",
           "#B6E880",
           "#FF97FF",
           "#FECB52"
          ],
          "font": {
           "color": "#2a3f5f"
          },
          "geo": {
           "bgcolor": "white",
           "lakecolor": "white",
           "landcolor": "#E5ECF6",
           "showlakes": true,
           "showland": true,
           "subunitcolor": "white"
          },
          "hoverlabel": {
           "align": "left"
          },
          "hovermode": "closest",
          "mapbox": {
           "style": "light"
          },
          "paper_bgcolor": "white",
          "plot_bgcolor": "#E5ECF6",
          "polar": {
           "angularaxis": {
            "gridcolor": "white",
            "linecolor": "white",
            "ticks": ""
           },
           "bgcolor": "#E5ECF6",
           "radialaxis": {
            "gridcolor": "white",
            "linecolor": "white",
            "ticks": ""
           }
          },
          "scene": {
           "xaxis": {
            "backgroundcolor": "#E5ECF6",
            "gridcolor": "white",
            "gridwidth": 2,
            "linecolor": "white",
            "showbackground": true,
            "ticks": "",
            "zerolinecolor": "white"
           },
           "yaxis": {
            "backgroundcolor": "#E5ECF6",
            "gridcolor": "white",
            "gridwidth": 2,
            "linecolor": "white",
            "showbackground": true,
            "ticks": "",
            "zerolinecolor": "white"
           },
           "zaxis": {
            "backgroundcolor": "#E5ECF6",
            "gridcolor": "white",
            "gridwidth": 2,
            "linecolor": "white",
            "showbackground": true,
            "ticks": "",
            "zerolinecolor": "white"
           }
          },
          "shapedefaults": {
           "line": {
            "color": "#2a3f5f"
           }
          },
          "ternary": {
           "aaxis": {
            "gridcolor": "white",
            "linecolor": "white",
            "ticks": ""
           },
           "baxis": {
            "gridcolor": "white",
            "linecolor": "white",
            "ticks": ""
           },
           "bgcolor": "#E5ECF6",
           "caxis": {
            "gridcolor": "white",
            "linecolor": "white",
            "ticks": ""
           }
          },
          "title": {
           "x": 0.05
          },
          "xaxis": {
           "automargin": true,
           "gridcolor": "white",
           "linecolor": "white",
           "ticks": "",
           "title": {
            "standoff": 15
           },
           "zerolinecolor": "white",
           "zerolinewidth": 2
          },
          "yaxis": {
           "automargin": true,
           "gridcolor": "white",
           "linecolor": "white",
           "ticks": "",
           "title": {
            "standoff": 15
           },
           "zerolinecolor": "white",
           "zerolinewidth": 2
          }
         }
        },
        "title": {
         "text": "Correlation Heatmap of Numerical Variables"
        },
        "width": 800,
        "xaxis": {
         "anchor": "y",
         "domain": [
          0,
          1
         ],
         "side": "top",
         "title": {
          "text": ""
         }
        },
        "yaxis": {
         "anchor": "x",
         "autorange": "reversed",
         "domain": [
          0,
          1
         ],
         "title": {
          "text": ""
         }
        }
       }
      }
     },
     "metadata": {},
     "output_type": "display_data"
    }
   ],
   "source": [
    "import plotly.express as px\n",
    "\n",
    "# Calculate the correlation matrix\n",
    "correlation_matrix = df_final.corr()\n",
    "\n",
    "# Create the heatmap using Plotly Express\n",
    "fig = px.imshow(correlation_matrix,\n",
    "                x=correlation_matrix.columns,\n",
    "                y=correlation_matrix.columns,\n",
    "                color_continuous_scale='RdBu_r',  # Red-Blue diverging color scale\n",
    "                zmin=-1,\n",
    "                zmax=1,\n",
    "                aspect=\"auto\",\n",
    "                title='Correlation Heatmap of Numerical Variables')\n",
    "\n",
    "# Update the layout for better readability\n",
    "fig.update_layout(\n",
    "    xaxis_title=\"\",\n",
    "    yaxis_title=\"\",\n",
    "    xaxis={'side': 'top'},  # Move x-axis labels to the top\n",
    "    width=800,\n",
    "    height=700\n",
    ")\n",
    "\n",
    "# Add correlation values as text annotations\n",
    "for i, row in enumerate(correlation_matrix.values):\n",
    "    for j, value in enumerate(row):\n",
    "        fig.add_annotation(\n",
    "            x=correlation_matrix.columns[j],\n",
    "            y=correlation_matrix.columns[i],\n",
    "            text=f\"{value:.2f}\",\n",
    "            showarrow=False,\n",
    "            font=dict(size=8)\n",
    "        )\n",
    "\n",
    "# Show the plot\n",
    "fig.show()\n",
    "\n",
    "# Retirar columnas feature con mucha correlacion entre ellas"
   ]
  },
  {
   "cell_type": "markdown",
   "metadata": {},
   "source": [
    "- Define target and features"
   ]
  },
  {
   "cell_type": "code",
   "execution_count": 59,
   "metadata": {},
   "outputs": [],
   "source": [
    "target = df_encoded[\"current_value\"]\n",
    "features = df_encoded.drop(columns=\"current_value\")"
   ]
  },
  {
   "cell_type": "code",
   "execution_count": 60,
   "metadata": {},
   "outputs": [],
   "source": [
    "X_train, X_test, y_train, y_test = train_test_split(features, target, test_size = 0.20, random_state=0)"
   ]
  },
  {
   "cell_type": "markdown",
   "metadata": {},
   "source": [
    "- Normalize the data"
   ]
  },
  {
   "cell_type": "code",
   "execution_count": 61,
   "metadata": {},
   "outputs": [],
   "source": [
    "normalizer = MinMaxScaler()"
   ]
  },
  {
   "cell_type": "code",
   "execution_count": 62,
   "metadata": {},
   "outputs": [
    {
     "data": {
      "text/html": [
       "<style>#sk-container-id-5 {color: black;background-color: white;}#sk-container-id-5 pre{padding: 0;}#sk-container-id-5 div.sk-toggleable {background-color: white;}#sk-container-id-5 label.sk-toggleable__label {cursor: pointer;display: block;width: 100%;margin-bottom: 0;padding: 0.3em;box-sizing: border-box;text-align: center;}#sk-container-id-5 label.sk-toggleable__label-arrow:before {content: \"▸\";float: left;margin-right: 0.25em;color: #696969;}#sk-container-id-5 label.sk-toggleable__label-arrow:hover:before {color: black;}#sk-container-id-5 div.sk-estimator:hover label.sk-toggleable__label-arrow:before {color: black;}#sk-container-id-5 div.sk-toggleable__content {max-height: 0;max-width: 0;overflow: hidden;text-align: left;background-color: #f0f8ff;}#sk-container-id-5 div.sk-toggleable__content pre {margin: 0.2em;color: black;border-radius: 0.25em;background-color: #f0f8ff;}#sk-container-id-5 input.sk-toggleable__control:checked~div.sk-toggleable__content {max-height: 200px;max-width: 100%;overflow: auto;}#sk-container-id-5 input.sk-toggleable__control:checked~label.sk-toggleable__label-arrow:before {content: \"▾\";}#sk-container-id-5 div.sk-estimator input.sk-toggleable__control:checked~label.sk-toggleable__label {background-color: #d4ebff;}#sk-container-id-5 div.sk-label input.sk-toggleable__control:checked~label.sk-toggleable__label {background-color: #d4ebff;}#sk-container-id-5 input.sk-hidden--visually {border: 0;clip: rect(1px 1px 1px 1px);clip: rect(1px, 1px, 1px, 1px);height: 1px;margin: -1px;overflow: hidden;padding: 0;position: absolute;width: 1px;}#sk-container-id-5 div.sk-estimator {font-family: monospace;background-color: #f0f8ff;border: 1px dotted black;border-radius: 0.25em;box-sizing: border-box;margin-bottom: 0.5em;}#sk-container-id-5 div.sk-estimator:hover {background-color: #d4ebff;}#sk-container-id-5 div.sk-parallel-item::after {content: \"\";width: 100%;border-bottom: 1px solid gray;flex-grow: 1;}#sk-container-id-5 div.sk-label:hover label.sk-toggleable__label {background-color: #d4ebff;}#sk-container-id-5 div.sk-serial::before {content: \"\";position: absolute;border-left: 1px solid gray;box-sizing: border-box;top: 0;bottom: 0;left: 50%;z-index: 0;}#sk-container-id-5 div.sk-serial {display: flex;flex-direction: column;align-items: center;background-color: white;padding-right: 0.2em;padding-left: 0.2em;position: relative;}#sk-container-id-5 div.sk-item {position: relative;z-index: 1;}#sk-container-id-5 div.sk-parallel {display: flex;align-items: stretch;justify-content: center;background-color: white;position: relative;}#sk-container-id-5 div.sk-item::before, #sk-container-id-5 div.sk-parallel-item::before {content: \"\";position: absolute;border-left: 1px solid gray;box-sizing: border-box;top: 0;bottom: 0;left: 50%;z-index: -1;}#sk-container-id-5 div.sk-parallel-item {display: flex;flex-direction: column;z-index: 1;position: relative;background-color: white;}#sk-container-id-5 div.sk-parallel-item:first-child::after {align-self: flex-end;width: 50%;}#sk-container-id-5 div.sk-parallel-item:last-child::after {align-self: flex-start;width: 50%;}#sk-container-id-5 div.sk-parallel-item:only-child::after {width: 0;}#sk-container-id-5 div.sk-dashed-wrapped {border: 1px dashed gray;margin: 0 0.4em 0.5em 0.4em;box-sizing: border-box;padding-bottom: 0.4em;background-color: white;}#sk-container-id-5 div.sk-label label {font-family: monospace;font-weight: bold;display: inline-block;line-height: 1.2em;}#sk-container-id-5 div.sk-label-container {text-align: center;}#sk-container-id-5 div.sk-container {/* jupyter's `normalize.less` sets `[hidden] { display: none; }` but bootstrap.min.css set `[hidden] { display: none !important; }` so we also need the `!important` here to be able to override the default hidden behavior on the sphinx rendered scikit-learn.org. See: https://github.com/scikit-learn/scikit-learn/issues/21755 */display: inline-block !important;position: relative;}#sk-container-id-5 div.sk-text-repr-fallback {display: none;}</style><div id=\"sk-container-id-5\" class=\"sk-top-container\"><div class=\"sk-text-repr-fallback\"><pre>MinMaxScaler()</pre><b>In a Jupyter environment, please rerun this cell to show the HTML representation or trust the notebook. <br />On GitHub, the HTML representation is unable to render, please try loading this page with nbviewer.org.</b></div><div class=\"sk-container\" hidden><div class=\"sk-item\"><div class=\"sk-estimator sk-toggleable\"><input class=\"sk-toggleable__control sk-hidden--visually\" id=\"sk-estimator-id-5\" type=\"checkbox\" checked><label for=\"sk-estimator-id-5\" class=\"sk-toggleable__label sk-toggleable__label-arrow\">MinMaxScaler</label><div class=\"sk-toggleable__content\"><pre>MinMaxScaler()</pre></div></div></div></div></div>"
      ],
      "text/plain": [
       "MinMaxScaler()"
      ]
     },
     "execution_count": 62,
     "metadata": {},
     "output_type": "execute_result"
    }
   ],
   "source": [
    "normalizer.fit(X_train)"
   ]
  },
  {
   "cell_type": "code",
   "execution_count": 63,
   "metadata": {},
   "outputs": [],
   "source": [
    "X_train_norm = normalizer.transform(X_train)\n",
    "\n",
    "X_test_norm = normalizer.transform(X_test)"
   ]
  },
  {
   "cell_type": "code",
   "execution_count": 64,
   "metadata": {},
   "outputs": [
    {
     "data": {
      "text/html": [
       "<div>\n",
       "<style scoped>\n",
       "    .dataframe tbody tr th:only-of-type {\n",
       "        vertical-align: middle;\n",
       "    }\n",
       "\n",
       "    .dataframe tbody tr th {\n",
       "        vertical-align: top;\n",
       "    }\n",
       "\n",
       "    .dataframe thead th {\n",
       "        text-align: right;\n",
       "    }\n",
       "</style>\n",
       "<table border=\"1\" class=\"dataframe\">\n",
       "  <thead>\n",
       "    <tr style=\"text-align: right;\">\n",
       "      <th></th>\n",
       "      <th>height</th>\n",
       "      <th>age</th>\n",
       "      <th>appearance</th>\n",
       "      <th>goals</th>\n",
       "      <th>assists</th>\n",
       "      <th>yellow cards</th>\n",
       "      <th>second yellow cards</th>\n",
       "      <th>red cards</th>\n",
       "      <th>goals conceded</th>\n",
       "      <th>clean sheets</th>\n",
       "      <th>...</th>\n",
       "      <th>team_Wolfsberger AC</th>\n",
       "      <th>team_Wolverhampton Wanderers</th>\n",
       "      <th>team_Yokohama F. Marinos</th>\n",
       "      <th>team_Yokohama FC</th>\n",
       "      <th>team_Zenit St. Petersburg</th>\n",
       "      <th>team_Ümraniyespor</th>\n",
       "      <th>position_ATT</th>\n",
       "      <th>position_DF</th>\n",
       "      <th>position_GK</th>\n",
       "      <th>position_MF</th>\n",
       "    </tr>\n",
       "  </thead>\n",
       "  <tbody>\n",
       "    <tr>\n",
       "      <th>0</th>\n",
       "      <td>0.42</td>\n",
       "      <td>0.259259</td>\n",
       "      <td>0.018692</td>\n",
       "      <td>0.000000</td>\n",
       "      <td>0.170520</td>\n",
       "      <td>0.000000</td>\n",
       "      <td>0.00</td>\n",
       "      <td>0.000000</td>\n",
       "      <td>0.0</td>\n",
       "      <td>0.0</td>\n",
       "      <td>...</td>\n",
       "      <td>0.0</td>\n",
       "      <td>0.0</td>\n",
       "      <td>0.0</td>\n",
       "      <td>0.0</td>\n",
       "      <td>0.0</td>\n",
       "      <td>0.0</td>\n",
       "      <td>0.0</td>\n",
       "      <td>1.0</td>\n",
       "      <td>0.0</td>\n",
       "      <td>0.0</td>\n",
       "    </tr>\n",
       "    <tr>\n",
       "      <th>1</th>\n",
       "      <td>0.48</td>\n",
       "      <td>0.370370</td>\n",
       "      <td>0.383178</td>\n",
       "      <td>0.013333</td>\n",
       "      <td>0.023121</td>\n",
       "      <td>0.006333</td>\n",
       "      <td>0.00</td>\n",
       "      <td>0.000000</td>\n",
       "      <td>0.0</td>\n",
       "      <td>0.0</td>\n",
       "      <td>...</td>\n",
       "      <td>0.0</td>\n",
       "      <td>0.0</td>\n",
       "      <td>0.0</td>\n",
       "      <td>0.0</td>\n",
       "      <td>0.0</td>\n",
       "      <td>0.0</td>\n",
       "      <td>0.0</td>\n",
       "      <td>1.0</td>\n",
       "      <td>0.0</td>\n",
       "      <td>0.0</td>\n",
       "    </tr>\n",
       "    <tr>\n",
       "      <th>2</th>\n",
       "      <td>0.52</td>\n",
       "      <td>0.740741</td>\n",
       "      <td>0.551402</td>\n",
       "      <td>0.007111</td>\n",
       "      <td>0.008671</td>\n",
       "      <td>0.014333</td>\n",
       "      <td>0.03</td>\n",
       "      <td>0.004335</td>\n",
       "      <td>0.0</td>\n",
       "      <td>0.0</td>\n",
       "      <td>...</td>\n",
       "      <td>0.0</td>\n",
       "      <td>0.0</td>\n",
       "      <td>0.0</td>\n",
       "      <td>0.0</td>\n",
       "      <td>0.0</td>\n",
       "      <td>0.0</td>\n",
       "      <td>0.0</td>\n",
       "      <td>0.0</td>\n",
       "      <td>0.0</td>\n",
       "      <td>1.0</td>\n",
       "    </tr>\n",
       "    <tr>\n",
       "      <th>3</th>\n",
       "      <td>0.54</td>\n",
       "      <td>0.407407</td>\n",
       "      <td>0.504673</td>\n",
       "      <td>0.000000</td>\n",
       "      <td>0.005780</td>\n",
       "      <td>0.008667</td>\n",
       "      <td>0.00</td>\n",
       "      <td>0.005780</td>\n",
       "      <td>0.0</td>\n",
       "      <td>0.0</td>\n",
       "      <td>...</td>\n",
       "      <td>0.0</td>\n",
       "      <td>0.0</td>\n",
       "      <td>0.0</td>\n",
       "      <td>0.0</td>\n",
       "      <td>0.0</td>\n",
       "      <td>0.0</td>\n",
       "      <td>0.0</td>\n",
       "      <td>1.0</td>\n",
       "      <td>0.0</td>\n",
       "      <td>0.0</td>\n",
       "    </tr>\n",
       "    <tr>\n",
       "      <th>4</th>\n",
       "      <td>0.36</td>\n",
       "      <td>0.555556</td>\n",
       "      <td>0.775701</td>\n",
       "      <td>0.012444</td>\n",
       "      <td>0.040462</td>\n",
       "      <td>0.007667</td>\n",
       "      <td>0.00</td>\n",
       "      <td>0.000000</td>\n",
       "      <td>0.0</td>\n",
       "      <td>0.0</td>\n",
       "      <td>...</td>\n",
       "      <td>0.0</td>\n",
       "      <td>0.0</td>\n",
       "      <td>0.0</td>\n",
       "      <td>0.0</td>\n",
       "      <td>0.0</td>\n",
       "      <td>0.0</td>\n",
       "      <td>0.0</td>\n",
       "      <td>0.0</td>\n",
       "      <td>0.0</td>\n",
       "      <td>1.0</td>\n",
       "    </tr>\n",
       "  </tbody>\n",
       "</table>\n",
       "<p>5 rows × 393 columns</p>\n",
       "</div>"
      ],
      "text/plain": [
       "   height       age  appearance     goals   assists  yellow cards  \\\n",
       "0    0.42  0.259259    0.018692  0.000000  0.170520      0.000000   \n",
       "1    0.48  0.370370    0.383178  0.013333  0.023121      0.006333   \n",
       "2    0.52  0.740741    0.551402  0.007111  0.008671      0.014333   \n",
       "3    0.54  0.407407    0.504673  0.000000  0.005780      0.008667   \n",
       "4    0.36  0.555556    0.775701  0.012444  0.040462      0.007667   \n",
       "\n",
       "   second yellow cards  red cards  goals conceded  clean sheets  ...  \\\n",
       "0                 0.00   0.000000             0.0           0.0  ...   \n",
       "1                 0.00   0.000000             0.0           0.0  ...   \n",
       "2                 0.03   0.004335             0.0           0.0  ...   \n",
       "3                 0.00   0.005780             0.0           0.0  ...   \n",
       "4                 0.00   0.000000             0.0           0.0  ...   \n",
       "\n",
       "   team_Wolfsberger AC  team_Wolverhampton Wanderers  \\\n",
       "0                  0.0                           0.0   \n",
       "1                  0.0                           0.0   \n",
       "2                  0.0                           0.0   \n",
       "3                  0.0                           0.0   \n",
       "4                  0.0                           0.0   \n",
       "\n",
       "   team_Yokohama F. Marinos  team_Yokohama FC  team_Zenit St. Petersburg  \\\n",
       "0                       0.0               0.0                        0.0   \n",
       "1                       0.0               0.0                        0.0   \n",
       "2                       0.0               0.0                        0.0   \n",
       "3                       0.0               0.0                        0.0   \n",
       "4                       0.0               0.0                        0.0   \n",
       "\n",
       "   team_Ümraniyespor  position_ATT  position_DF  position_GK  position_MF  \n",
       "0                0.0           0.0          1.0          0.0          0.0  \n",
       "1                0.0           0.0          1.0          0.0          0.0  \n",
       "2                0.0           0.0          0.0          0.0          1.0  \n",
       "3                0.0           0.0          1.0          0.0          0.0  \n",
       "4                0.0           0.0          0.0          0.0          1.0  \n",
       "\n",
       "[5 rows x 393 columns]"
      ]
     },
     "execution_count": 64,
     "metadata": {},
     "output_type": "execute_result"
    }
   ],
   "source": [
    "X_train_norm = pd.DataFrame(X_train_norm, columns = X_train.columns)\n",
    "X_train_norm.head()"
   ]
  },
  {
   "cell_type": "code",
   "execution_count": 65,
   "metadata": {},
   "outputs": [
    {
     "data": {
      "text/html": [
       "<div>\n",
       "<style scoped>\n",
       "    .dataframe tbody tr th:only-of-type {\n",
       "        vertical-align: middle;\n",
       "    }\n",
       "\n",
       "    .dataframe tbody tr th {\n",
       "        vertical-align: top;\n",
       "    }\n",
       "\n",
       "    .dataframe thead th {\n",
       "        text-align: right;\n",
       "    }\n",
       "</style>\n",
       "<table border=\"1\" class=\"dataframe\">\n",
       "  <thead>\n",
       "    <tr style=\"text-align: right;\">\n",
       "      <th></th>\n",
       "      <th>height</th>\n",
       "      <th>age</th>\n",
       "      <th>appearance</th>\n",
       "      <th>goals</th>\n",
       "      <th>assists</th>\n",
       "      <th>yellow cards</th>\n",
       "      <th>second yellow cards</th>\n",
       "      <th>red cards</th>\n",
       "      <th>goals conceded</th>\n",
       "      <th>clean sheets</th>\n",
       "      <th>...</th>\n",
       "      <th>team_Wolfsberger AC</th>\n",
       "      <th>team_Wolverhampton Wanderers</th>\n",
       "      <th>team_Yokohama F. Marinos</th>\n",
       "      <th>team_Yokohama FC</th>\n",
       "      <th>team_Zenit St. Petersburg</th>\n",
       "      <th>team_Ümraniyespor</th>\n",
       "      <th>position_ATT</th>\n",
       "      <th>position_DF</th>\n",
       "      <th>position_GK</th>\n",
       "      <th>position_MF</th>\n",
       "    </tr>\n",
       "  </thead>\n",
       "  <tbody>\n",
       "    <tr>\n",
       "      <th>0</th>\n",
       "      <td>0.7000</td>\n",
       "      <td>0.296296</td>\n",
       "      <td>0.542056</td>\n",
       "      <td>0.001778</td>\n",
       "      <td>0.000000</td>\n",
       "      <td>0.006667</td>\n",
       "      <td>0.0</td>\n",
       "      <td>0.00289</td>\n",
       "      <td>0.0</td>\n",
       "      <td>0.0</td>\n",
       "      <td>...</td>\n",
       "      <td>0.0</td>\n",
       "      <td>0.0</td>\n",
       "      <td>0.0</td>\n",
       "      <td>0.0</td>\n",
       "      <td>0.0</td>\n",
       "      <td>0.0</td>\n",
       "      <td>0.0</td>\n",
       "      <td>1.0</td>\n",
       "      <td>0.0</td>\n",
       "      <td>0.0</td>\n",
       "    </tr>\n",
       "    <tr>\n",
       "      <th>1</th>\n",
       "      <td>0.4600</td>\n",
       "      <td>0.666667</td>\n",
       "      <td>0.046729</td>\n",
       "      <td>0.000000</td>\n",
       "      <td>0.000000</td>\n",
       "      <td>0.000000</td>\n",
       "      <td>0.0</td>\n",
       "      <td>0.00000</td>\n",
       "      <td>0.0</td>\n",
       "      <td>0.0</td>\n",
       "      <td>...</td>\n",
       "      <td>0.0</td>\n",
       "      <td>0.0</td>\n",
       "      <td>0.0</td>\n",
       "      <td>0.0</td>\n",
       "      <td>0.0</td>\n",
       "      <td>0.0</td>\n",
       "      <td>0.0</td>\n",
       "      <td>0.0</td>\n",
       "      <td>0.0</td>\n",
       "      <td>1.0</td>\n",
       "    </tr>\n",
       "    <tr>\n",
       "      <th>2</th>\n",
       "      <td>0.5048</td>\n",
       "      <td>0.555556</td>\n",
       "      <td>0.158879</td>\n",
       "      <td>0.040889</td>\n",
       "      <td>0.089595</td>\n",
       "      <td>0.005000</td>\n",
       "      <td>0.0</td>\n",
       "      <td>0.00000</td>\n",
       "      <td>0.0</td>\n",
       "      <td>0.0</td>\n",
       "      <td>...</td>\n",
       "      <td>0.0</td>\n",
       "      <td>0.0</td>\n",
       "      <td>0.0</td>\n",
       "      <td>0.0</td>\n",
       "      <td>0.0</td>\n",
       "      <td>0.0</td>\n",
       "      <td>1.0</td>\n",
       "      <td>0.0</td>\n",
       "      <td>0.0</td>\n",
       "      <td>0.0</td>\n",
       "    </tr>\n",
       "    <tr>\n",
       "      <th>3</th>\n",
       "      <td>0.4600</td>\n",
       "      <td>0.333333</td>\n",
       "      <td>0.028037</td>\n",
       "      <td>0.000000</td>\n",
       "      <td>0.341040</td>\n",
       "      <td>0.000000</td>\n",
       "      <td>0.0</td>\n",
       "      <td>0.00000</td>\n",
       "      <td>0.0</td>\n",
       "      <td>0.0</td>\n",
       "      <td>...</td>\n",
       "      <td>0.0</td>\n",
       "      <td>0.0</td>\n",
       "      <td>0.0</td>\n",
       "      <td>0.0</td>\n",
       "      <td>0.0</td>\n",
       "      <td>0.0</td>\n",
       "      <td>1.0</td>\n",
       "      <td>0.0</td>\n",
       "      <td>0.0</td>\n",
       "      <td>0.0</td>\n",
       "    </tr>\n",
       "    <tr>\n",
       "      <th>4</th>\n",
       "      <td>0.4800</td>\n",
       "      <td>0.481481</td>\n",
       "      <td>0.429907</td>\n",
       "      <td>0.001778</td>\n",
       "      <td>0.005780</td>\n",
       "      <td>0.009000</td>\n",
       "      <td>0.0</td>\n",
       "      <td>0.00000</td>\n",
       "      <td>0.0</td>\n",
       "      <td>0.0</td>\n",
       "      <td>...</td>\n",
       "      <td>0.0</td>\n",
       "      <td>0.0</td>\n",
       "      <td>0.0</td>\n",
       "      <td>0.0</td>\n",
       "      <td>0.0</td>\n",
       "      <td>0.0</td>\n",
       "      <td>0.0</td>\n",
       "      <td>1.0</td>\n",
       "      <td>0.0</td>\n",
       "      <td>0.0</td>\n",
       "    </tr>\n",
       "  </tbody>\n",
       "</table>\n",
       "<p>5 rows × 393 columns</p>\n",
       "</div>"
      ],
      "text/plain": [
       "   height       age  appearance     goals   assists  yellow cards  \\\n",
       "0  0.7000  0.296296    0.542056  0.001778  0.000000      0.006667   \n",
       "1  0.4600  0.666667    0.046729  0.000000  0.000000      0.000000   \n",
       "2  0.5048  0.555556    0.158879  0.040889  0.089595      0.005000   \n",
       "3  0.4600  0.333333    0.028037  0.000000  0.341040      0.000000   \n",
       "4  0.4800  0.481481    0.429907  0.001778  0.005780      0.009000   \n",
       "\n",
       "   second yellow cards  red cards  goals conceded  clean sheets  ...  \\\n",
       "0                  0.0    0.00289             0.0           0.0  ...   \n",
       "1                  0.0    0.00000             0.0           0.0  ...   \n",
       "2                  0.0    0.00000             0.0           0.0  ...   \n",
       "3                  0.0    0.00000             0.0           0.0  ...   \n",
       "4                  0.0    0.00000             0.0           0.0  ...   \n",
       "\n",
       "   team_Wolfsberger AC  team_Wolverhampton Wanderers  \\\n",
       "0                  0.0                           0.0   \n",
       "1                  0.0                           0.0   \n",
       "2                  0.0                           0.0   \n",
       "3                  0.0                           0.0   \n",
       "4                  0.0                           0.0   \n",
       "\n",
       "   team_Yokohama F. Marinos  team_Yokohama FC  team_Zenit St. Petersburg  \\\n",
       "0                       0.0               0.0                        0.0   \n",
       "1                       0.0               0.0                        0.0   \n",
       "2                       0.0               0.0                        0.0   \n",
       "3                       0.0               0.0                        0.0   \n",
       "4                       0.0               0.0                        0.0   \n",
       "\n",
       "   team_Ümraniyespor  position_ATT  position_DF  position_GK  position_MF  \n",
       "0                0.0           0.0          1.0          0.0          0.0  \n",
       "1                0.0           0.0          0.0          0.0          1.0  \n",
       "2                0.0           1.0          0.0          0.0          0.0  \n",
       "3                0.0           1.0          0.0          0.0          0.0  \n",
       "4                0.0           0.0          1.0          0.0          0.0  \n",
       "\n",
       "[5 rows x 393 columns]"
      ]
     },
     "execution_count": 65,
     "metadata": {},
     "output_type": "execute_result"
    }
   ],
   "source": [
    "X_test_norm = pd.DataFrame(X_test_norm, columns = X_test.columns)\n",
    "X_test_norm.head()"
   ]
  },
  {
   "cell_type": "markdown",
   "metadata": {},
   "source": [
    "- Use KNN"
   ]
  },
  {
   "cell_type": "code",
   "execution_count": 66,
   "metadata": {},
   "outputs": [],
   "source": [
    "X_train, X_test, y_train, y_test = train_test_split(features, target, test_size = 0.20, random_state=0)"
   ]
  },
  {
   "cell_type": "code",
   "execution_count": 74,
   "metadata": {},
   "outputs": [],
   "source": [
    "knn = KNeighborsRegressor(n_neighbors=10)"
   ]
  },
  {
   "cell_type": "code",
   "execution_count": 72,
   "metadata": {},
   "outputs": [
    {
     "data": {
      "text/html": [
       "<style>#sk-container-id-8 {color: black;background-color: white;}#sk-container-id-8 pre{padding: 0;}#sk-container-id-8 div.sk-toggleable {background-color: white;}#sk-container-id-8 label.sk-toggleable__label {cursor: pointer;display: block;width: 100%;margin-bottom: 0;padding: 0.3em;box-sizing: border-box;text-align: center;}#sk-container-id-8 label.sk-toggleable__label-arrow:before {content: \"▸\";float: left;margin-right: 0.25em;color: #696969;}#sk-container-id-8 label.sk-toggleable__label-arrow:hover:before {color: black;}#sk-container-id-8 div.sk-estimator:hover label.sk-toggleable__label-arrow:before {color: black;}#sk-container-id-8 div.sk-toggleable__content {max-height: 0;max-width: 0;overflow: hidden;text-align: left;background-color: #f0f8ff;}#sk-container-id-8 div.sk-toggleable__content pre {margin: 0.2em;color: black;border-radius: 0.25em;background-color: #f0f8ff;}#sk-container-id-8 input.sk-toggleable__control:checked~div.sk-toggleable__content {max-height: 200px;max-width: 100%;overflow: auto;}#sk-container-id-8 input.sk-toggleable__control:checked~label.sk-toggleable__label-arrow:before {content: \"▾\";}#sk-container-id-8 div.sk-estimator input.sk-toggleable__control:checked~label.sk-toggleable__label {background-color: #d4ebff;}#sk-container-id-8 div.sk-label input.sk-toggleable__control:checked~label.sk-toggleable__label {background-color: #d4ebff;}#sk-container-id-8 input.sk-hidden--visually {border: 0;clip: rect(1px 1px 1px 1px);clip: rect(1px, 1px, 1px, 1px);height: 1px;margin: -1px;overflow: hidden;padding: 0;position: absolute;width: 1px;}#sk-container-id-8 div.sk-estimator {font-family: monospace;background-color: #f0f8ff;border: 1px dotted black;border-radius: 0.25em;box-sizing: border-box;margin-bottom: 0.5em;}#sk-container-id-8 div.sk-estimator:hover {background-color: #d4ebff;}#sk-container-id-8 div.sk-parallel-item::after {content: \"\";width: 100%;border-bottom: 1px solid gray;flex-grow: 1;}#sk-container-id-8 div.sk-label:hover label.sk-toggleable__label {background-color: #d4ebff;}#sk-container-id-8 div.sk-serial::before {content: \"\";position: absolute;border-left: 1px solid gray;box-sizing: border-box;top: 0;bottom: 0;left: 50%;z-index: 0;}#sk-container-id-8 div.sk-serial {display: flex;flex-direction: column;align-items: center;background-color: white;padding-right: 0.2em;padding-left: 0.2em;position: relative;}#sk-container-id-8 div.sk-item {position: relative;z-index: 1;}#sk-container-id-8 div.sk-parallel {display: flex;align-items: stretch;justify-content: center;background-color: white;position: relative;}#sk-container-id-8 div.sk-item::before, #sk-container-id-8 div.sk-parallel-item::before {content: \"\";position: absolute;border-left: 1px solid gray;box-sizing: border-box;top: 0;bottom: 0;left: 50%;z-index: -1;}#sk-container-id-8 div.sk-parallel-item {display: flex;flex-direction: column;z-index: 1;position: relative;background-color: white;}#sk-container-id-8 div.sk-parallel-item:first-child::after {align-self: flex-end;width: 50%;}#sk-container-id-8 div.sk-parallel-item:last-child::after {align-self: flex-start;width: 50%;}#sk-container-id-8 div.sk-parallel-item:only-child::after {width: 0;}#sk-container-id-8 div.sk-dashed-wrapped {border: 1px dashed gray;margin: 0 0.4em 0.5em 0.4em;box-sizing: border-box;padding-bottom: 0.4em;background-color: white;}#sk-container-id-8 div.sk-label label {font-family: monospace;font-weight: bold;display: inline-block;line-height: 1.2em;}#sk-container-id-8 div.sk-label-container {text-align: center;}#sk-container-id-8 div.sk-container {/* jupyter's `normalize.less` sets `[hidden] { display: none; }` but bootstrap.min.css set `[hidden] { display: none !important; }` so we also need the `!important` here to be able to override the default hidden behavior on the sphinx rendered scikit-learn.org. See: https://github.com/scikit-learn/scikit-learn/issues/21755 */display: inline-block !important;position: relative;}#sk-container-id-8 div.sk-text-repr-fallback {display: none;}</style><div id=\"sk-container-id-8\" class=\"sk-top-container\"><div class=\"sk-text-repr-fallback\"><pre>KNeighborsRegressor(n_neighbors=10)</pre><b>In a Jupyter environment, please rerun this cell to show the HTML representation or trust the notebook. <br />On GitHub, the HTML representation is unable to render, please try loading this page with nbviewer.org.</b></div><div class=\"sk-container\" hidden><div class=\"sk-item\"><div class=\"sk-estimator sk-toggleable\"><input class=\"sk-toggleable__control sk-hidden--visually\" id=\"sk-estimator-id-8\" type=\"checkbox\" checked><label for=\"sk-estimator-id-8\" class=\"sk-toggleable__label sk-toggleable__label-arrow\">KNeighborsRegressor</label><div class=\"sk-toggleable__content\"><pre>KNeighborsRegressor(n_neighbors=10)</pre></div></div></div></div></div>"
      ],
      "text/plain": [
       "KNeighborsRegressor(n_neighbors=10)"
      ]
     },
     "execution_count": 72,
     "metadata": {},
     "output_type": "execute_result"
    }
   ],
   "source": [
    "knn = KNeighborsRegressor(n_neighbors=10)\n",
    "knn.fit(X_train_norm, y_train)"
   ]
  },
  {
   "cell_type": "code",
   "execution_count": 73,
   "metadata": {},
   "outputs": [],
   "source": [
    "pred = knn.predict(X_test_norm)"
   ]
  },
  {
   "cell_type": "code",
   "execution_count": 75,
   "metadata": {},
   "outputs": [
    {
     "name": "stdout",
     "output_type": "stream",
     "text": [
      "MAE: 1849782.659228266\n",
      "RMSE: 4573083.093609313\n",
      "R2 score: 0.7203241576374929\n"
     ]
    }
   ],
   "source": [
    "from sklearn.metrics import mean_absolute_error, mean_squared_error, r2_score\n",
    "print(\"MAE:\", mean_absolute_error(y_test, pred))\n",
    "print(\"RMSE:\", mean_squared_error(y_test, pred, squared=False))\n",
    "print(\"R2 score:\", r2_score(y_test, pred))"
   ]
  },
  {
   "cell_type": "code",
   "execution_count": null,
   "metadata": {},
   "outputs": [],
   "source": [
    "# R2 = 1 --> PERFECTO, 0,6 = GUAY.\n",
    "#MAE: De promedio me equivoco en un millón de dólares\n",
    "#rmse --> measures the extreme values errors --> useful to compare different models"
   ]
  },
  {
   "cell_type": "code",
   "execution_count": null,
   "metadata": {},
   "outputs": [],
   "source": [
    "#use random forest, xgboost. Then optimize hyperparameters with randomsearch"
   ]
  }
 ],
 "metadata": {
  "kernelspec": {
   "display_name": "base",
   "language": "python",
   "name": "python3"
  },
  "language_info": {
   "codemirror_mode": {
    "name": "ipython",
    "version": 3
   },
   "file_extension": ".py",
   "mimetype": "text/x-python",
   "name": "python",
   "nbconvert_exporter": "python",
   "pygments_lexer": "ipython3",
   "version": "3.11.7"
  }
 },
 "nbformat": 4,
 "nbformat_minor": 2
}
